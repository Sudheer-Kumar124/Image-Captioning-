{
  "cells": [
    {
      "cell_type": "code",
      "execution_count": 1,
      "metadata": {
        "colab": {
          "base_uri": "https://localhost:8080/"
        },
        "id": "MTy3PEjfUQ5c",
        "outputId": "ad9ddbba-eff8-4238-ddf2-215dc568bab3"
      },
      "outputs": [
        {
          "output_type": "stream",
          "name": "stdout",
          "text": [
            "Requirement already satisfied: kaggle in /usr/local/lib/python3.10/dist-packages (1.6.14)\n",
            "Requirement already satisfied: six>=1.10 in /usr/local/lib/python3.10/dist-packages (from kaggle) (1.16.0)\n",
            "Requirement already satisfied: certifi>=2023.7.22 in /usr/local/lib/python3.10/dist-packages (from kaggle) (2024.6.2)\n",
            "Requirement already satisfied: python-dateutil in /usr/local/lib/python3.10/dist-packages (from kaggle) (2.8.2)\n",
            "Requirement already satisfied: requests in /usr/local/lib/python3.10/dist-packages (from kaggle) (2.31.0)\n",
            "Requirement already satisfied: tqdm in /usr/local/lib/python3.10/dist-packages (from kaggle) (4.66.4)\n",
            "Requirement already satisfied: python-slugify in /usr/local/lib/python3.10/dist-packages (from kaggle) (8.0.4)\n",
            "Requirement already satisfied: urllib3 in /usr/local/lib/python3.10/dist-packages (from kaggle) (2.0.7)\n",
            "Requirement already satisfied: bleach in /usr/local/lib/python3.10/dist-packages (from kaggle) (6.1.0)\n",
            "Requirement already satisfied: webencodings in /usr/local/lib/python3.10/dist-packages (from bleach->kaggle) (0.5.1)\n",
            "Requirement already satisfied: text-unidecode>=1.3 in /usr/local/lib/python3.10/dist-packages (from python-slugify->kaggle) (1.3)\n",
            "Requirement already satisfied: charset-normalizer<4,>=2 in /usr/local/lib/python3.10/dist-packages (from requests->kaggle) (3.3.2)\n",
            "Requirement already satisfied: idna<4,>=2.5 in /usr/local/lib/python3.10/dist-packages (from requests->kaggle) (3.7)\n"
          ]
        }
      ],
      "source": [
        "pip install kaggle"
      ]
    },
    {
      "cell_type": "code",
      "execution_count": 2,
      "metadata": {
        "id": "SRL3KX8XUTaN"
      },
      "outputs": [],
      "source": [
        " mkdir ~/.kaggle"
      ]
    },
    {
      "cell_type": "code",
      "execution_count": 3,
      "metadata": {
        "id": "9tkP0m9YUY2U",
        "colab": {
          "base_uri": "https://localhost:8080/"
        },
        "outputId": "8ee5542d-8e53-4159-d3e2-d815271eec1f"
      },
      "outputs": [
        {
          "output_type": "stream",
          "name": "stdout",
          "text": [
            "cp: cannot stat 'kaggle.json': No such file or directory\n"
          ]
        }
      ],
      "source": [
        " cp kaggle.json ~/.kaggle/"
      ]
    },
    {
      "cell_type": "code",
      "execution_count": 4,
      "metadata": {
        "id": "D3wwSB5QVFSo",
        "colab": {
          "base_uri": "https://localhost:8080/"
        },
        "outputId": "c1c3d130-5a0a-4595-b8a1-306ac3e7c14b"
      },
      "outputs": [
        {
          "output_type": "stream",
          "name": "stdout",
          "text": [
            "chmod: cannot access '/root/.kaggle/kaggle.json': No such file or directory\n"
          ]
        }
      ],
      "source": [
        " !chmod 600 ~/.kaggle/kaggle.json"
      ]
    },
    {
      "cell_type": "code",
      "execution_count": 5,
      "metadata": {
        "colab": {
          "base_uri": "https://localhost:8080/"
        },
        "id": "UFrgOZFpVqUb",
        "outputId": "bf730577-b3d3-4e2f-d416-cb75b11b330a"
      },
      "outputs": [
        {
          "output_type": "stream",
          "name": "stdout",
          "text": [
            "/bin/bash: line 1: https://www.kaggle.com/datasets/virajbagal/roco-dataset: No such file or directory\n"
          ]
        }
      ],
      "source": [
        "!https://www.kaggle.com/datasets/virajbagal/roco-dataset"
      ]
    },
    {
      "cell_type": "code",
      "execution_count": 6,
      "metadata": {
        "colab": {
          "base_uri": "https://localhost:8080/"
        },
        "id": "WEEfZ_ZBV1oF",
        "outputId": "5fe8ce6b-6636-4495-8729-974b56e6c168"
      },
      "outputs": [
        {
          "output_type": "stream",
          "name": "stdout",
          "text": [
            "Dataset URL: https://www.kaggle.com/datasets/virajbagal/roco-dataset\n",
            "License(s): CC0-1.0\n",
            "Downloading roco-dataset.zip to /content\n",
            "100% 6.19G/6.19G [05:01<00:00, 16.3MB/s]\n",
            "100% 6.19G/6.19G [05:01<00:00, 22.1MB/s]\n"
          ]
        }
      ],
      "source": [
        "# downloading the dataset as a zip file\n",
        "! kaggle datasets download virajbagal/roco-dataset"
      ]
    },
    {
      "cell_type": "code",
      "execution_count": null,
      "metadata": {
        "id": "qi6hUvfCXJy-"
      },
      "outputs": [],
      "source": [
        "# unziping the downloaded zip file\n",
        "! unzip roco-dataset.zip"
      ]
    },
    {
      "cell_type": "code",
      "source": [
        "import pandas as pd\n",
        "import os\n",
        "from PIL import Image\n",
        "from PIL import UnidentifiedImageError\n",
        "import numpy as np\n",
        "import re\n",
        "from nltk.corpus import stopwords\n",
        "from nltk.stem import PorterStemmer, WordNetLemmatizer\n",
        "import spacy\n",
        "import nltk\n",
        "import torch\n",
        "import torchvision.transforms as transforms\n"
      ],
      "metadata": {
        "id": "CPcEuxguhHj9"
      },
      "execution_count": 8,
      "outputs": []
    },
    {
      "cell_type": "code",
      "execution_count": 9,
      "metadata": {
        "colab": {
          "base_uri": "https://localhost:8080/"
        },
        "id": "b-kg5BTPRMcH",
        "outputId": "1c7a765e-f253-49e8-94a8-c4001fb0f487"
      },
      "outputs": [
        {
          "output_type": "stream",
          "name": "stderr",
          "text": [
            "[nltk_data] Downloading package stopwords to /root/nltk_data...\n",
            "[nltk_data]   Unzipping corpora/stopwords.zip.\n",
            "[nltk_data] Downloading package wordnet to /root/nltk_data...\n",
            "[nltk_data] Downloading package omw-1.4 to /root/nltk_data...\n"
          ]
        },
        {
          "output_type": "execute_result",
          "data": {
            "text/plain": [
              "True"
            ]
          },
          "metadata": {},
          "execution_count": 9
        }
      ],
      "source": [
        "# downloading the necessaries to proceed with data preprocessing\n",
        "nlp = spacy.load(\"en_core_web_sm\")\n",
        "nltk.download('stopwords')\n",
        "nltk.download('wordnet')\n",
        "nltk.download('omw-1.4')"
      ]
    },
    {
      "cell_type": "code",
      "execution_count": 10,
      "metadata": {
        "id": "ErZkEPUlRV6c"
      },
      "outputs": [],
      "source": [
        "def preprocess_text(text):\n",
        "    text = text.lower()\n",
        "    text = re.sub(r'http\\S+|www\\S+|ftp\\S+', '', text) # removing the links\n",
        "    text = text.replace('\\n', ' ') # removing the new lines\n",
        "    text = re.sub(r'\\w*\\d\\w*', '', text) # removing the words containing numbers\n",
        "    text = re.sub(r'\\s+', ' ', text).strip() # removing the spaces\n",
        "    text = re.sub(r'[^\\w\\s]', '', text) # removing special characters\n",
        "    words = text.split()\n",
        "    stop_words = set(stopwords.words('english'))\n",
        "    words = [word for word in words if word not in stop_words] # considering only normal words\n",
        "    stemmer = PorterStemmer()\n",
        "    words = [stemmer.stem(word) for word in words] # considering the stemmed words\n",
        "    lemmatizer = WordNetLemmatizer()\n",
        "    words = [lemmatizer.lemmatize(word) for word in words] #considering the lemmatized words\n",
        "    text = ' '.join(words)\n",
        "    return text"
      ]
    },
    {
      "cell_type": "code",
      "execution_count": 11,
      "metadata": {
        "id": "Mu5HUt4IRkxi"
      },
      "outputs": [],
      "source": [
        "caption_df = pd.read_csv('/content/all_data/train/radiologytraindata.csv')"
      ]
    },
    {
      "cell_type": "code",
      "source": [
        "caption_df.head()\n"
      ],
      "metadata": {
        "colab": {
          "base_uri": "https://localhost:8080/",
          "height": 206
        },
        "id": "plXBrDoqc5tB",
        "outputId": "375c3d3b-558c-4bf6-f319-f0a8ff46bbfa"
      },
      "execution_count": 12,
      "outputs": [
        {
          "output_type": "execute_result",
          "data": {
            "text/plain": [
              "           id                                    name  \\\n",
              "0  ROCO_00002          PMC4083729_AMHSR-4-14-g002.jpg   \n",
              "1  ROCO_00003       PMC2837471_IJD2009-150251.001.jpg   \n",
              "2  ROCO_00004  PMC2505281_11999_2007_30_Fig6_HTML.jpg   \n",
              "3  ROCO_00005       PMC3745845_IJD2013-683423.005.jpg   \n",
              "4  ROCO_00007   PMC4917066_amjcaserep-17-301-g001.jpg   \n",
              "\n",
              "                                             caption  \n",
              "0   Computed tomography scan in axial view showin...  \n",
              "1   Bacterial contamination occurred after comple...  \n",
              "2   The patient had residual paralysis of the han...  \n",
              "3    Panoramic radiograph after immediate loading.\\n  \n",
              "4   Plain abdomen x-ray: Multiple air levels at t...  "
            ],
            "text/html": [
              "\n",
              "  <div id=\"df-0703a27c-519e-42e8-a55f-28bbe63e37e7\" class=\"colab-df-container\">\n",
              "    <div>\n",
              "<style scoped>\n",
              "    .dataframe tbody tr th:only-of-type {\n",
              "        vertical-align: middle;\n",
              "    }\n",
              "\n",
              "    .dataframe tbody tr th {\n",
              "        vertical-align: top;\n",
              "    }\n",
              "\n",
              "    .dataframe thead th {\n",
              "        text-align: right;\n",
              "    }\n",
              "</style>\n",
              "<table border=\"1\" class=\"dataframe\">\n",
              "  <thead>\n",
              "    <tr style=\"text-align: right;\">\n",
              "      <th></th>\n",
              "      <th>id</th>\n",
              "      <th>name</th>\n",
              "      <th>caption</th>\n",
              "    </tr>\n",
              "  </thead>\n",
              "  <tbody>\n",
              "    <tr>\n",
              "      <th>0</th>\n",
              "      <td>ROCO_00002</td>\n",
              "      <td>PMC4083729_AMHSR-4-14-g002.jpg</td>\n",
              "      <td>Computed tomography scan in axial view showin...</td>\n",
              "    </tr>\n",
              "    <tr>\n",
              "      <th>1</th>\n",
              "      <td>ROCO_00003</td>\n",
              "      <td>PMC2837471_IJD2009-150251.001.jpg</td>\n",
              "      <td>Bacterial contamination occurred after comple...</td>\n",
              "    </tr>\n",
              "    <tr>\n",
              "      <th>2</th>\n",
              "      <td>ROCO_00004</td>\n",
              "      <td>PMC2505281_11999_2007_30_Fig6_HTML.jpg</td>\n",
              "      <td>The patient had residual paralysis of the han...</td>\n",
              "    </tr>\n",
              "    <tr>\n",
              "      <th>3</th>\n",
              "      <td>ROCO_00005</td>\n",
              "      <td>PMC3745845_IJD2013-683423.005.jpg</td>\n",
              "      <td>Panoramic radiograph after immediate loading.\\n</td>\n",
              "    </tr>\n",
              "    <tr>\n",
              "      <th>4</th>\n",
              "      <td>ROCO_00007</td>\n",
              "      <td>PMC4917066_amjcaserep-17-301-g001.jpg</td>\n",
              "      <td>Plain abdomen x-ray: Multiple air levels at t...</td>\n",
              "    </tr>\n",
              "  </tbody>\n",
              "</table>\n",
              "</div>\n",
              "    <div class=\"colab-df-buttons\">\n",
              "\n",
              "  <div class=\"colab-df-container\">\n",
              "    <button class=\"colab-df-convert\" onclick=\"convertToInteractive('df-0703a27c-519e-42e8-a55f-28bbe63e37e7')\"\n",
              "            title=\"Convert this dataframe to an interactive table.\"\n",
              "            style=\"display:none;\">\n",
              "\n",
              "  <svg xmlns=\"http://www.w3.org/2000/svg\" height=\"24px\" viewBox=\"0 -960 960 960\">\n",
              "    <path d=\"M120-120v-720h720v720H120Zm60-500h600v-160H180v160Zm220 220h160v-160H400v160Zm0 220h160v-160H400v160ZM180-400h160v-160H180v160Zm440 0h160v-160H620v160ZM180-180h160v-160H180v160Zm440 0h160v-160H620v160Z\"/>\n",
              "  </svg>\n",
              "    </button>\n",
              "\n",
              "  <style>\n",
              "    .colab-df-container {\n",
              "      display:flex;\n",
              "      gap: 12px;\n",
              "    }\n",
              "\n",
              "    .colab-df-convert {\n",
              "      background-color: #E8F0FE;\n",
              "      border: none;\n",
              "      border-radius: 50%;\n",
              "      cursor: pointer;\n",
              "      display: none;\n",
              "      fill: #1967D2;\n",
              "      height: 32px;\n",
              "      padding: 0 0 0 0;\n",
              "      width: 32px;\n",
              "    }\n",
              "\n",
              "    .colab-df-convert:hover {\n",
              "      background-color: #E2EBFA;\n",
              "      box-shadow: 0px 1px 2px rgba(60, 64, 67, 0.3), 0px 1px 3px 1px rgba(60, 64, 67, 0.15);\n",
              "      fill: #174EA6;\n",
              "    }\n",
              "\n",
              "    .colab-df-buttons div {\n",
              "      margin-bottom: 4px;\n",
              "    }\n",
              "\n",
              "    [theme=dark] .colab-df-convert {\n",
              "      background-color: #3B4455;\n",
              "      fill: #D2E3FC;\n",
              "    }\n",
              "\n",
              "    [theme=dark] .colab-df-convert:hover {\n",
              "      background-color: #434B5C;\n",
              "      box-shadow: 0px 1px 3px 1px rgba(0, 0, 0, 0.15);\n",
              "      filter: drop-shadow(0px 1px 2px rgba(0, 0, 0, 0.3));\n",
              "      fill: #FFFFFF;\n",
              "    }\n",
              "  </style>\n",
              "\n",
              "    <script>\n",
              "      const buttonEl =\n",
              "        document.querySelector('#df-0703a27c-519e-42e8-a55f-28bbe63e37e7 button.colab-df-convert');\n",
              "      buttonEl.style.display =\n",
              "        google.colab.kernel.accessAllowed ? 'block' : 'none';\n",
              "\n",
              "      async function convertToInteractive(key) {\n",
              "        const element = document.querySelector('#df-0703a27c-519e-42e8-a55f-28bbe63e37e7');\n",
              "        const dataTable =\n",
              "          await google.colab.kernel.invokeFunction('convertToInteractive',\n",
              "                                                    [key], {});\n",
              "        if (!dataTable) return;\n",
              "\n",
              "        const docLinkHtml = 'Like what you see? Visit the ' +\n",
              "          '<a target=\"_blank\" href=https://colab.research.google.com/notebooks/data_table.ipynb>data table notebook</a>'\n",
              "          + ' to learn more about interactive tables.';\n",
              "        element.innerHTML = '';\n",
              "        dataTable['output_type'] = 'display_data';\n",
              "        await google.colab.output.renderOutput(dataTable, element);\n",
              "        const docLink = document.createElement('div');\n",
              "        docLink.innerHTML = docLinkHtml;\n",
              "        element.appendChild(docLink);\n",
              "      }\n",
              "    </script>\n",
              "  </div>\n",
              "\n",
              "\n",
              "<div id=\"df-16c317aa-4839-41fc-bd28-8d97313810ad\">\n",
              "  <button class=\"colab-df-quickchart\" onclick=\"quickchart('df-16c317aa-4839-41fc-bd28-8d97313810ad')\"\n",
              "            title=\"Suggest charts\"\n",
              "            style=\"display:none;\">\n",
              "\n",
              "<svg xmlns=\"http://www.w3.org/2000/svg\" height=\"24px\"viewBox=\"0 0 24 24\"\n",
              "     width=\"24px\">\n",
              "    <g>\n",
              "        <path d=\"M19 3H5c-1.1 0-2 .9-2 2v14c0 1.1.9 2 2 2h14c1.1 0 2-.9 2-2V5c0-1.1-.9-2-2-2zM9 17H7v-7h2v7zm4 0h-2V7h2v10zm4 0h-2v-4h2v4z\"/>\n",
              "    </g>\n",
              "</svg>\n",
              "  </button>\n",
              "\n",
              "<style>\n",
              "  .colab-df-quickchart {\n",
              "      --bg-color: #E8F0FE;\n",
              "      --fill-color: #1967D2;\n",
              "      --hover-bg-color: #E2EBFA;\n",
              "      --hover-fill-color: #174EA6;\n",
              "      --disabled-fill-color: #AAA;\n",
              "      --disabled-bg-color: #DDD;\n",
              "  }\n",
              "\n",
              "  [theme=dark] .colab-df-quickchart {\n",
              "      --bg-color: #3B4455;\n",
              "      --fill-color: #D2E3FC;\n",
              "      --hover-bg-color: #434B5C;\n",
              "      --hover-fill-color: #FFFFFF;\n",
              "      --disabled-bg-color: #3B4455;\n",
              "      --disabled-fill-color: #666;\n",
              "  }\n",
              "\n",
              "  .colab-df-quickchart {\n",
              "    background-color: var(--bg-color);\n",
              "    border: none;\n",
              "    border-radius: 50%;\n",
              "    cursor: pointer;\n",
              "    display: none;\n",
              "    fill: var(--fill-color);\n",
              "    height: 32px;\n",
              "    padding: 0;\n",
              "    width: 32px;\n",
              "  }\n",
              "\n",
              "  .colab-df-quickchart:hover {\n",
              "    background-color: var(--hover-bg-color);\n",
              "    box-shadow: 0 1px 2px rgba(60, 64, 67, 0.3), 0 1px 3px 1px rgba(60, 64, 67, 0.15);\n",
              "    fill: var(--button-hover-fill-color);\n",
              "  }\n",
              "\n",
              "  .colab-df-quickchart-complete:disabled,\n",
              "  .colab-df-quickchart-complete:disabled:hover {\n",
              "    background-color: var(--disabled-bg-color);\n",
              "    fill: var(--disabled-fill-color);\n",
              "    box-shadow: none;\n",
              "  }\n",
              "\n",
              "  .colab-df-spinner {\n",
              "    border: 2px solid var(--fill-color);\n",
              "    border-color: transparent;\n",
              "    border-bottom-color: var(--fill-color);\n",
              "    animation:\n",
              "      spin 1s steps(1) infinite;\n",
              "  }\n",
              "\n",
              "  @keyframes spin {\n",
              "    0% {\n",
              "      border-color: transparent;\n",
              "      border-bottom-color: var(--fill-color);\n",
              "      border-left-color: var(--fill-color);\n",
              "    }\n",
              "    20% {\n",
              "      border-color: transparent;\n",
              "      border-left-color: var(--fill-color);\n",
              "      border-top-color: var(--fill-color);\n",
              "    }\n",
              "    30% {\n",
              "      border-color: transparent;\n",
              "      border-left-color: var(--fill-color);\n",
              "      border-top-color: var(--fill-color);\n",
              "      border-right-color: var(--fill-color);\n",
              "    }\n",
              "    40% {\n",
              "      border-color: transparent;\n",
              "      border-right-color: var(--fill-color);\n",
              "      border-top-color: var(--fill-color);\n",
              "    }\n",
              "    60% {\n",
              "      border-color: transparent;\n",
              "      border-right-color: var(--fill-color);\n",
              "    }\n",
              "    80% {\n",
              "      border-color: transparent;\n",
              "      border-right-color: var(--fill-color);\n",
              "      border-bottom-color: var(--fill-color);\n",
              "    }\n",
              "    90% {\n",
              "      border-color: transparent;\n",
              "      border-bottom-color: var(--fill-color);\n",
              "    }\n",
              "  }\n",
              "</style>\n",
              "\n",
              "  <script>\n",
              "    async function quickchart(key) {\n",
              "      const quickchartButtonEl =\n",
              "        document.querySelector('#' + key + ' button');\n",
              "      quickchartButtonEl.disabled = true;  // To prevent multiple clicks.\n",
              "      quickchartButtonEl.classList.add('colab-df-spinner');\n",
              "      try {\n",
              "        const charts = await google.colab.kernel.invokeFunction(\n",
              "            'suggestCharts', [key], {});\n",
              "      } catch (error) {\n",
              "        console.error('Error during call to suggestCharts:', error);\n",
              "      }\n",
              "      quickchartButtonEl.classList.remove('colab-df-spinner');\n",
              "      quickchartButtonEl.classList.add('colab-df-quickchart-complete');\n",
              "    }\n",
              "    (() => {\n",
              "      let quickchartButtonEl =\n",
              "        document.querySelector('#df-16c317aa-4839-41fc-bd28-8d97313810ad button');\n",
              "      quickchartButtonEl.style.display =\n",
              "        google.colab.kernel.accessAllowed ? 'block' : 'none';\n",
              "    })();\n",
              "  </script>\n",
              "</div>\n",
              "\n",
              "    </div>\n",
              "  </div>\n"
            ],
            "application/vnd.google.colaboratory.intrinsic+json": {
              "type": "dataframe",
              "variable_name": "caption_df",
              "summary": "{\n  \"name\": \"caption_df\",\n  \"rows\": 65450,\n  \"fields\": [\n    {\n      \"column\": \"id\",\n      \"properties\": {\n        \"dtype\": \"string\",\n        \"num_unique_values\": 65450,\n        \"samples\": [\n          \"ROCO_23122\",\n          \"ROCO_46080\",\n          \"ROCO_71189\"\n        ],\n        \"semantic_type\": \"\",\n        \"description\": \"\"\n      }\n    },\n    {\n      \"column\": \"name\",\n      \"properties\": {\n        \"dtype\": \"string\",\n        \"num_unique_values\": 65450,\n        \"samples\": [\n          \"PMC4852590_kjn-10-31-g001.jpg\",\n          \"PMC5155106_CRIS2016-5365647.001.jpg\",\n          \"PMC5587902_fig-2.jpg\"\n        ],\n        \"semantic_type\": \"\",\n        \"description\": \"\"\n      }\n    },\n    {\n      \"column\": \"caption\",\n      \"properties\": {\n        \"dtype\": \"string\",\n        \"num_unique_values\": 64772,\n        \"samples\": [\n          \" CAT scan of the skull and orbit showing non-enhancing, low-density, cystic lesion at the inferomedial margin of the left orbit (red arrow)CAT:\\u00a0computerized axial tomography\\n\",\n          \" Magnetic resonance angiography showing bilateral carotid body tumors at the level of the carotid bifurcation.\\n\",\n          \" Magnetic resonance imaging-scan; a 2 cm \\u00d7 1.7 cm \\u00d7 2.4 cm sharp defined hypointense suspect mass of 7 mm diameter was detected lateral to the right lateral pterygoid muscle and medial to the right temporal muscle\\n\"\n        ],\n        \"semantic_type\": \"\",\n        \"description\": \"\"\n      }\n    }\n  ]\n}"
            }
          },
          "metadata": {},
          "execution_count": 12
        }
      ]
    },
    {
      "cell_type": "code",
      "source": [
        "# applying the data preprocessing function to every caption and creating a new column\n",
        "caption_df['cleaned_caption'] = caption_df['caption'].apply(preprocess_text)"
      ],
      "metadata": {
        "id": "DgdzfVL5c8N_"
      },
      "execution_count": 13,
      "outputs": []
    },
    {
      "cell_type": "code",
      "source": [
        "caption_df.head()"
      ],
      "metadata": {
        "colab": {
          "base_uri": "https://localhost:8080/",
          "height": 206
        },
        "id": "5M98uc1oeJXB",
        "outputId": "25842ae8-f989-4eaa-c5e4-264a25fdeba8"
      },
      "execution_count": 14,
      "outputs": [
        {
          "output_type": "execute_result",
          "data": {
            "text/plain": [
              "           id                                    name  \\\n",
              "0  ROCO_00002          PMC4083729_AMHSR-4-14-g002.jpg   \n",
              "1  ROCO_00003       PMC2837471_IJD2009-150251.001.jpg   \n",
              "2  ROCO_00004  PMC2505281_11999_2007_30_Fig6_HTML.jpg   \n",
              "3  ROCO_00005       PMC3745845_IJD2013-683423.005.jpg   \n",
              "4  ROCO_00007   PMC4917066_amjcaserep-17-301-g001.jpg   \n",
              "\n",
              "                                             caption  \\\n",
              "0   Computed tomography scan in axial view showin...   \n",
              "1   Bacterial contamination occurred after comple...   \n",
              "2   The patient had residual paralysis of the han...   \n",
              "3    Panoramic radiograph after immediate loading.\\n   \n",
              "4   Plain abdomen x-ray: Multiple air levels at t...   \n",
              "\n",
              "                                     cleaned_caption  \n",
              "0  comput tomographi scan axial view show obliter...  \n",
              "1  bacteri contamin occur complet root canal trea...  \n",
              "2  patient residu paralysi hand poliomyel necessa...  \n",
              "3                     panoram radiograph immedi load  \n",
              "4  plain abdomen xray multipl air level midabdome...  "
            ],
            "text/html": [
              "\n",
              "  <div id=\"df-20c8e427-46d1-41b8-912b-fed3c683c33b\" class=\"colab-df-container\">\n",
              "    <div>\n",
              "<style scoped>\n",
              "    .dataframe tbody tr th:only-of-type {\n",
              "        vertical-align: middle;\n",
              "    }\n",
              "\n",
              "    .dataframe tbody tr th {\n",
              "        vertical-align: top;\n",
              "    }\n",
              "\n",
              "    .dataframe thead th {\n",
              "        text-align: right;\n",
              "    }\n",
              "</style>\n",
              "<table border=\"1\" class=\"dataframe\">\n",
              "  <thead>\n",
              "    <tr style=\"text-align: right;\">\n",
              "      <th></th>\n",
              "      <th>id</th>\n",
              "      <th>name</th>\n",
              "      <th>caption</th>\n",
              "      <th>cleaned_caption</th>\n",
              "    </tr>\n",
              "  </thead>\n",
              "  <tbody>\n",
              "    <tr>\n",
              "      <th>0</th>\n",
              "      <td>ROCO_00002</td>\n",
              "      <td>PMC4083729_AMHSR-4-14-g002.jpg</td>\n",
              "      <td>Computed tomography scan in axial view showin...</td>\n",
              "      <td>comput tomographi scan axial view show obliter...</td>\n",
              "    </tr>\n",
              "    <tr>\n",
              "      <th>1</th>\n",
              "      <td>ROCO_00003</td>\n",
              "      <td>PMC2837471_IJD2009-150251.001.jpg</td>\n",
              "      <td>Bacterial contamination occurred after comple...</td>\n",
              "      <td>bacteri contamin occur complet root canal trea...</td>\n",
              "    </tr>\n",
              "    <tr>\n",
              "      <th>2</th>\n",
              "      <td>ROCO_00004</td>\n",
              "      <td>PMC2505281_11999_2007_30_Fig6_HTML.jpg</td>\n",
              "      <td>The patient had residual paralysis of the han...</td>\n",
              "      <td>patient residu paralysi hand poliomyel necessa...</td>\n",
              "    </tr>\n",
              "    <tr>\n",
              "      <th>3</th>\n",
              "      <td>ROCO_00005</td>\n",
              "      <td>PMC3745845_IJD2013-683423.005.jpg</td>\n",
              "      <td>Panoramic radiograph after immediate loading.\\n</td>\n",
              "      <td>panoram radiograph immedi load</td>\n",
              "    </tr>\n",
              "    <tr>\n",
              "      <th>4</th>\n",
              "      <td>ROCO_00007</td>\n",
              "      <td>PMC4917066_amjcaserep-17-301-g001.jpg</td>\n",
              "      <td>Plain abdomen x-ray: Multiple air levels at t...</td>\n",
              "      <td>plain abdomen xray multipl air level midabdome...</td>\n",
              "    </tr>\n",
              "  </tbody>\n",
              "</table>\n",
              "</div>\n",
              "    <div class=\"colab-df-buttons\">\n",
              "\n",
              "  <div class=\"colab-df-container\">\n",
              "    <button class=\"colab-df-convert\" onclick=\"convertToInteractive('df-20c8e427-46d1-41b8-912b-fed3c683c33b')\"\n",
              "            title=\"Convert this dataframe to an interactive table.\"\n",
              "            style=\"display:none;\">\n",
              "\n",
              "  <svg xmlns=\"http://www.w3.org/2000/svg\" height=\"24px\" viewBox=\"0 -960 960 960\">\n",
              "    <path d=\"M120-120v-720h720v720H120Zm60-500h600v-160H180v160Zm220 220h160v-160H400v160Zm0 220h160v-160H400v160ZM180-400h160v-160H180v160Zm440 0h160v-160H620v160ZM180-180h160v-160H180v160Zm440 0h160v-160H620v160Z\"/>\n",
              "  </svg>\n",
              "    </button>\n",
              "\n",
              "  <style>\n",
              "    .colab-df-container {\n",
              "      display:flex;\n",
              "      gap: 12px;\n",
              "    }\n",
              "\n",
              "    .colab-df-convert {\n",
              "      background-color: #E8F0FE;\n",
              "      border: none;\n",
              "      border-radius: 50%;\n",
              "      cursor: pointer;\n",
              "      display: none;\n",
              "      fill: #1967D2;\n",
              "      height: 32px;\n",
              "      padding: 0 0 0 0;\n",
              "      width: 32px;\n",
              "    }\n",
              "\n",
              "    .colab-df-convert:hover {\n",
              "      background-color: #E2EBFA;\n",
              "      box-shadow: 0px 1px 2px rgba(60, 64, 67, 0.3), 0px 1px 3px 1px rgba(60, 64, 67, 0.15);\n",
              "      fill: #174EA6;\n",
              "    }\n",
              "\n",
              "    .colab-df-buttons div {\n",
              "      margin-bottom: 4px;\n",
              "    }\n",
              "\n",
              "    [theme=dark] .colab-df-convert {\n",
              "      background-color: #3B4455;\n",
              "      fill: #D2E3FC;\n",
              "    }\n",
              "\n",
              "    [theme=dark] .colab-df-convert:hover {\n",
              "      background-color: #434B5C;\n",
              "      box-shadow: 0px 1px 3px 1px rgba(0, 0, 0, 0.15);\n",
              "      filter: drop-shadow(0px 1px 2px rgba(0, 0, 0, 0.3));\n",
              "      fill: #FFFFFF;\n",
              "    }\n",
              "  </style>\n",
              "\n",
              "    <script>\n",
              "      const buttonEl =\n",
              "        document.querySelector('#df-20c8e427-46d1-41b8-912b-fed3c683c33b button.colab-df-convert');\n",
              "      buttonEl.style.display =\n",
              "        google.colab.kernel.accessAllowed ? 'block' : 'none';\n",
              "\n",
              "      async function convertToInteractive(key) {\n",
              "        const element = document.querySelector('#df-20c8e427-46d1-41b8-912b-fed3c683c33b');\n",
              "        const dataTable =\n",
              "          await google.colab.kernel.invokeFunction('convertToInteractive',\n",
              "                                                    [key], {});\n",
              "        if (!dataTable) return;\n",
              "\n",
              "        const docLinkHtml = 'Like what you see? Visit the ' +\n",
              "          '<a target=\"_blank\" href=https://colab.research.google.com/notebooks/data_table.ipynb>data table notebook</a>'\n",
              "          + ' to learn more about interactive tables.';\n",
              "        element.innerHTML = '';\n",
              "        dataTable['output_type'] = 'display_data';\n",
              "        await google.colab.output.renderOutput(dataTable, element);\n",
              "        const docLink = document.createElement('div');\n",
              "        docLink.innerHTML = docLinkHtml;\n",
              "        element.appendChild(docLink);\n",
              "      }\n",
              "    </script>\n",
              "  </div>\n",
              "\n",
              "\n",
              "<div id=\"df-6a10a757-98d0-4c8a-9e29-8aab21854b32\">\n",
              "  <button class=\"colab-df-quickchart\" onclick=\"quickchart('df-6a10a757-98d0-4c8a-9e29-8aab21854b32')\"\n",
              "            title=\"Suggest charts\"\n",
              "            style=\"display:none;\">\n",
              "\n",
              "<svg xmlns=\"http://www.w3.org/2000/svg\" height=\"24px\"viewBox=\"0 0 24 24\"\n",
              "     width=\"24px\">\n",
              "    <g>\n",
              "        <path d=\"M19 3H5c-1.1 0-2 .9-2 2v14c0 1.1.9 2 2 2h14c1.1 0 2-.9 2-2V5c0-1.1-.9-2-2-2zM9 17H7v-7h2v7zm4 0h-2V7h2v10zm4 0h-2v-4h2v4z\"/>\n",
              "    </g>\n",
              "</svg>\n",
              "  </button>\n",
              "\n",
              "<style>\n",
              "  .colab-df-quickchart {\n",
              "      --bg-color: #E8F0FE;\n",
              "      --fill-color: #1967D2;\n",
              "      --hover-bg-color: #E2EBFA;\n",
              "      --hover-fill-color: #174EA6;\n",
              "      --disabled-fill-color: #AAA;\n",
              "      --disabled-bg-color: #DDD;\n",
              "  }\n",
              "\n",
              "  [theme=dark] .colab-df-quickchart {\n",
              "      --bg-color: #3B4455;\n",
              "      --fill-color: #D2E3FC;\n",
              "      --hover-bg-color: #434B5C;\n",
              "      --hover-fill-color: #FFFFFF;\n",
              "      --disabled-bg-color: #3B4455;\n",
              "      --disabled-fill-color: #666;\n",
              "  }\n",
              "\n",
              "  .colab-df-quickchart {\n",
              "    background-color: var(--bg-color);\n",
              "    border: none;\n",
              "    border-radius: 50%;\n",
              "    cursor: pointer;\n",
              "    display: none;\n",
              "    fill: var(--fill-color);\n",
              "    height: 32px;\n",
              "    padding: 0;\n",
              "    width: 32px;\n",
              "  }\n",
              "\n",
              "  .colab-df-quickchart:hover {\n",
              "    background-color: var(--hover-bg-color);\n",
              "    box-shadow: 0 1px 2px rgba(60, 64, 67, 0.3), 0 1px 3px 1px rgba(60, 64, 67, 0.15);\n",
              "    fill: var(--button-hover-fill-color);\n",
              "  }\n",
              "\n",
              "  .colab-df-quickchart-complete:disabled,\n",
              "  .colab-df-quickchart-complete:disabled:hover {\n",
              "    background-color: var(--disabled-bg-color);\n",
              "    fill: var(--disabled-fill-color);\n",
              "    box-shadow: none;\n",
              "  }\n",
              "\n",
              "  .colab-df-spinner {\n",
              "    border: 2px solid var(--fill-color);\n",
              "    border-color: transparent;\n",
              "    border-bottom-color: var(--fill-color);\n",
              "    animation:\n",
              "      spin 1s steps(1) infinite;\n",
              "  }\n",
              "\n",
              "  @keyframes spin {\n",
              "    0% {\n",
              "      border-color: transparent;\n",
              "      border-bottom-color: var(--fill-color);\n",
              "      border-left-color: var(--fill-color);\n",
              "    }\n",
              "    20% {\n",
              "      border-color: transparent;\n",
              "      border-left-color: var(--fill-color);\n",
              "      border-top-color: var(--fill-color);\n",
              "    }\n",
              "    30% {\n",
              "      border-color: transparent;\n",
              "      border-left-color: var(--fill-color);\n",
              "      border-top-color: var(--fill-color);\n",
              "      border-right-color: var(--fill-color);\n",
              "    }\n",
              "    40% {\n",
              "      border-color: transparent;\n",
              "      border-right-color: var(--fill-color);\n",
              "      border-top-color: var(--fill-color);\n",
              "    }\n",
              "    60% {\n",
              "      border-color: transparent;\n",
              "      border-right-color: var(--fill-color);\n",
              "    }\n",
              "    80% {\n",
              "      border-color: transparent;\n",
              "      border-right-color: var(--fill-color);\n",
              "      border-bottom-color: var(--fill-color);\n",
              "    }\n",
              "    90% {\n",
              "      border-color: transparent;\n",
              "      border-bottom-color: var(--fill-color);\n",
              "    }\n",
              "  }\n",
              "</style>\n",
              "\n",
              "  <script>\n",
              "    async function quickchart(key) {\n",
              "      const quickchartButtonEl =\n",
              "        document.querySelector('#' + key + ' button');\n",
              "      quickchartButtonEl.disabled = true;  // To prevent multiple clicks.\n",
              "      quickchartButtonEl.classList.add('colab-df-spinner');\n",
              "      try {\n",
              "        const charts = await google.colab.kernel.invokeFunction(\n",
              "            'suggestCharts', [key], {});\n",
              "      } catch (error) {\n",
              "        console.error('Error during call to suggestCharts:', error);\n",
              "      }\n",
              "      quickchartButtonEl.classList.remove('colab-df-spinner');\n",
              "      quickchartButtonEl.classList.add('colab-df-quickchart-complete');\n",
              "    }\n",
              "    (() => {\n",
              "      let quickchartButtonEl =\n",
              "        document.querySelector('#df-6a10a757-98d0-4c8a-9e29-8aab21854b32 button');\n",
              "      quickchartButtonEl.style.display =\n",
              "        google.colab.kernel.accessAllowed ? 'block' : 'none';\n",
              "    })();\n",
              "  </script>\n",
              "</div>\n",
              "\n",
              "    </div>\n",
              "  </div>\n"
            ],
            "application/vnd.google.colaboratory.intrinsic+json": {
              "type": "dataframe",
              "variable_name": "caption_df",
              "summary": "{\n  \"name\": \"caption_df\",\n  \"rows\": 65450,\n  \"fields\": [\n    {\n      \"column\": \"id\",\n      \"properties\": {\n        \"dtype\": \"string\",\n        \"num_unique_values\": 65450,\n        \"samples\": [\n          \"ROCO_23122\",\n          \"ROCO_46080\",\n          \"ROCO_71189\"\n        ],\n        \"semantic_type\": \"\",\n        \"description\": \"\"\n      }\n    },\n    {\n      \"column\": \"name\",\n      \"properties\": {\n        \"dtype\": \"string\",\n        \"num_unique_values\": 65450,\n        \"samples\": [\n          \"PMC4852590_kjn-10-31-g001.jpg\",\n          \"PMC5155106_CRIS2016-5365647.001.jpg\",\n          \"PMC5587902_fig-2.jpg\"\n        ],\n        \"semantic_type\": \"\",\n        \"description\": \"\"\n      }\n    },\n    {\n      \"column\": \"caption\",\n      \"properties\": {\n        \"dtype\": \"string\",\n        \"num_unique_values\": 64772,\n        \"samples\": [\n          \" CAT scan of the skull and orbit showing non-enhancing, low-density, cystic lesion at the inferomedial margin of the left orbit (red arrow)CAT:\\u00a0computerized axial tomography\\n\",\n          \" Magnetic resonance angiography showing bilateral carotid body tumors at the level of the carotid bifurcation.\\n\",\n          \" Magnetic resonance imaging-scan; a 2 cm \\u00d7 1.7 cm \\u00d7 2.4 cm sharp defined hypointense suspect mass of 7 mm diameter was detected lateral to the right lateral pterygoid muscle and medial to the right temporal muscle\\n\"\n        ],\n        \"semantic_type\": \"\",\n        \"description\": \"\"\n      }\n    },\n    {\n      \"column\": \"cleaned_caption\",\n      \"properties\": {\n        \"dtype\": \"string\",\n        \"num_unique_values\": 64110,\n        \"samples\": [\n          \"measur sixdiffer method basilar invagin patient mcrae method b chamberlain method c mcgregor method redlundjohnel method e ranawat method f modifiedranawat method asterion odontoid tip\",\n          \"comput tomographi pleural metastasi indic arrow\",\n          \"fluoroscop imag left knee show introduc cannula simultan vent medial tibial condylar cyst\"\n        ],\n        \"semantic_type\": \"\",\n        \"description\": \"\"\n      }\n    }\n  ]\n}"
            }
          },
          "metadata": {},
          "execution_count": 14
        }
      ]
    },
    {
      "cell_type": "code",
      "source": [
        "# saving the updated dataframe to a csv file\n",
        "caption_df.to_csv('updated_captions.csv', index=False)"
      ],
      "metadata": {
        "id": "_VikB-_Qdq3H"
      },
      "execution_count": 15,
      "outputs": []
    },
    {
      "cell_type": "code",
      "source": [
        "'''def preprocess_image(image_path):\n",
        "    with Image.open(image_path) as img:\n",
        "        img = img.resize((224, 224))  # Resize to 224x224 or any size you need\n",
        "        img = np.array(img) / 255.0  # Normalize the image\n",
        "    return img'''"
      ],
      "metadata": {
        "id": "j-QLY3SreO4n",
        "colab": {
          "base_uri": "https://localhost:8080/",
          "height": 53
        },
        "outputId": "353ce3e1-6172-4902-c5ec-995971cee504"
      },
      "execution_count": 16,
      "outputs": [
        {
          "output_type": "execute_result",
          "data": {
            "text/plain": [
              "'def preprocess_image(image_path):\\n    with Image.open(image_path) as img:\\n        img = img.resize((224, 224))  # Resize to 224x224 or any size you need\\n        img = np.array(img) / 255.0  # Normalize the image\\n    return img'"
            ],
            "application/vnd.google.colaboratory.intrinsic+json": {
              "type": "string"
            }
          },
          "metadata": {},
          "execution_count": 16
        }
      ]
    },
    {
      "cell_type": "code",
      "source": [
        "# function for preprocessing the image and converting the image into tensor for better preprocessing\n",
        "def preprocess_image(image_path):\n",
        "    try:\n",
        "        img = Image.open(image_path).convert('RGB')\n",
        "        preprocess = transforms.Compose([\n",
        "            transforms.Resize((224, 224)),\n",
        "            transforms.ToTensor(),\n",
        "            transforms.Normalize(mean=[0.485, 0.456, 0.406], std=[0.229, 0.224, 0.225])\n",
        "        ])\n",
        "        img_tensor = preprocess(img).unsqueeze(0)  # Add batch dimension\n",
        "        img_tensor = img_tensor.to(device)\n",
        "        return img_tensor\n",
        "    except UnidentifiedImageError:\n",
        "        print(f\"Cannot identify image file: {image_path}\")\n",
        "        return None"
      ],
      "metadata": {
        "id": "IOJP6fvHicFA"
      },
      "execution_count": 17,
      "outputs": []
    },
    {
      "cell_type": "code",
      "source": [
        "# defining the directories where images can be located\n",
        "image_dirs = ['/content/all_data/train/non-radiology/images','/content/all_data/train/radiology/images']"
      ],
      "metadata": {
        "id": "hXYvGqB1f22-"
      },
      "execution_count": 18,
      "outputs": []
    },
    {
      "cell_type": "code",
      "source": [
        "# function for finding the image\n",
        "def find_image(image_name):\n",
        "    for dir in image_dirs:\n",
        "        image_path = os.path.join(dir, image_name)\n",
        "        if os.path.exists(image_path):\n",
        "            return image_path\n",
        "    return None"
      ],
      "metadata": {
        "id": "CQCU5IDigq99"
      },
      "execution_count": 19,
      "outputs": []
    },
    {
      "cell_type": "code",
      "source": [
        "preprocessed_data = []"
      ],
      "metadata": {
        "id": "b8vRuck5gzi5"
      },
      "execution_count": 20,
      "outputs": []
    },
    {
      "cell_type": "code",
      "source": [
        "# for using the gpu ram and resources instead of cpu\n",
        "device = torch.device('cuda' if torch.cuda.is_available() else 'cpu')"
      ],
      "metadata": {
        "id": "HaivMzuXiX9m"
      },
      "execution_count": 21,
      "outputs": []
    },
    {
      "cell_type": "code",
      "source": [
        "# samples and batches are created due to overload of cpu because of large dataset\n",
        "# applying the preprocessed image function for every image in the sample length.\n",
        "max_samples = 1000\n",
        "processed_samples = 0\n",
        "\n",
        "for index, row in caption_df.iterrows():\n",
        "    if processed_samples >= max_samples:\n",
        "        break\n",
        "    image_path = find_image(row['name'])\n",
        "    if image_path:\n",
        "        preprocessed_image = preprocess_image(image_path)\n",
        "        if preprocessed_image is not None:\n",
        "            preprocessed_data.append((row['cleaned_caption'], preprocessed_image))\n",
        "            processed_samples += 1\n",
        "    else:\n",
        "        print(f\"Image {row['name']} not found.\")\n"
      ],
      "metadata": {
        "id": "vqGHVYAvg4KW"
      },
      "execution_count": 22,
      "outputs": []
    },
    {
      "cell_type": "code",
      "source": [
        "# saving and mapping the images,captions in a single dataframe for the testing,validation with labels.\n",
        "captions = [item[0] for item in preprocessed_data]\n",
        "images = [item[1].cpu().numpy() for item in preprocessed_data]\n",
        "preprocessed_df = pd.DataFrame({'cleaned_caption': captions, 'preprocessed_image': images})\n",
        "torch.save(preprocessed_df, 'preprocessed_data.pt')\n",
        "\n",
        "print(preprocessed_df)"
      ],
      "metadata": {
        "id": "-8ZMDnOohDbz",
        "colab": {
          "base_uri": "https://localhost:8080/"
        },
        "outputId": "aae9c3ac-6a4d-402f-9a3c-a413effd6fc6"
      },
      "execution_count": 23,
      "outputs": [
        {
          "output_type": "stream",
          "name": "stdout",
          "text": [
            "                                       cleaned_caption  \\\n",
            "0    comput tomographi scan axial view show obliter...   \n",
            "1    bacteri contamin occur complet root canal trea...   \n",
            "2    patient residu paralysi hand poliomyel necessa...   \n",
            "3                       panoram radiograph immedi load   \n",
            "4    plain abdomen xray multipl air level midabdome...   \n",
            "..                                                 ...   \n",
            "995  anoth section contrastenhanc abdomin ct scan o...   \n",
            "996               highresolut comput tomographi thorax   \n",
            "997  parastern long axi view show hypertrabecul ant...   \n",
            "998  transcathet arteri embol sequenc shown right h...   \n",
            "999                           preoper parana sinu view   \n",
            "\n",
            "                                    preprocessed_image  \n",
            "0    [[[[-1.4157891 -1.3986644 -1.3815396 -1.381539...  \n",
            "1    [[[[2.2489083 2.2489083 2.2489083 2.2489083 2....  \n",
            "2    [[[[-0.31980482 -1.1931673  -1.2787911  -1.364...  \n",
            "3    [[[[2.2489083 2.2489083 2.2489083 2.2489083 2....  \n",
            "4    [[[[-0.02868402 -0.42255333 -0.6280504  -0.713...  \n",
            "..                                                 ...  \n",
            "995  [[[[-1.5185376 -1.5356624 -1.5185376 -1.501412...  \n",
            "996  [[[[-1.8781574 -1.9466565 -1.8096584 -1.895282...  \n",
            "997  [[[[2.2489083 2.2489083 2.2489083 2.2489083 2....  \n",
            "998  [[[[ 0.7761795  -0.04580877 -0.04580877 -0.062...  \n",
            "999  [[[[-1.8096584 -1.9466565 -1.9466565 -1.929531...  \n",
            "\n",
            "[1000 rows x 2 columns]\n"
          ]
        }
      ]
    },
    {
      "cell_type": "code",
      "source": [],
      "metadata": {
        "id": "wHxUIpDCn4Y6"
      },
      "execution_count": 23,
      "outputs": []
    }
  ],
  "metadata": {
    "colab": {
      "provenance": [],
      "gpuType": "T4"
    },
    "kernelspec": {
      "display_name": "Python 3",
      "name": "python3"
    },
    "language_info": {
      "name": "python"
    },
    "accelerator": "GPU"
  },
  "nbformat": 4,
  "nbformat_minor": 0
}