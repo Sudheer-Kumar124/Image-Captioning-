{
  "cells": [
    {
      "cell_type": "code",
      "execution_count": null,
      "metadata": {
        "id": "Mzv2WiKvgJAl",
        "outputId": "35d24ce5-6d38-4e0b-c810-bb9c45f5c521"
      },
      "outputs": [
        {
          "name": "stdout",
          "output_type": "stream",
          "text": [
            "Dataset URL: https://www.kaggle.com/datasets/virajbagal/roco-dataset\n",
            "License(s): CC0-1.0\n",
            "Downloading roco-dataset.zip to /home/sagemaker-user/xray-images\n",
            "100%|██████████████████████████████████████▉| 6.18G/6.19G [00:37<00:00, 143MB/s]\n",
            "100%|███████████████████████████████████████| 6.19G/6.19G [00:38<00:00, 175MB/s]\n"
          ]
        }
      ],
      "source": [
        "# Download the ROCO dataset from Kaggle\n",
        "! kaggle datasets download virajbagal/roco-dataset"
      ]
    },
    {
      "cell_type": "code",
      "execution_count": null,
      "metadata": {
        "id": "Udm313P8gJAq"
      },
      "outputs": [],
      "source": [
        "# Unzip the downloaded dataset\n",
        "! unzip roco-dataset.zip"
      ]
    },
    {
      "cell_type": "code",
      "execution_count": null,
      "metadata": {
        "id": "aUqhE7cJgJAr",
        "outputId": "c59809fc-880f-4413-cb01-16ed66483647"
      },
      "outputs": [
        {
          "name": "stdout",
          "output_type": "stream",
          "text": [
            "Requirement already satisfied: kaggle in /opt/conda/lib/python3.10/site-packages (1.6.14)\n",
            "Requirement already satisfied: six>=1.10 in /opt/conda/lib/python3.10/site-packages (from kaggle) (1.16.0)\n",
            "Requirement already satisfied: certifi>=2023.7.22 in /opt/conda/lib/python3.10/site-packages (from kaggle) (2024.2.2)\n",
            "Requirement already satisfied: python-dateutil in /opt/conda/lib/python3.10/site-packages (from kaggle) (2.9.0)\n",
            "Requirement already satisfied: requests in /opt/conda/lib/python3.10/site-packages (from kaggle) (2.31.0)\n",
            "Requirement already satisfied: tqdm in /opt/conda/lib/python3.10/site-packages (from kaggle) (4.66.4)\n",
            "Requirement already satisfied: python-slugify in /opt/conda/lib/python3.10/site-packages (from kaggle) (8.0.4)\n",
            "Requirement already satisfied: urllib3 in /opt/conda/lib/python3.10/site-packages (from kaggle) (1.26.18)\n",
            "Requirement already satisfied: bleach in /opt/conda/lib/python3.10/site-packages (from kaggle) (6.1.0)\n",
            "Requirement already satisfied: webencodings in /opt/conda/lib/python3.10/site-packages (from bleach->kaggle) (0.5.1)\n",
            "Requirement already satisfied: text-unidecode>=1.3 in /opt/conda/lib/python3.10/site-packages (from python-slugify->kaggle) (1.3)\n",
            "Requirement already satisfied: charset-normalizer<4,>=2 in /opt/conda/lib/python3.10/site-packages (from requests->kaggle) (3.3.2)\n",
            "Requirement already satisfied: idna<4,>=2.5 in /opt/conda/lib/python3.10/site-packages (from requests->kaggle) (3.7)\n",
            "Requirement already satisfied: spacy in /opt/conda/lib/python3.10/site-packages (3.7.3)\n",
            "Requirement already satisfied: spacy-legacy<3.1.0,>=3.0.11 in /opt/conda/lib/python3.10/site-packages (from spacy) (3.0.12)\n",
            "Requirement already satisfied: spacy-loggers<2.0.0,>=1.0.0 in /opt/conda/lib/python3.10/site-packages (from spacy) (1.0.5)\n",
            "Requirement already satisfied: murmurhash<1.1.0,>=0.28.0 in /opt/conda/lib/python3.10/site-packages (from spacy) (1.0.10)\n",
            "Requirement already satisfied: cymem<2.1.0,>=2.0.2 in /opt/conda/lib/python3.10/site-packages (from spacy) (2.0.8)\n",
            "Requirement already satisfied: preshed<3.1.0,>=3.0.2 in /opt/conda/lib/python3.10/site-packages (from spacy) (3.0.9)\n",
            "Requirement already satisfied: thinc<8.3.0,>=8.2.2 in /opt/conda/lib/python3.10/site-packages (from spacy) (8.2.3)\n",
            "Requirement already satisfied: wasabi<1.2.0,>=0.9.1 in /opt/conda/lib/python3.10/site-packages (from spacy) (1.1.2)\n",
            "Requirement already satisfied: srsly<3.0.0,>=2.4.3 in /opt/conda/lib/python3.10/site-packages (from spacy) (2.4.8)\n",
            "Requirement already satisfied: catalogue<2.1.0,>=2.0.6 in /opt/conda/lib/python3.10/site-packages (from spacy) (2.0.10)\n",
            "Requirement already satisfied: weasel<0.4.0,>=0.1.0 in /opt/conda/lib/python3.10/site-packages (from spacy) (0.3.4)\n",
            "Requirement already satisfied: typer<0.10.0,>=0.3.0 in /opt/conda/lib/python3.10/site-packages (from spacy) (0.9.4)\n",
            "Requirement already satisfied: smart-open<7.0.0,>=5.2.1 in /opt/conda/lib/python3.10/site-packages (from spacy) (5.2.1)\n",
            "Requirement already satisfied: tqdm<5.0.0,>=4.38.0 in /opt/conda/lib/python3.10/site-packages (from spacy) (4.66.4)\n",
            "Requirement already satisfied: requests<3.0.0,>=2.13.0 in /opt/conda/lib/python3.10/site-packages (from spacy) (2.31.0)\n",
            "Requirement already satisfied: pydantic!=1.8,!=1.8.1,<3.0.0,>=1.7.4 in /opt/conda/lib/python3.10/site-packages (from spacy) (1.10.14)\n",
            "Requirement already satisfied: jinja2 in /opt/conda/lib/python3.10/site-packages (from spacy) (3.1.4)\n",
            "Requirement already satisfied: setuptools in /opt/conda/lib/python3.10/site-packages (from spacy) (69.5.1)\n",
            "Requirement already satisfied: packaging>=20.0 in /opt/conda/lib/python3.10/site-packages (from spacy) (23.2)\n",
            "Requirement already satisfied: langcodes<4.0.0,>=3.2.0 in /opt/conda/lib/python3.10/site-packages (from spacy) (3.4.0)\n",
            "Requirement already satisfied: numpy>=1.19.0 in /opt/conda/lib/python3.10/site-packages (from spacy) (1.26.4)\n",
            "Requirement already satisfied: language-data>=1.2 in /opt/conda/lib/python3.10/site-packages (from langcodes<4.0.0,>=3.2.0->spacy) (1.2.0)\n",
            "Requirement already satisfied: typing-extensions>=4.2.0 in /opt/conda/lib/python3.10/site-packages (from pydantic!=1.8,!=1.8.1,<3.0.0,>=1.7.4->spacy) (4.11.0)\n",
            "Requirement already satisfied: charset-normalizer<4,>=2 in /opt/conda/lib/python3.10/site-packages (from requests<3.0.0,>=2.13.0->spacy) (3.3.2)\n",
            "Requirement already satisfied: idna<4,>=2.5 in /opt/conda/lib/python3.10/site-packages (from requests<3.0.0,>=2.13.0->spacy) (3.7)\n",
            "Requirement already satisfied: urllib3<3,>=1.21.1 in /opt/conda/lib/python3.10/site-packages (from requests<3.0.0,>=2.13.0->spacy) (1.26.18)\n",
            "Requirement already satisfied: certifi>=2017.4.17 in /opt/conda/lib/python3.10/site-packages (from requests<3.0.0,>=2.13.0->spacy) (2024.2.2)\n",
            "Requirement already satisfied: blis<0.8.0,>=0.7.8 in /opt/conda/lib/python3.10/site-packages (from thinc<8.3.0,>=8.2.2->spacy) (0.7.10)\n",
            "Requirement already satisfied: confection<1.0.0,>=0.0.1 in /opt/conda/lib/python3.10/site-packages (from thinc<8.3.0,>=8.2.2->spacy) (0.1.4)\n",
            "Requirement already satisfied: click<9.0.0,>=7.1.1 in /opt/conda/lib/python3.10/site-packages (from typer<0.10.0,>=0.3.0->spacy) (8.1.7)\n",
            "Requirement already satisfied: cloudpathlib<0.17.0,>=0.7.0 in /opt/conda/lib/python3.10/site-packages (from weasel<0.4.0,>=0.1.0->spacy) (0.16.0)\n",
            "Requirement already satisfied: MarkupSafe>=2.0 in /opt/conda/lib/python3.10/site-packages (from jinja2->spacy) (2.1.5)\n",
            "Requirement already satisfied: marisa-trie>=0.7.7 in /opt/conda/lib/python3.10/site-packages (from language-data>=1.2->langcodes<4.0.0,>=3.2.0->spacy) (1.1.0)\n",
            "Requirement already satisfied: nltk in /opt/conda/lib/python3.10/site-packages (3.8.1)\n",
            "Requirement already satisfied: click in /opt/conda/lib/python3.10/site-packages (from nltk) (8.1.7)\n",
            "Requirement already satisfied: joblib in /opt/conda/lib/python3.10/site-packages (from nltk) (1.4.2)\n",
            "Requirement already satisfied: regex>=2021.8.3 in /opt/conda/lib/python3.10/site-packages (from nltk) (2024.5.10)\n",
            "Requirement already satisfied: tqdm in /opt/conda/lib/python3.10/site-packages (from nltk) (4.66.4)\n",
            "Collecting en-core-web-sm==3.7.1\n",
            "  Downloading https://github.com/explosion/spacy-models/releases/download/en_core_web_sm-3.7.1/en_core_web_sm-3.7.1-py3-none-any.whl (12.8 MB)\n",
            "\u001b[2K     \u001b[90m━━━━━━━━━━━━━━━━━━━━━━━━━━━━━━━━━━━━━━━━\u001b[0m \u001b[32m12.8/12.8 MB\u001b[0m \u001b[31m74.8 MB/s\u001b[0m eta \u001b[36m0:00:00\u001b[0m00:01\u001b[0m00:01\u001b[0m\n",
            "\u001b[?25hRequirement already satisfied: spacy<3.8.0,>=3.7.2 in /opt/conda/lib/python3.10/site-packages (from en-core-web-sm==3.7.1) (3.7.3)\n",
            "Requirement already satisfied: spacy-legacy<3.1.0,>=3.0.11 in /opt/conda/lib/python3.10/site-packages (from spacy<3.8.0,>=3.7.2->en-core-web-sm==3.7.1) (3.0.12)\n",
            "Requirement already satisfied: spacy-loggers<2.0.0,>=1.0.0 in /opt/conda/lib/python3.10/site-packages (from spacy<3.8.0,>=3.7.2->en-core-web-sm==3.7.1) (1.0.5)\n",
            "Requirement already satisfied: murmurhash<1.1.0,>=0.28.0 in /opt/conda/lib/python3.10/site-packages (from spacy<3.8.0,>=3.7.2->en-core-web-sm==3.7.1) (1.0.10)\n",
            "Requirement already satisfied: cymem<2.1.0,>=2.0.2 in /opt/conda/lib/python3.10/site-packages (from spacy<3.8.0,>=3.7.2->en-core-web-sm==3.7.1) (2.0.8)\n",
            "Requirement already satisfied: preshed<3.1.0,>=3.0.2 in /opt/conda/lib/python3.10/site-packages (from spacy<3.8.0,>=3.7.2->en-core-web-sm==3.7.1) (3.0.9)\n",
            "Requirement already satisfied: thinc<8.3.0,>=8.2.2 in /opt/conda/lib/python3.10/site-packages (from spacy<3.8.0,>=3.7.2->en-core-web-sm==3.7.1) (8.2.3)\n",
            "Requirement already satisfied: wasabi<1.2.0,>=0.9.1 in /opt/conda/lib/python3.10/site-packages (from spacy<3.8.0,>=3.7.2->en-core-web-sm==3.7.1) (1.1.2)\n",
            "Requirement already satisfied: srsly<3.0.0,>=2.4.3 in /opt/conda/lib/python3.10/site-packages (from spacy<3.8.0,>=3.7.2->en-core-web-sm==3.7.1) (2.4.8)\n",
            "Requirement already satisfied: catalogue<2.1.0,>=2.0.6 in /opt/conda/lib/python3.10/site-packages (from spacy<3.8.0,>=3.7.2->en-core-web-sm==3.7.1) (2.0.10)\n",
            "Requirement already satisfied: weasel<0.4.0,>=0.1.0 in /opt/conda/lib/python3.10/site-packages (from spacy<3.8.0,>=3.7.2->en-core-web-sm==3.7.1) (0.3.4)\n",
            "Requirement already satisfied: typer<0.10.0,>=0.3.0 in /opt/conda/lib/python3.10/site-packages (from spacy<3.8.0,>=3.7.2->en-core-web-sm==3.7.1) (0.9.4)\n",
            "Requirement already satisfied: smart-open<7.0.0,>=5.2.1 in /opt/conda/lib/python3.10/site-packages (from spacy<3.8.0,>=3.7.2->en-core-web-sm==3.7.1) (5.2.1)\n",
            "Requirement already satisfied: tqdm<5.0.0,>=4.38.0 in /opt/conda/lib/python3.10/site-packages (from spacy<3.8.0,>=3.7.2->en-core-web-sm==3.7.1) (4.66.4)\n",
            "Requirement already satisfied: requests<3.0.0,>=2.13.0 in /opt/conda/lib/python3.10/site-packages (from spacy<3.8.0,>=3.7.2->en-core-web-sm==3.7.1) (2.31.0)\n",
            "Requirement already satisfied: pydantic!=1.8,!=1.8.1,<3.0.0,>=1.7.4 in /opt/conda/lib/python3.10/site-packages (from spacy<3.8.0,>=3.7.2->en-core-web-sm==3.7.1) (1.10.14)\n",
            "Requirement already satisfied: jinja2 in /opt/conda/lib/python3.10/site-packages (from spacy<3.8.0,>=3.7.2->en-core-web-sm==3.7.1) (3.1.4)\n",
            "Requirement already satisfied: setuptools in /opt/conda/lib/python3.10/site-packages (from spacy<3.8.0,>=3.7.2->en-core-web-sm==3.7.1) (69.5.1)\n",
            "Requirement already satisfied: packaging>=20.0 in /opt/conda/lib/python3.10/site-packages (from spacy<3.8.0,>=3.7.2->en-core-web-sm==3.7.1) (23.2)\n",
            "Requirement already satisfied: langcodes<4.0.0,>=3.2.0 in /opt/conda/lib/python3.10/site-packages (from spacy<3.8.0,>=3.7.2->en-core-web-sm==3.7.1) (3.4.0)\n",
            "Requirement already satisfied: numpy>=1.19.0 in /opt/conda/lib/python3.10/site-packages (from spacy<3.8.0,>=3.7.2->en-core-web-sm==3.7.1) (1.26.4)\n",
            "Requirement already satisfied: language-data>=1.2 in /opt/conda/lib/python3.10/site-packages (from langcodes<4.0.0,>=3.2.0->spacy<3.8.0,>=3.7.2->en-core-web-sm==3.7.1) (1.2.0)\n",
            "Requirement already satisfied: typing-extensions>=4.2.0 in /opt/conda/lib/python3.10/site-packages (from pydantic!=1.8,!=1.8.1,<3.0.0,>=1.7.4->spacy<3.8.0,>=3.7.2->en-core-web-sm==3.7.1) (4.11.0)\n",
            "Requirement already satisfied: charset-normalizer<4,>=2 in /opt/conda/lib/python3.10/site-packages (from requests<3.0.0,>=2.13.0->spacy<3.8.0,>=3.7.2->en-core-web-sm==3.7.1) (3.3.2)\n",
            "Requirement already satisfied: idna<4,>=2.5 in /opt/conda/lib/python3.10/site-packages (from requests<3.0.0,>=2.13.0->spacy<3.8.0,>=3.7.2->en-core-web-sm==3.7.1) (3.7)\n",
            "Requirement already satisfied: urllib3<3,>=1.21.1 in /opt/conda/lib/python3.10/site-packages (from requests<3.0.0,>=2.13.0->spacy<3.8.0,>=3.7.2->en-core-web-sm==3.7.1) (1.26.18)\n",
            "Requirement already satisfied: certifi>=2017.4.17 in /opt/conda/lib/python3.10/site-packages (from requests<3.0.0,>=2.13.0->spacy<3.8.0,>=3.7.2->en-core-web-sm==3.7.1) (2024.2.2)\n",
            "Requirement already satisfied: blis<0.8.0,>=0.7.8 in /opt/conda/lib/python3.10/site-packages (from thinc<8.3.0,>=8.2.2->spacy<3.8.0,>=3.7.2->en-core-web-sm==3.7.1) (0.7.10)\n",
            "Requirement already satisfied: confection<1.0.0,>=0.0.1 in /opt/conda/lib/python3.10/site-packages (from thinc<8.3.0,>=8.2.2->spacy<3.8.0,>=3.7.2->en-core-web-sm==3.7.1) (0.1.4)\n",
            "Requirement already satisfied: click<9.0.0,>=7.1.1 in /opt/conda/lib/python3.10/site-packages (from typer<0.10.0,>=0.3.0->spacy<3.8.0,>=3.7.2->en-core-web-sm==3.7.1) (8.1.7)\n",
            "Requirement already satisfied: cloudpathlib<0.17.0,>=0.7.0 in /opt/conda/lib/python3.10/site-packages (from weasel<0.4.0,>=0.1.0->spacy<3.8.0,>=3.7.2->en-core-web-sm==3.7.1) (0.16.0)\n",
            "Requirement already satisfied: MarkupSafe>=2.0 in /opt/conda/lib/python3.10/site-packages (from jinja2->spacy<3.8.0,>=3.7.2->en-core-web-sm==3.7.1) (2.1.5)\n",
            "Requirement already satisfied: marisa-trie>=0.7.7 in /opt/conda/lib/python3.10/site-packages (from language-data>=1.2->langcodes<4.0.0,>=3.2.0->spacy<3.8.0,>=3.7.2->en-core-web-sm==3.7.1) (1.1.0)\n",
            "\u001b[38;5;2m✔ Download and installation successful\u001b[0m\n",
            "You can now load the package via spacy.load('en_core_web_sm')\n"
          ]
        },
        {
          "name": "stderr",
          "output_type": "stream",
          "text": [
            "[nltk_data] Downloading package stopwords to /home/sagemaker-\n",
            "[nltk_data]     user/nltk_data...\n",
            "[nltk_data]   Package stopwords is already up-to-date!\n",
            "[nltk_data] Downloading package wordnet to /home/sagemaker-\n",
            "[nltk_data]     user/nltk_data...\n",
            "[nltk_data]   Package wordnet is already up-to-date!\n",
            "[nltk_data] Downloading package omw-1.4 to /home/sagemaker-\n",
            "[nltk_data]     user/nltk_data...\n",
            "[nltk_data]   Package omw-1.4 is already up-to-date!\n"
          ]
        },
        {
          "data": {
            "text/plain": [
              "True"
            ]
          },
          "execution_count": 33,
          "metadata": {},
          "output_type": "execute_result"
        }
      ],
      "source": [
        "# Install necessary libraries: kaggle, spacy, and nltk\n",
        "!pip install kaggle\n",
        "!pip install spacy\n",
        "!pip install nltk\n",
        "\n",
        "# Import required libraries for data processing and manipulation\n",
        "import os\n",
        "import pandas as pd\n",
        "from PIL import Image, UnidentifiedImageError\n",
        "import numpy as np\n",
        "import re\n",
        "import torch\n",
        "import torchvision.transforms as transforms\n",
        "from nltk.corpus import stopwords\n",
        "from nltk.stem import PorterStemmer, WordNetLemmatizer\n",
        "import spacy\n",
        "import nltk\n",
        "\n",
        "# Download and load the spaCy model for text processing\n",
        "!python -m spacy download en_core_web_sm\n",
        "nlp = spacy.load(\"en_core_web_sm\")\n",
        "\n",
        "# Download NLTK data for stopwords and lemmatizatio\n",
        "nltk.download('stopwords')\n",
        "nltk.download('wordnet')\n",
        "nltk.download('omw-1.4')"
      ]
    },
    {
      "cell_type": "code",
      "execution_count": null,
      "metadata": {
        "id": "ha4eVZV-gJAt"
      },
      "outputs": [],
      "source": [
        "# Load the dataset CSV files\n",
        "train_caption_df = pd.read_csv('/home/sagemaker-user/xray-images/all_data/test/radiologytestdata.csv')\n",
        "val_caption_df = pd.read_csv('/home/sagemaker-user/xray-images/all_data/validation/radiologyvaldata.csv')\n",
        "test_caption_df = pd.read_csv('/home/sagemaker-user/xray-images/all_data/test/radiologytestdata.csv')\n"
      ]
    },
    {
      "cell_type": "code",
      "execution_count": null,
      "metadata": {
        "id": "ErZkEPUlRV6c"
      },
      "outputs": [],
      "source": [
        "# Function to preprocess text by cleaning and normalizing\n",
        "def preprocess_text(text):\n",
        "    text = text.lower()\n",
        "    text = re.sub(r'http\\S+|www\\S+|ftp\\S+', '', text) # removing the links\n",
        "    text = text.replace('\\n', ' ') # removing the new lines\n",
        "    text = re.sub(r'\\w*\\d\\w*', '', text) # removing the words containing numbers\n",
        "    text = re.sub(r'\\s+', ' ', text).strip() # removing the spaces\n",
        "    text = re.sub(r'[^\\w\\s]', '', text) # removing special characters\n",
        "    words = text.split()\n",
        "    stop_words = set(stopwords.words('english'))\n",
        "    words = [word for word in words if word not in stop_words] # considering only normal words\n",
        "    stemmer = PorterStemmer()\n",
        "    words = [stemmer.stem(word) for word in words] # considering the stemmed words\n",
        "    lemmatizer = WordNetLemmatizer()\n",
        "    words = [lemmatizer.lemmatize(word) for word in words] #considering the lemmatized words\n",
        "    text = ' '.join(words)\n",
        "    return text"
      ]
    },
    {
      "cell_type": "code",
      "execution_count": null,
      "metadata": {
        "id": "ryuAPn7vf1Yx"
      },
      "outputs": [],
      "source": [
        "# Reload the dataset CSV files\n",
        "train_caption_df = pd.read_csv('/home/sagemaker-user/xray-images/all_data/train/radiologytraindata.csv')\n",
        "val_caption_df = pd.read_csv('/home/sagemaker-user/xray-images/all_data/validation/radiologyvaldata.csv')\n",
        "test_caption_df = pd.read_csv('/home/sagemaker-user/xray-images/all_data/test/radiologytestdata.csv')"
      ]
    },
    {
      "cell_type": "code",
      "execution_count": null,
      "metadata": {
        "id": "Mu5HUt4IRkxi"
      },
      "outputs": [],
      "source": [
        "# Apply text preprocessing to the caption data\n",
        "train_caption_df['cleaned_caption'] = train_caption_df['caption'].apply(preprocess_text)\n",
        "val_caption_df['cleaned_caption'] = val_caption_df['caption'].apply(preprocess_text)\n",
        "test_caption_df['cleaned_caption'] = test_caption_df['caption'].apply(preprocess_text)"
      ]
    },
    {
      "cell_type": "code",
      "execution_count": null,
      "metadata": {
        "colab": {
          "base_uri": "https://localhost:8080/",
          "height": 521
        },
        "id": "plXBrDoqc5tB",
        "outputId": "ead83e23-9848-45c6-97d7-00661dc42b62"
      },
      "outputs": [
        {
          "data": {
            "text/html": [
              "<div>\n",
              "<style scoped>\n",
              "    .dataframe tbody tr th:only-of-type {\n",
              "        vertical-align: middle;\n",
              "    }\n",
              "\n",
              "    .dataframe tbody tr th {\n",
              "        vertical-align: top;\n",
              "    }\n",
              "\n",
              "    .dataframe thead th {\n",
              "        text-align: right;\n",
              "    }\n",
              "</style>\n",
              "<table border=\"1\" class=\"dataframe\">\n",
              "  <thead>\n",
              "    <tr style=\"text-align: right;\">\n",
              "      <th></th>\n",
              "      <th>id</th>\n",
              "      <th>name</th>\n",
              "      <th>caption</th>\n",
              "      <th>cleaned_caption</th>\n",
              "    </tr>\n",
              "  </thead>\n",
              "  <tbody>\n",
              "    <tr>\n",
              "      <th>0</th>\n",
              "      <td>ROCO_00002</td>\n",
              "      <td>PMC4083729_AMHSR-4-14-g002.jpg</td>\n",
              "      <td>Computed tomography scan in axial view showin...</td>\n",
              "      <td>comput tomographi scan axial view show obliter...</td>\n",
              "    </tr>\n",
              "    <tr>\n",
              "      <th>1</th>\n",
              "      <td>ROCO_00003</td>\n",
              "      <td>PMC2837471_IJD2009-150251.001.jpg</td>\n",
              "      <td>Bacterial contamination occurred after comple...</td>\n",
              "      <td>bacteri contamin occur complet root canal trea...</td>\n",
              "    </tr>\n",
              "    <tr>\n",
              "      <th>2</th>\n",
              "      <td>ROCO_00004</td>\n",
              "      <td>PMC2505281_11999_2007_30_Fig6_HTML.jpg</td>\n",
              "      <td>The patient had residual paralysis of the han...</td>\n",
              "      <td>patient residu paralysi hand poliomyel necessa...</td>\n",
              "    </tr>\n",
              "    <tr>\n",
              "      <th>3</th>\n",
              "      <td>ROCO_00005</td>\n",
              "      <td>PMC3745845_IJD2013-683423.005.jpg</td>\n",
              "      <td>Panoramic radiograph after immediate loading.\\n</td>\n",
              "      <td>panoram radiograph immedi load</td>\n",
              "    </tr>\n",
              "    <tr>\n",
              "      <th>4</th>\n",
              "      <td>ROCO_00007</td>\n",
              "      <td>PMC4917066_amjcaserep-17-301-g001.jpg</td>\n",
              "      <td>Plain abdomen x-ray: Multiple air levels at t...</td>\n",
              "      <td>plain abdomen xray multipl air level midabdome...</td>\n",
              "    </tr>\n",
              "  </tbody>\n",
              "</table>\n",
              "</div>"
            ],
            "text/plain": [
              "           id                                    name  \\\n",
              "0  ROCO_00002          PMC4083729_AMHSR-4-14-g002.jpg   \n",
              "1  ROCO_00003       PMC2837471_IJD2009-150251.001.jpg   \n",
              "2  ROCO_00004  PMC2505281_11999_2007_30_Fig6_HTML.jpg   \n",
              "3  ROCO_00005       PMC3745845_IJD2013-683423.005.jpg   \n",
              "4  ROCO_00007   PMC4917066_amjcaserep-17-301-g001.jpg   \n",
              "\n",
              "                                             caption  \\\n",
              "0   Computed tomography scan in axial view showin...   \n",
              "1   Bacterial contamination occurred after comple...   \n",
              "2   The patient had residual paralysis of the han...   \n",
              "3    Panoramic radiograph after immediate loading.\\n   \n",
              "4   Plain abdomen x-ray: Multiple air levels at t...   \n",
              "\n",
              "                                     cleaned_caption  \n",
              "0  comput tomographi scan axial view show obliter...  \n",
              "1  bacteri contamin occur complet root canal trea...  \n",
              "2  patient residu paralysi hand poliomyel necessa...  \n",
              "3                     panoram radiograph immedi load  \n",
              "4  plain abdomen xray multipl air level midabdome...  "
            ]
          },
          "execution_count": 38,
          "metadata": {},
          "output_type": "execute_result"
        }
      ],
      "source": [
        "# Display the first few rows of the preprocessed training data\n",
        "train_caption_df.head()"
      ]
    },
    {
      "cell_type": "markdown",
      "source": [
        "Model 1"
      ],
      "metadata": {
        "id": "iKihEQU6kyjL"
      }
    },
    {
      "cell_type": "code",
      "execution_count": null,
      "metadata": {
        "id": "NL_66vAUgJAx"
      },
      "outputs": [],
      "source": [
        "# Define a function to preprocess images by resizing and normalizing\n",
        "def preprocess_image(image_path):\n",
        "    try:\n",
        "        img = Image.open(image_path).convert('RGB')\n",
        "        preprocess = transforms.Compose([\n",
        "            transforms.Resize((224, 224)),\n",
        "            transforms.ToTensor(),\n",
        "            transforms.Normalize(mean=[0.485, 0.456, 0.406], std=[0.229, 0.224, 0.225])\n",
        "        ])\n",
        "        img_tensor = preprocess(img).unsqueeze(0)  # Add batch dimension\n",
        "        img_tensor = img_tensor.to(device)\n",
        "        return img_tensor\n",
        "    except UnidentifiedImageError:\n",
        "        print(f\"Cannot identify image file: {image_path}\")\n",
        "        return None"
      ]
    },
    {
      "cell_type": "code",
      "execution_count": null,
      "metadata": {
        "id": "stL_JHwDgJAy"
      },
      "outputs": [],
      "source": [
        "# Define directories for training, validation, and test images\n",
        "train_image_dirs = ['/home/sagemaker-user/xray-images/all_data/train/non-radiology/images/',\n",
        "                    '/home/sagemaker-user/xray-images/all_data/train/radiology/images/']\n",
        "val_image_dirs = ['/home/sagemaker-user/xray-images/all_data/validation/non-radiology/images/',\n",
        "                  '/home/sagemaker-user/xray-images/all_data/validation/radiology/images/']\n",
        "test_image_dirs = ['/home/sagemaker-user/xray-images/all_data/test/non-radiology/images/',\n",
        "                   '/home/sagemaker-user/xray-images/all_data/test/radiology/images/']"
      ]
    },
    {
      "cell_type": "code",
      "execution_count": null,
      "metadata": {
        "id": "bpctpQpqgJAy"
      },
      "outputs": [],
      "source": [
        "# Define a function to locate images in the specified directories\n",
        "def find_image(image_name, image_dirs):\n",
        "    for dir in image_dirs:\n",
        "        image_path = os.path.join(dir, image_name)\n",
        "        if os.path.exists(image_path):\n",
        "            return image_path\n",
        "    return None"
      ]
    },
    {
      "cell_type": "code",
      "execution_count": null,
      "metadata": {
        "id": "VxY02l2ygJAy"
      },
      "outputs": [],
      "source": [
        "# Initialize an empty list to store preprocessed data\n",
        "preprocessed_data = []"
      ]
    },
    {
      "cell_type": "code",
      "execution_count": null,
      "metadata": {
        "id": "rARAsLdJgJAz"
      },
      "outputs": [],
      "source": [
        "# Define a function to process and save the dataset\n",
        "import torch\n",
        "\n",
        "def process_and_save_dataset(df, set_name, image_dirs):\n",
        "    preprocessed_data = []\n",
        "    max_samples = 1000\n",
        "    processed_samples = 0\n",
        "\n",
        "    for index, row in df.iterrows():\n",
        "        if processed_samples >= max_samples:\n",
        "            break\n",
        "        image_path = find_image(row['name'], image_dirs)\n",
        "        if image_path:\n",
        "            preprocessed_image = preprocess_image(image_path)\n",
        "            if preprocessed_image is not None:\n",
        "                preprocessed_data.append((row['cleaned_caption'], preprocessed_image.cpu()))\n",
        "                processed_samples += 1\n",
        "        else:\n",
        "            print(f\"Image {row['name']} not found.\")\n",
        "\n",
        "    captions = [item[0] for item in preprocessed_data]\n",
        "    images = [item[1] for item in preprocessed_data]\n",
        "\n",
        "    # Save the preprocessed data to a .pt file\n",
        "    torch.save({'captions': captions, 'images': images}, f'{set_name}_preprocessed_data.pt')\n",
        "\n",
        "    print(f'{set_name} preprocessed data saved to {set_name}_preprocessed_data.pt')"
      ]
    },
    {
      "cell_type": "code",
      "execution_count": null,
      "metadata": {
        "id": "K8Lwq2ZzgJAz"
      },
      "outputs": [],
      "source": [
        "# Define the device for computation (GPU if available, otherwise CPU)\n",
        "device = torch.device('cuda' if torch.cuda.is_available() else 'cpu')"
      ]
    },
    {
      "cell_type": "code",
      "execution_count": null,
      "metadata": {
        "id": "8-O9UGfBgJAz",
        "outputId": "19a6fb4c-6fc5-4c3b-9485-7b67b2cbdefa"
      },
      "outputs": [
        {
          "name": "stdout",
          "output_type": "stream",
          "text": [
            "train preprocessed data saved to train_preprocessed_data.pt\n",
            "val preprocessed data saved to val_preprocessed_data.pt\n",
            "test preprocessed data saved to test_preprocessed_data.pt\n"
          ]
        }
      ],
      "source": [
        "# Process and save the training, validation, and test datasets\n",
        "process_and_save_dataset(train_caption_df, 'train', train_image_dirs)\n",
        "process_and_save_dataset(val_caption_df, 'val', val_image_dirs)\n",
        "process_and_save_dataset(test_caption_df, 'test', test_image_dirs)"
      ]
    },
    {
      "cell_type": "code",
      "execution_count": null,
      "metadata": {
        "id": "n280AFBygJA0",
        "outputId": "0a974ec4-ed43-4b46-db8b-cc983896fd5c"
      },
      "outputs": [
        {
          "name": "stdout",
          "output_type": "stream",
          "text": [
            "Requirement already satisfied: torchtext in /opt/conda/lib/python3.10/site-packages (0.18.0)\n",
            "Requirement already satisfied: tqdm in /opt/conda/lib/python3.10/site-packages (from torchtext) (4.66.4)\n",
            "Requirement already satisfied: requests in /opt/conda/lib/python3.10/site-packages (from torchtext) (2.31.0)\n",
            "Requirement already satisfied: torch>=2.3.0 in /opt/conda/lib/python3.10/site-packages (from torchtext) (2.3.1)\n",
            "Requirement already satisfied: numpy in /opt/conda/lib/python3.10/site-packages (from torchtext) (1.26.4)\n",
            "Requirement already satisfied: filelock in /opt/conda/lib/python3.10/site-packages (from torch>=2.3.0->torchtext) (3.14.0)\n",
            "Requirement already satisfied: typing-extensions>=4.8.0 in /opt/conda/lib/python3.10/site-packages (from torch>=2.3.0->torchtext) (4.11.0)\n",
            "Requirement already satisfied: sympy in /opt/conda/lib/python3.10/site-packages (from torch>=2.3.0->torchtext) (1.12)\n",
            "Requirement already satisfied: networkx in /opt/conda/lib/python3.10/site-packages (from torch>=2.3.0->torchtext) (3.3)\n",
            "Requirement already satisfied: jinja2 in /opt/conda/lib/python3.10/site-packages (from torch>=2.3.0->torchtext) (3.1.4)\n",
            "Requirement already satisfied: fsspec in /opt/conda/lib/python3.10/site-packages (from torch>=2.3.0->torchtext) (2023.6.0)\n",
            "Requirement already satisfied: nvidia-cuda-nvrtc-cu12==12.1.105 in /opt/conda/lib/python3.10/site-packages (from torch>=2.3.0->torchtext) (12.1.105)\n",
            "Requirement already satisfied: nvidia-cuda-runtime-cu12==12.1.105 in /opt/conda/lib/python3.10/site-packages (from torch>=2.3.0->torchtext) (12.1.105)\n",
            "Requirement already satisfied: nvidia-cuda-cupti-cu12==12.1.105 in /opt/conda/lib/python3.10/site-packages (from torch>=2.3.0->torchtext) (12.1.105)\n",
            "Requirement already satisfied: nvidia-cudnn-cu12==8.9.2.26 in /opt/conda/lib/python3.10/site-packages (from torch>=2.3.0->torchtext) (8.9.2.26)\n",
            "Requirement already satisfied: nvidia-cublas-cu12==12.1.3.1 in /opt/conda/lib/python3.10/site-packages (from torch>=2.3.0->torchtext) (12.1.3.1)\n",
            "Requirement already satisfied: nvidia-cufft-cu12==11.0.2.54 in /opt/conda/lib/python3.10/site-packages (from torch>=2.3.0->torchtext) (11.0.2.54)\n",
            "Requirement already satisfied: nvidia-curand-cu12==10.3.2.106 in /opt/conda/lib/python3.10/site-packages (from torch>=2.3.0->torchtext) (10.3.2.106)\n",
            "Requirement already satisfied: nvidia-cusolver-cu12==11.4.5.107 in /opt/conda/lib/python3.10/site-packages (from torch>=2.3.0->torchtext) (11.4.5.107)\n",
            "Requirement already satisfied: nvidia-cusparse-cu12==12.1.0.106 in /opt/conda/lib/python3.10/site-packages (from torch>=2.3.0->torchtext) (12.1.0.106)\n",
            "Requirement already satisfied: nvidia-nccl-cu12==2.20.5 in /opt/conda/lib/python3.10/site-packages (from torch>=2.3.0->torchtext) (2.20.5)\n",
            "Requirement already satisfied: nvidia-nvtx-cu12==12.1.105 in /opt/conda/lib/python3.10/site-packages (from torch>=2.3.0->torchtext) (12.1.105)\n",
            "Requirement already satisfied: triton==2.3.1 in /opt/conda/lib/python3.10/site-packages (from torch>=2.3.0->torchtext) (2.3.1)\n",
            "Requirement already satisfied: nvidia-nvjitlink-cu12 in /opt/conda/lib/python3.10/site-packages (from nvidia-cusolver-cu12==11.4.5.107->torch>=2.3.0->torchtext) (12.5.82)\n",
            "Requirement already satisfied: charset-normalizer<4,>=2 in /opt/conda/lib/python3.10/site-packages (from requests->torchtext) (3.3.2)\n",
            "Requirement already satisfied: idna<4,>=2.5 in /opt/conda/lib/python3.10/site-packages (from requests->torchtext) (3.7)\n",
            "Requirement already satisfied: urllib3<3,>=1.21.1 in /opt/conda/lib/python3.10/site-packages (from requests->torchtext) (1.26.18)\n",
            "Requirement already satisfied: certifi>=2017.4.17 in /opt/conda/lib/python3.10/site-packages (from requests->torchtext) (2024.2.2)\n",
            "Requirement already satisfied: MarkupSafe>=2.0 in /opt/conda/lib/python3.10/site-packages (from jinja2->torch>=2.3.0->torchtext) (2.1.5)\n",
            "Requirement already satisfied: mpmath>=0.19 in /opt/conda/lib/python3.10/site-packages (from sympy->torch>=2.3.0->torchtext) (1.3.0)\n",
            "Note: you may need to restart the kernel to use updated packages.\n"
          ]
        }
      ],
      "source": [
        "# Install torchtext for text processing\n",
        "pip install torchtext"
      ]
    },
    {
      "cell_type": "code",
      "execution_count": null,
      "metadata": {
        "id": "u2WYp9vjgJA3"
      },
      "outputs": [],
      "source": [
        "# Load the preprocessed dataset\n",
        "train_data = torch.load('train_preprocessed_data.pt')\n",
        "val_data = torch.load('val_preprocessed_data.pt')\n",
        "test_data = torch.load('test_preprocessed_data.pt')\n",
        ""
      ]
    },
    {
      "cell_type": "code",
      "execution_count": null,
      "metadata": {
        "id": "ThNnUgJtgJA3"
      },
      "outputs": [],
      "source": [
        "# Import required libraries for building and training the model\n",
        "import torch\n",
        "import torch.nn as nn\n",
        "import torchtext\n",
        "from torchtext.vocab import build_vocab_from_iterator\n",
        "from torch.utils.data import Dataset,DataLoader\n",
        "import torchvision.models as models\n",
        "\n",
        "# Tokenize the captions by splitting into words\n",
        "def tokenize_caption(caption):\n",
        "    return caption.split()\n",
        "\n",
        "# Build the vocabulary from the training captions\n",
        "def yield_tokens(data):\n",
        "    for caption in data['captions']:\n",
        "        yield tokenize_caption(caption)\n",
        "\n",
        "# Create a vocabulary object from the training captions\n",
        "vocab = build_vocab_from_iterator(yield_tokens(train_data), specials=[\"<pad>\", \"<sos>\", \"<eos>\", \"<unk>\"])\n",
        "vocab.set_default_index(vocab[\"<unk>\"])\n",
        "\n",
        "# Define a function to numericalize and pad the captions\n",
        "def numericalize_caption(caption, vocab, max_length=20):\n",
        "    tokens = tokenize_caption(caption)\n",
        "    tokens = [\"<sos>\"] + tokens + [\"<eos>\"]\n",
        "    token_ids = vocab(tokens)\n",
        "    if len(token_ids) < max_length:\n",
        "        token_ids += [vocab[\"<pad>\"]] * (max_length - len(token_ids))\n",
        "    else:\n",
        "        token_ids = token_ids[:max_length]\n",
        "    return torch.tensor(token_ids)\n",
        "\n",
        "# Define a custom dataset class for handling image-caption pairs\n",
        "class CustomDataset(Dataset):\n",
        "    def __init__(self, data, vocab, transform=None, max_length=20):\n",
        "        self.data = data\n",
        "        self.vocab = vocab\n",
        "        self.transform = transform\n",
        "        self.max_length = max_length\n",
        "\n",
        "    def __len__(self):\n",
        "        return len(self.data['captions'])\n",
        "\n",
        "    def __getitem__(self, idx):\n",
        "        caption = self.data['captions'][idx]\n",
        "        image = self.data['images'][idx]\n",
        "\n",
        "        # Ensure no extra dimension is added to the image tensor\n",
        "        caption = numericalize_caption(caption, self.vocab, self.max_length)\n",
        "        return image.squeeze(0), caption\n"
      ]
    },
    {
      "cell_type": "code",
      "execution_count": null,
      "metadata": {
        "id": "XfbTdj3DgJA3"
      },
      "outputs": [],
      "source": [
        "# Create dataset objects for training, validation, and testing\n",
        "train_dataset = CustomDataset(train_data, vocab, transform=None)\n",
        "val_dataset = CustomDataset(val_data, vocab, transform=None)\n",
        "test_dataset = CustomDataset(test_data, vocab, transform=None)"
      ]
    },
    {
      "cell_type": "code",
      "execution_count": null,
      "metadata": {
        "id": "6ZhEp5FxgJA4"
      },
      "outputs": [],
      "source": [
        "# Create DataLoader instances for batching and shuffling data\n",
        "batch_size = 32\n",
        "train_loader = DataLoader(train_dataset, batch_size=batch_size, shuffle=True)\n",
        "val_loader = DataLoader(val_dataset, batch_size=batch_size, shuffle=False)\n",
        "test_loader = DataLoader(test_dataset, batch_size=batch_size, shuffle=False)\n",
        ""
      ]
    },
    {
      "cell_type": "code",
      "execution_count": null,
      "metadata": {
        "id": "L_zDRX3kgJA4"
      },
      "outputs": [],
      "source": [
        "# Define a custom model class for the image captioning task\n",
        "class ImageCaptioningModel(nn.Module):\n",
        "    def __init__(self, cnn_model_name, embed_size, hidden_size, vocab_size, num_layers):\n",
        "        super(ImageCaptioningModel, self).__init__()\n",
        "        self.cnn_model_name = cnn_model_name\n",
        "        self.embed_size = embed_size\n",
        "        self.hidden_size = hidden_size\n",
        "        self.vocab_size = vocab_size\n",
        "        self.num_layers = num_layers\n",
        "\n",
        "        if cnn_model_name == 'vgg':\n",
        "            self.cnn = models.vgg16(pretrained=True)\n",
        "            self.cnn.classifier[-1] = nn.Linear(self.cnn.classifier[-1].in_features, embed_size)\n",
        "        elif cnn_model_name == 'resnet':\n",
        "            self.cnn = models.resnet50(pretrained=True)\n",
        "            self.cnn.fc = nn.Linear(self.cnn.fc.in_features, embed_size)\n",
        "        elif cnn_model_name == 'efficientnet':\n",
        "            self.cnn = models.efficientnet_b0(pretrained=True)\n",
        "            self.cnn.classifier[-1] = nn.Linear(self.cnn.classifier[-1].in_features, embed_size)\n",
        "\n",
        "        self.embedding = nn.Embedding(vocab_size, embed_size)\n",
        "        self.rnn_input_size = embed_size * 2  # Because we are concatenating CNN output and embedded captions\n",
        "        self.rnn = nn.LSTM(self.rnn_input_size, hidden_size, num_layers, batch_first=True)\n",
        "        self.linear = nn.Linear(hidden_size, vocab_size)\n",
        "        self.device = torch.device('cuda' if torch.cuda.is_available() else 'cpu')\n",
        "\n",
        "    def forward(self, images, captions):\n",
        "        cnn_out = self.cnn(images)\n",
        "        cnn_out = cnn_out.unsqueeze(1).repeat(1, captions.size(1), 1)\n",
        "\n",
        "        embedded_captions = self.embedding(captions)\n",
        "        rnn_input = torch.cat((cnn_out, embedded_captions), dim=2)\n",
        "\n",
        "        rnn_out, _ = self.rnn(rnn_input)\n",
        "        outputs = self.linear(rnn_out)\n",
        "        return outputs\n"
      ]
    },
    {
      "cell_type": "code",
      "execution_count": null,
      "metadata": {
        "id": "BIbldp9ZgJA4"
      },
      "outputs": [],
      "source": [
        "def train_model(model, train_loader, criterion, optimizer, num_epochs):\n",
        "    model.train()\n",
        "    for epoch in range(num_epochs):\n",
        "        for images, captions in train_loader:\n",
        "            images = images.to(model.device)\n",
        "            captions = captions.to(model.device)\n",
        "\n",
        "            optimizer.zero_grad()\n",
        "            outputs = model(images, captions[:, :-1])\n",
        "            loss = criterion(outputs.reshape(-1, outputs.shape[2]), captions[:, 1:].reshape(-1))\n",
        "            loss.backward()\n",
        "            optimizer.step()\n",
        "\n",
        "        print(f'Epoch [{epoch+1}/{num_epochs}], Loss: {loss.item():.4f}')\n",
        "\n",
        "def evaluate_model(model, test_loader, criterion):\n",
        "    model.eval()\n",
        "    with torch.no_grad():\n",
        "        total_loss = 0\n",
        "        for images, captions in test_loader:\n",
        "            images = images.to(model.device)\n",
        "            captions = captions.to(model.device)\n",
        "\n",
        "            outputs = model(images, captions[:, :-1])\n",
        "            loss = criterion(outputs.reshape(-1, outputs.shape[2]), captions[:, 1:].reshape(-1))\n",
        "            total_loss += loss.item()\n",
        "\n",
        "        avg_loss = total_loss / len(test_loader)\n",
        "        print(f'Average Test Loss: {avg_loss:.4f}')"
      ]
    },
    {
      "cell_type": "code",
      "execution_count": null,
      "metadata": {
        "id": "8-luf8uIgJA5",
        "outputId": "5417c534-3582-4599-a5de-2812134d1c10"
      },
      "outputs": [
        {
          "name": "stderr",
          "output_type": "stream",
          "text": [
            "/opt/conda/lib/python3.10/site-packages/torchvision/models/_utils.py:208: UserWarning: The parameter 'pretrained' is deprecated since 0.13 and may be removed in the future, please use 'weights' instead.\n",
            "  warnings.warn(\n",
            "/opt/conda/lib/python3.10/site-packages/torchvision/models/_utils.py:223: UserWarning: Arguments other than a weight enum or `None` for 'weights' are deprecated since 0.13 and may be removed in the future. The current behavior is equivalent to passing `weights=VGG16_Weights.IMAGENET1K_V1`. You can also use `weights=VGG16_Weights.DEFAULT` to get the most up-to-date weights.\n",
            "  warnings.warn(msg)\n"
          ]
        },
        {
          "name": "stdout",
          "output_type": "stream",
          "text": [
            "Training VGG Model\n",
            "Epoch [1/10], Loss: 5.8930\n",
            "Epoch [2/10], Loss: 5.1336\n",
            "Epoch [3/10], Loss: 4.0198\n",
            "Epoch [4/10], Loss: 4.9219\n",
            "Epoch [5/10], Loss: 5.5566\n",
            "Epoch [6/10], Loss: 4.9949\n",
            "Epoch [7/10], Loss: 5.9203\n",
            "Epoch [8/10], Loss: 5.6124\n",
            "Epoch [9/10], Loss: 3.7834\n",
            "Epoch [10/10], Loss: 5.8096\n",
            "Evaluating VGG Model\n",
            "Average Test Loss: 5.7654\n"
          ]
        }
      ],
      "source": [
        "# Set model parameters and initialize the model\n",
        "embed_size = 256\n",
        "hidden_size = 512\n",
        "vocab_size = len(vocab)\n",
        "num_layers = 1\n",
        "num_epochs = 10\n",
        "learning_rate = 0.001\n",
        "\n",
        "\n",
        "vgg_model = ImageCaptioningModel('vgg', embed_size, hidden_size, vocab_size, num_layers).to(device)\n",
        "\n",
        "# Define loss function and optimizer\n",
        "criterion = nn.CrossEntropyLoss()\n",
        "optimizer_vgg = torch.optim.Adam(vgg_model.parameters(), lr=learning_rate)\n",
        "\n",
        "# Train and Evaluate VGG Model\n",
        "print(\"Training VGG Model\")\n",
        "train_model(vgg_model, train_loader, criterion, optimizer_vgg, num_epochs)\n",
        "print(\"Evaluating VGG Model\")\n",
        "evaluate_model(vgg_model, test_loader, criterion)"
      ]
    },
    {
      "cell_type": "markdown",
      "source": [
        "Model 2\n"
      ],
      "metadata": {
        "id": "thxYqpVjkrS1"
      }
    },
    {
      "cell_type": "code",
      "execution_count": null,
      "metadata": {
        "id": "IOJP6fvHicFA"
      },
      "outputs": [],
      "source": [
        "# Define image transformations: resize and convert to tenso\n",
        "transform = transforms.Compose([\n",
        "    transforms.Resize((224, 224)),  # Resize the image to 224x224 pixels\n",
        "    transforms.ToTensor(),          # Convert the image to a tensor\n",
        "])\n",
        "\n",
        "# Define a function to preprocess images\n",
        "def preprocess_image(image_path):\n",
        "    try:\n",
        "        img = Image.open(image_path).convert('RGB')\n",
        "        img_tensor = transform(img)  # Apply transformations\n",
        "        img_tensor = img_tensor.permute(1, 2, 0)\n",
        "        img_tensor = img_tensor.to(device)  # Move the tensor to the specified device\n",
        "        img_tensor = img_tensor.cpu().numpy()\n",
        "        return img_tensor\n",
        "    except UnidentifiedImageError:\n",
        "        print(f\"Cannot identify image file: {image_path}\")\n",
        "        return None"
      ]
    },
    {
      "cell_type": "code",
      "execution_count": null,
      "metadata": {
        "id": "hXYvGqB1f22-"
      },
      "outputs": [],
      "source": [
        "# Define directories where images can be located\n",
        "train_image_dirs = ['/home/sagemaker-user/xray-images/all_data/train/non-radiology/images/',\n",
        "                    '/home/sagemaker-user/xray-images/all_data/train/radiology/images/']\n",
        "val_image_dirs = ['/home/sagemaker-user/xray-images/all_data/validation/non-radiology/images/',\n",
        "                  '/home/sagemaker-user/xray-images/all_data/validation/radiology/images/']\n",
        "test_image_dirs = ['/home/sagemaker-user/xray-images/all_data/test/non-radiology/images/',\n",
        "                   '/home/sagemaker-user/xray-images/all_data/test/radiology/images/']"
      ]
    },
    {
      "cell_type": "code",
      "execution_count": null,
      "metadata": {
        "id": "CQCU5IDigq99"
      },
      "outputs": [],
      "source": [
        "\n",
        "# Define a function to find the image in the specified directories\n",
        "def find_image(image_name, image_dirs):\n",
        "    for dir in image_dirs:\n",
        "        image_path = os.path.join(dir, image_name)\n",
        "        if os.path.exists(image_path):\n",
        "            return image_path\n",
        "    return None"
      ]
    },
    {
      "cell_type": "code",
      "execution_count": null,
      "metadata": {
        "id": "b8vRuck5gzi5"
      },
      "outputs": [],
      "source": [
        "# Initialize an empty list to store preprocessed data\n",
        "preprocessed_data = []"
      ]
    },
    {
      "cell_type": "code",
      "execution_count": null,
      "metadata": {
        "id": "HaivMzuXiX9m"
      },
      "outputs": [],
      "source": [
        "# Define the device for computation (GPU if available, otherwise CPU)\n",
        "device = torch.device('cuda' if torch.cuda.is_available() else 'cpu')"
      ]
    },
    {
      "cell_type": "code",
      "execution_count": null,
      "metadata": {
        "id": "vqGHVYAvg4KW"
      },
      "outputs": [],
      "source": [
        "# Import necessary libraries for data manipulation\n",
        "import pandas as pd\n",
        "import torch\n",
        "\n",
        "# Define a function to process and save the dataset\n",
        "def process_and_save_dataset(df, set_name, image_dirs):\n",
        "    preprocessed_data = []\n",
        "    max_samples = 1000\n",
        "    processed_samples = 0\n",
        "\n",
        "    for index, row in df.iterrows():\n",
        "        if processed_samples >= max_samples:\n",
        "            break\n",
        "        image_path = find_image(row['name'], image_dirs)\n",
        "        if image_path:\n",
        "            preprocessed_image = preprocess_image(image_path)\n",
        "            if preprocessed_image is not None:\n",
        "                preprocessed_data.append((row['cleaned_caption'], preprocessed_image))\n",
        "                processed_samples += 1\n",
        "        else:\n",
        "            print(f\"Image {row['name']} not found.\")\n",
        "\n",
        "    # Create a DataFrame from the preprocessed data\n",
        "    preprocessed_df = pd.DataFrame(preprocessed_data, columns=['cleaned_caption', 'image_tensor'])\n",
        "\n",
        "    print(f'{set_name} preprocessed data has been stored in a DataFrame.')\n",
        "\n",
        "    return preprocessed_df\n"
      ]
    },
    {
      "cell_type": "code",
      "execution_count": null,
      "metadata": {
        "colab": {
          "base_uri": "https://localhost:8080/"
        },
        "id": "wHxUIpDCn4Y6",
        "outputId": "0539f17e-9ce7-4cfb-d407-ab6c380c85cf"
      },
      "outputs": [
        {
          "name": "stdout",
          "output_type": "stream",
          "text": [
            "train preprocessed data has been stored in a DataFrame.\n",
            "val preprocessed data has been stored in a DataFrame.\n",
            "test preprocessed data has been stored in a DataFrame.\n"
          ]
        }
      ],
      "source": [
        "# Process and save the training, validation, and test datasets\n",
        "train_preprocessed_df = process_and_save_dataset(train_caption_df, 'train', train_image_dirs)\n",
        "val_preprocessed_df = process_and_save_dataset(val_caption_df, 'val', val_image_dirs)\n",
        "test_preprocessed_df = process_and_save_dataset(test_caption_df, 'test', test_image_dirs)"
      ]
    },
    {
      "cell_type": "code",
      "execution_count": null,
      "metadata": {
        "colab": {
          "base_uri": "https://localhost:8080/",
          "height": 275
        },
        "id": "uxvqHtR5NeTu",
        "outputId": "ddbb32e7-54d9-4f6a-9537-ee194afb0576"
      },
      "outputs": [
        {
          "data": {
            "text/html": [
              "<div>\n",
              "<style scoped>\n",
              "    .dataframe tbody tr th:only-of-type {\n",
              "        vertical-align: middle;\n",
              "    }\n",
              "\n",
              "    .dataframe tbody tr th {\n",
              "        vertical-align: top;\n",
              "    }\n",
              "\n",
              "    .dataframe thead th {\n",
              "        text-align: right;\n",
              "    }\n",
              "</style>\n",
              "<table border=\"1\" class=\"dataframe\">\n",
              "  <thead>\n",
              "    <tr style=\"text-align: right;\">\n",
              "      <th></th>\n",
              "      <th>cleaned_caption</th>\n",
              "      <th>image_tensor</th>\n",
              "    </tr>\n",
              "  </thead>\n",
              "  <tbody>\n",
              "    <tr>\n",
              "      <th>0</th>\n",
              "      <td>comput tomographi scan axial view show obliter...</td>\n",
              "      <td>[[[0.16078432, 0.15294118, 0.15686275], [0.164...</td>\n",
              "    </tr>\n",
              "    <tr>\n",
              "      <th>1</th>\n",
              "      <td>bacteri contamin occur complet root canal trea...</td>\n",
              "      <td>[[[1.0, 1.0, 1.0], [1.0, 1.0, 1.0], [1.0, 1.0,...</td>\n",
              "    </tr>\n",
              "    <tr>\n",
              "      <th>2</th>\n",
              "      <td>patient residu paralysi hand poliomyel necessa...</td>\n",
              "      <td>[[[0.4117647, 0.4117647, 0.4117647], [0.211764...</td>\n",
              "    </tr>\n",
              "    <tr>\n",
              "      <th>3</th>\n",
              "      <td>panoram radiograph immedi load</td>\n",
              "      <td>[[[1.0, 1.0, 1.0], [1.0, 1.0, 1.0], [1.0, 1.0,...</td>\n",
              "    </tr>\n",
              "    <tr>\n",
              "      <th>4</th>\n",
              "      <td>plain abdomen xray multipl air level midabdome...</td>\n",
              "      <td>[[[0.47843137, 0.47843137, 0.47843137], [0.388...</td>\n",
              "    </tr>\n",
              "  </tbody>\n",
              "</table>\n",
              "</div>"
            ],
            "text/plain": [
              "                                     cleaned_caption  \\\n",
              "0  comput tomographi scan axial view show obliter...   \n",
              "1  bacteri contamin occur complet root canal trea...   \n",
              "2  patient residu paralysi hand poliomyel necessa...   \n",
              "3                     panoram radiograph immedi load   \n",
              "4  plain abdomen xray multipl air level midabdome...   \n",
              "\n",
              "                                        image_tensor  \n",
              "0  [[[0.16078432, 0.15294118, 0.15686275], [0.164...  \n",
              "1  [[[1.0, 1.0, 1.0], [1.0, 1.0, 1.0], [1.0, 1.0,...  \n",
              "2  [[[0.4117647, 0.4117647, 0.4117647], [0.211764...  \n",
              "3  [[[1.0, 1.0, 1.0], [1.0, 1.0, 1.0], [1.0, 1.0,...  \n",
              "4  [[[0.47843137, 0.47843137, 0.47843137], [0.388...  "
            ]
          },
          "execution_count": 26,
          "metadata": {},
          "output_type": "execute_result"
        }
      ],
      "source": [
        "# Display the first few rows of the preprocessed training data\n",
        "train_preprocessed_df.head()"
      ]
    },
    {
      "cell_type": "code",
      "execution_count": null,
      "metadata": {
        "id": "mraMDOTVN9Zn"
      },
      "outputs": [],
      "source": [
        "# Import necessary libraries for text processing and model building\n",
        "from tensorflow.keras.preprocessing.text import Tokenizer\n",
        "from tensorflow.keras.preprocessing.sequence import pad_sequences\n",
        "from tensorflow.keras.models import Model\n",
        "from tensorflow.keras.layers import Input, Dense, LSTM, Embedding, Dropout, add\n",
        "from tensorflow.keras.applications import InceptionV3\n",
        "from sklearn.model_selection import train_test_split\n",
        "import matplotlib.pyplot as plt"
      ]
    },
    {
      "cell_type": "code",
      "execution_count": null,
      "metadata": {
        "id": "uI7EiEfQN7W3"
      },
      "outputs": [],
      "source": [
        "# Define a function to preprocess text by tokenizing and sequencing\n",
        "def preprocess_text(captions):\n",
        "    tokenizer = Tokenizer()\n",
        "    tokenizer.fit_on_texts(captions)\n",
        "    sequences = tokenizer.texts_to_sequences(captions)\n",
        "    max_length = max(len(seq) for seq in sequences)\n",
        "    word_index = tokenizer.word_index\n",
        "    vocab_size = len(word_index) + 1\n",
        "\n",
        "    return tokenizer, max_length, vocab_size"
      ]
    },
    {
      "cell_type": "code",
      "execution_count": null,
      "metadata": {
        "id": "MNo2qlFCOL9v"
      },
      "outputs": [],
      "source": [
        "# Preprocess the training captions\n",
        "train_captions = train_preprocessed_df['cleaned_caption']\n",
        "tokenizer, max_length, vocab_size = preprocess_text(train_captions)"
      ]
    },
    {
      "cell_type": "code",
      "execution_count": null,
      "metadata": {
        "id": "NIAjrr9wOVKv"
      },
      "outputs": [],
      "source": [
        "# Define a function to create sequences for model input\n",
        "def create_sequences(tokenizer, max_length, descriptions, photos):\n",
        "    X1, X2, y = [], [], []\n",
        "    for i in range(len(descriptions)):\n",
        "        desc = descriptions[i]\n",
        "        photo = photos[i]\n",
        "        seq = tokenizer.texts_to_sequences([desc])[0]\n",
        "        for j in range(1, len(seq)):\n",
        "            in_seq, out_seq = seq[:j], seq[j]\n",
        "            in_seq = pad_sequences([in_seq], maxlen=max_length)[0]\n",
        "            out_seq_vec = np.zeros(vocab_size)\n",
        "            out_seq_vec[out_seq] = 1\n",
        "            X1.append(photo)\n",
        "            X2.append(in_seq)\n",
        "            y.append(out_seq_vec)\n",
        "    return np.array(X1), np.array(X2), np.array(y)"
      ]
    },
    {
      "cell_type": "code",
      "execution_count": null,
      "metadata": {
        "id": "4kmhvkU6OZzW"
      },
      "outputs": [],
      "source": [
        "# Create sequences for training data\n",
        "X1train, X2train, ytrain = create_sequences(tokenizer, max_length, train_preprocessed_df['cleaned_caption'],train_preprocessed_df['image_tensor'])"
      ]
    },
    {
      "cell_type": "code",
      "execution_count": null,
      "metadata": {
        "colab": {
          "base_uri": "https://localhost:8080/"
        },
        "id": "gwQIJhZwOqUW",
        "outputId": "27ef5e7a-4d7f-4f5b-9a71-da1916ba5d71"
      },
      "outputs": [
        {
          "name": "stdout",
          "output_type": "stream",
          "text": [
            "Downloading data from https://storage.googleapis.com/tensorflow/keras-applications/inception_v3/inception_v3_weights_tf_dim_ordering_tf_kernels_notop.h5\n",
            "87910968/87910968 [==============================] - 1s 0us/step\n",
            "Model: \"model_2\"\n",
            "__________________________________________________________________________________________________\n",
            " Layer (type)                Output Shape                 Param #   Connected to                  \n",
            "==================================================================================================\n",
            " input_6 (InputLayer)        [(None, 78)]                 0         []                            \n",
            "                                                                                                  \n",
            " input_4 (InputLayer)        [(None, 224, 224, 3)]        0         []                            \n",
            "                                                                                                  \n",
            " embedding_1 (Embedding)     (None, 78, 256)              814080    ['input_6[0][0]']             \n",
            "                                                                                                  \n",
            " inception_v3 (Functional)   (None, 2048)                 2180278   ['input_4[0][0]']             \n",
            "                                                          4                                       \n",
            "                                                                                                  \n",
            " dropout_2 (Dropout)         (None, 78, 256)              0         ['embedding_1[0][0]']         \n",
            "                                                                                                  \n",
            " dense_3 (Dense)             (None, 256)                  524544    ['inception_v3[0][0]']        \n",
            "                                                                                                  \n",
            " lstm_1 (LSTM)               (None, 256)                  525312    ['dropout_2[0][0]']           \n",
            "                                                                                                  \n",
            " add_1 (Add)                 (None, 256)                  0         ['dense_3[0][0]',             \n",
            "                                                                     'lstm_1[0][0]']              \n",
            "                                                                                                  \n",
            " dense_4 (Dense)             (None, 256)                  65792     ['add_1[0][0]']               \n",
            "                                                                                                  \n",
            " dense_5 (Dense)             (None, 3180)                 817260    ['dense_4[0][0]']             \n",
            "                                                                                                  \n",
            "==================================================================================================\n",
            "Total params: 24549772 (93.65 MB)\n",
            "Trainable params: 2746988 (10.48 MB)\n",
            "Non-trainable params: 21802784 (83.17 MB)\n",
            "__________________________________________________________________________________________________\n"
          ]
        }
      ],
      "source": [
        "# Define the image captioning model using InceptionV3 and LSTM\n",
        "def define_model(vocab_size, max_length):\n",
        "    inputs1 = Input(shape=(224, 224, 3))\n",
        "    model = InceptionV3(include_top=False, pooling='avg')\n",
        "    for layer in model.layers:\n",
        "        layer.trainable = False\n",
        "    fe1 = model(inputs1)\n",
        "    fe2 = Dense(256, activation='relu')(fe1)\n",
        "\n",
        "    inputs2 = Input(shape=(max_length,))\n",
        "    se1 = Embedding(vocab_size, 256, mask_zero=True)(inputs2)\n",
        "    se2 = Dropout(0.5)(se1)\n",
        "    se3 = LSTM(256)(se2)\n",
        "\n",
        "    decoder1 = add([fe2, se3])\n",
        "    decoder2 = Dense(256, activation='relu')(decoder1)\n",
        "    outputs = Dense(vocab_size, activation='softmax')(decoder2)\n",
        "\n",
        "    model = Model(inputs=[inputs1, inputs2], outputs=outputs)\n",
        "    model.compile(loss='categorical_crossentropy', optimizer='adam')\n",
        "\n",
        "    return model\n",
        "\n",
        "model = define_model(vocab_size, max_length)\n",
        "model.summary()\n"
      ]
    },
    {
      "cell_type": "code",
      "execution_count": null,
      "metadata": {
        "id": "UTFtIPG2PTXs"
      },
      "outputs": [],
      "source": [
        "# Set training parameters\n",
        "epochs = 10\n",
        "batch_size = 64"
      ]
    },
    {
      "cell_type": "code",
      "execution_count": null,
      "metadata": {
        "id": "aBa_3GaRPbOz"
      },
      "outputs": [],
      "source": [
        "# Compile the model with additional accuracy metric\n",
        "model.compile(loss='categorical_crossentropy', optimizer='adam', metrics=['accuracy'])"
      ]
    },
    {
      "cell_type": "code",
      "execution_count": null,
      "metadata": {
        "colab": {
          "base_uri": "https://localhost:8080/"
        },
        "id": "yU2ZYVidPeYr",
        "outputId": "0013df2f-9dae-4d9a-9e8d-bccf0c67bd9c"
      },
      "outputs": [
        {
          "name": "stderr",
          "output_type": "stream",
          "text": [
            "2024-07-05 10:09:18.735804: W external/local_tsl/tsl/framework/cpu_allocator_impl.cc:83] Allocation of 6147563520 exceeds 10% of free system memory.\n"
          ]
        },
        {
          "name": "stdout",
          "output_type": "stream",
          "text": [
            "Epoch 1/10\n",
            "160/160 [==============================] - 136s 814ms/step - loss: 7.2387 - accuracy: 0.0397 - val_loss: 7.0585 - val_accuracy: 0.0431\n",
            "Epoch 2/10\n",
            "160/160 [==============================] - 127s 793ms/step - loss: 6.5924 - accuracy: 0.0502 - val_loss: 7.1526 - val_accuracy: 0.0521\n",
            "Epoch 3/10\n",
            "160/160 [==============================] - 127s 793ms/step - loss: 6.1538 - accuracy: 0.0685 - val_loss: 7.1406 - val_accuracy: 0.0678\n",
            "Epoch 4/10\n",
            "160/160 [==============================] - 127s 795ms/step - loss: 5.6230 - accuracy: 0.0871 - val_loss: 7.2780 - val_accuracy: 0.0776\n",
            "Epoch 5/10\n",
            "160/160 [==============================] - 127s 794ms/step - loss: 5.0209 - accuracy: 0.1083 - val_loss: 7.6905 - val_accuracy: 0.0732\n",
            "Epoch 6/10\n",
            "160/160 [==============================] - 127s 797ms/step - loss: 4.3645 - accuracy: 0.1301 - val_loss: 8.1476 - val_accuracy: 0.0638\n",
            "Epoch 7/10\n",
            "160/160 [==============================] - 127s 796ms/step - loss: 3.7622 - accuracy: 0.1604 - val_loss: 8.8571 - val_accuracy: 0.0674\n",
            "Epoch 8/10\n",
            "160/160 [==============================] - 128s 802ms/step - loss: 3.2460 - accuracy: 0.2154 - val_loss: 9.2397 - val_accuracy: 0.0701\n",
            "Epoch 9/10\n",
            "160/160 [==============================] - 128s 799ms/step - loss: 2.8289 - accuracy: 0.2699 - val_loss: 9.9721 - val_accuracy: 0.0615\n",
            "Epoch 10/10\n",
            "160/160 [==============================] - 128s 799ms/step - loss: 2.4735 - accuracy: 0.3375 - val_loss: 10.7784 - val_accuracy: 0.0623\n"
          ]
        }
      ],
      "source": [
        "# Train the model\n",
        "history = model.fit([X1train, X2train], ytrain, epochs=epochs, batch_size=batch_size, validation_split=0.2)"
      ]
    },
    {
      "cell_type": "code",
      "execution_count": null,
      "metadata": {
        "colab": {
          "base_uri": "https://localhost:8080/",
          "height": 472
        },
        "id": "7hbYHYHLXfy3",
        "outputId": "0aab7bec-8de0-40f6-c11d-7c5366302c79"
      },
      "outputs": [
        {
          "data": {
            "image/png": "[encoded data removed]",
            "text/plain": [
              "<Figure size 640x480 with 1 Axes>"
            ]
          },
          "metadata": {},
          "output_type": "display_data"
        }
      ],
      "source": [
        "# Access and plot training and validation accuracy\n",
        "train_acc = history.history['accuracy']\n",
        "val_acc = history.history['val_accuracy']\n",
        "\n",
        "plt.plot(train_acc, label='Training Accuracy')\n",
        "plt.plot(val_acc, label='Validation Accuracy')\n",
        "plt.title('Training and Validation Accuracy')\n",
        "plt.xlabel('Epochs')\n",
        "plt.ylabel('Accuracy')\n",
        "plt.legend()\n",
        "plt.show()\n"
      ]
    },
    {
      "cell_type": "code",
      "execution_count": null,
      "metadata": {
        "id": "Ooiyd3YMXiYi"
      },
      "outputs": [],
      "source": []
    },
    {
      "cell_type": "code",
      "execution_count": null,
      "metadata": {
        "id": "PR7jsGl8gJBQ"
      },
      "outputs": [],
      "source": []
    }
  ],
  "metadata": {
    "accelerator": "TPU",
    "colab": {
      "gpuType": "V28",
      "provenance": []
    },
    "kernelspec": {
      "display_name": "Python 3 (ipykernel)",
      "language": "python",
      "name": "python3"
    },
    "language_info": {
      "codemirror_mode": {
        "name": "ipython",
        "version": 3
      },
      "file_extension": ".py",
      "mimetype": "text/x-python",
      "name": "python",
      "nbconvert_exporter": "python",
      "pygments_lexer": "ipython3",
      "version": "3.10.14"
    }
  },
  "nbformat": 4,
  "nbformat_minor": 0
}