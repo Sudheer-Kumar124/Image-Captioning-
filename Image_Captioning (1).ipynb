{
  "nbformat": 4,
  "nbformat_minor": 0,
  "metadata": {
    "colab": {
      "provenance": []
    },
    "kernelspec": {
      "name": "python3",
      "display_name": "Python 3"
    },
    "language_info": {
      "name": "python"
    }
  },
  "cells": [
    {
      "cell_type": "code",
      "execution_count": 1,
      "metadata": {
        "colab": {
          "base_uri": "https://localhost:8080/"
        },
        "id": "7M2QcK9sr8G2",
        "outputId": "72045f64-dc68-4543-aa0e-78f1f4db02a9"
      },
      "outputs": [
        {
          "output_type": "stream",
          "name": "stdout",
          "text": [
            "Collecting opendatasets\n",
            "  Downloading opendatasets-0.1.22-py3-none-any.whl (15 kB)\n",
            "Requirement already satisfied: tqdm in /usr/local/lib/python3.10/dist-packages (from opendatasets) (4.66.4)\n",
            "Requirement already satisfied: kaggle in /usr/local/lib/python3.10/dist-packages (from opendatasets) (1.6.14)\n",
            "Requirement already satisfied: click in /usr/local/lib/python3.10/dist-packages (from opendatasets) (8.1.7)\n",
            "Requirement already satisfied: six>=1.10 in /usr/local/lib/python3.10/dist-packages (from kaggle->opendatasets) (1.16.0)\n",
            "Requirement already satisfied: certifi>=2023.7.22 in /usr/local/lib/python3.10/dist-packages (from kaggle->opendatasets) (2024.7.4)\n",
            "Requirement already satisfied: python-dateutil in /usr/local/lib/python3.10/dist-packages (from kaggle->opendatasets) (2.8.2)\n",
            "Requirement already satisfied: requests in /usr/local/lib/python3.10/dist-packages (from kaggle->opendatasets) (2.31.0)\n",
            "Requirement already satisfied: python-slugify in /usr/local/lib/python3.10/dist-packages (from kaggle->opendatasets) (8.0.4)\n",
            "Requirement already satisfied: urllib3 in /usr/local/lib/python3.10/dist-packages (from kaggle->opendatasets) (2.0.7)\n",
            "Requirement already satisfied: bleach in /usr/local/lib/python3.10/dist-packages (from kaggle->opendatasets) (6.1.0)\n",
            "Requirement already satisfied: webencodings in /usr/local/lib/python3.10/dist-packages (from bleach->kaggle->opendatasets) (0.5.1)\n",
            "Requirement already satisfied: text-unidecode>=1.3 in /usr/local/lib/python3.10/dist-packages (from python-slugify->kaggle->opendatasets) (1.3)\n",
            "Requirement already satisfied: charset-normalizer<4,>=2 in /usr/local/lib/python3.10/dist-packages (from requests->kaggle->opendatasets) (3.3.2)\n",
            "Requirement already satisfied: idna<4,>=2.5 in /usr/local/lib/python3.10/dist-packages (from requests->kaggle->opendatasets) (3.7)\n",
            "Installing collected packages: opendatasets\n",
            "Successfully installed opendatasets-0.1.22\n"
          ]
        }
      ],
      "source": [
        "pip install opendatasets"
      ]
    },
    {
      "cell_type": "code",
      "source": [
        "import opendatasets as od\n",
        "od.download(\"https://www.kaggle.com/datasets/virajbagal/roco-dataset?select=all_data\")"
      ],
      "metadata": {
        "colab": {
          "base_uri": "https://localhost:8080/"
        },
        "id": "HrcQ1Pp2sA_t",
        "outputId": "301d838a-3b2a-4c41-fdec-91df6407fe55"
      },
      "execution_count": 2,
      "outputs": [
        {
          "output_type": "stream",
          "name": "stdout",
          "text": [
            "Please provide your Kaggle credentials to download this dataset. Learn more: http://bit.ly/kaggle-creds\n",
            "Your Kaggle username: siddheshatkar\n",
            "Your Kaggle Key: ··········\n",
            "Dataset URL: https://www.kaggle.com/datasets/virajbagal/roco-dataset\n",
            "Downloading roco-dataset.zip to ./roco-dataset\n"
          ]
        },
        {
          "output_type": "stream",
          "name": "stderr",
          "text": [
            "100%|██████████| 6.19G/6.19G [01:09<00:00, 95.0MB/s]\n"
          ]
        },
        {
          "output_type": "stream",
          "name": "stdout",
          "text": [
            "\n"
          ]
        }
      ]
    },
    {
      "cell_type": "code",
      "source": [
        "import os\n",
        "import numpy as np\n",
        "import pandas as pd\n",
        "import tensorflow as tf\n",
        "from sklearn.model_selection import train_test_split\n",
        "from tensorflow.keras.preprocessing.image import ImageDataGenerator\n",
        "from tensorflow.keras.preprocessing.text import Tokenizer\n",
        "from tensorflow.keras.preprocessing.sequence import pad_sequences\n",
        "import matplotlib.pyplot as plt\n",
        "from keras.applications import ResNet50\n",
        "from keras.layers import LSTM, Dense, Embedding, RepeatVector, TimeDistributed, Input, Flatten\n",
        "from keras.models import Model\n",
        "from keras.preprocessing.text import Tokenizer\n",
        "from keras.preprocessing.sequence import pad_sequences\n",
        "from keras import optimizers\n",
        "from keras.utils import plot_model\n",
        "from keras.callbacks import ModelCheckpoint\n",
        "from PIL import Image"
      ],
      "metadata": {
        "id": "qdL_T1njc2pO"
      },
      "execution_count": 3,
      "outputs": []
    },
    {
      "cell_type": "code",
      "source": [
        "# Read CSV dataset from Pandas\n",
        "df_train = pd.read_csv('/content/roco-dataset/all_data/train/radiologytraindata.csv', delimiter=',') #, nrows = nRowsRead\n",
        "df_train.dataframeName = '/content/roco-dataset/all_data/test/radiologytestdata.csv'\n",
        "nRow, nCol = df_train.shape\n",
        "print(f'There are {nRow} rows and {nCol} columns')"
      ],
      "metadata": {
        "colab": {
          "base_uri": "https://localhost:8080/"
        },
        "id": "WVD47Tg2su8c",
        "outputId": "7fe0b82c-887a-44bf-9744-19926bbb1900"
      },
      "execution_count": 4,
      "outputs": [
        {
          "output_type": "stream",
          "name": "stdout",
          "text": [
            "There are 65450 rows and 3 columns\n"
          ]
        }
      ]
    },
    {
      "cell_type": "code",
      "source": [
        "print(df_train.head())"
      ],
      "metadata": {
        "colab": {
          "base_uri": "https://localhost:8080/"
        },
        "id": "W8to-9FYtNaA",
        "outputId": "a4e6b7e5-a38a-4b4a-f9ef-436e47337217"
      },
      "execution_count": 5,
      "outputs": [
        {
          "output_type": "stream",
          "name": "stdout",
          "text": [
            "           id                                    name  \\\n",
            "0  ROCO_00002          PMC4083729_AMHSR-4-14-g002.jpg   \n",
            "1  ROCO_00003       PMC2837471_IJD2009-150251.001.jpg   \n",
            "2  ROCO_00004  PMC2505281_11999_2007_30_Fig6_HTML.jpg   \n",
            "3  ROCO_00005       PMC3745845_IJD2013-683423.005.jpg   \n",
            "4  ROCO_00007   PMC4917066_amjcaserep-17-301-g001.jpg   \n",
            "\n",
            "                                             caption  \n",
            "0   Computed tomography scan in axial view showin...  \n",
            "1   Bacterial contamination occurred after comple...  \n",
            "2   The patient had residual paralysis of the han...  \n",
            "3    Panoramic radiograph after immediate loading.\\n  \n",
            "4   Plain abdomen x-ray: Multiple air levels at t...  \n"
          ]
        }
      ]
    },
    {
      "cell_type": "code",
      "source": [
        "df_train['images'] = \"/kaggle/input/roco-dataset/all_data/train/radiology/images/\" + df_train['name']\n",
        "df_train.head()"
      ],
      "metadata": {
        "colab": {
          "base_uri": "https://localhost:8080/",
          "height": 206
        },
        "id": "FACCRAG1tSBL",
        "outputId": "8aec428c-c03d-43f8-d95d-90f0e51dcb10"
      },
      "execution_count": 6,
      "outputs": [
        {
          "output_type": "execute_result",
          "data": {
            "text/plain": [
              "           id                                    name  \\\n",
              "0  ROCO_00002          PMC4083729_AMHSR-4-14-g002.jpg   \n",
              "1  ROCO_00003       PMC2837471_IJD2009-150251.001.jpg   \n",
              "2  ROCO_00004  PMC2505281_11999_2007_30_Fig6_HTML.jpg   \n",
              "3  ROCO_00005       PMC3745845_IJD2013-683423.005.jpg   \n",
              "4  ROCO_00007   PMC4917066_amjcaserep-17-301-g001.jpg   \n",
              "\n",
              "                                             caption  \\\n",
              "0   Computed tomography scan in axial view showin...   \n",
              "1   Bacterial contamination occurred after comple...   \n",
              "2   The patient had residual paralysis of the han...   \n",
              "3    Panoramic radiograph after immediate loading.\\n   \n",
              "4   Plain abdomen x-ray: Multiple air levels at t...   \n",
              "\n",
              "                                              images  \n",
              "0  /kaggle/input/roco-dataset/all_data/train/radi...  \n",
              "1  /kaggle/input/roco-dataset/all_data/train/radi...  \n",
              "2  /kaggle/input/roco-dataset/all_data/train/radi...  \n",
              "3  /kaggle/input/roco-dataset/all_data/train/radi...  \n",
              "4  /kaggle/input/roco-dataset/all_data/train/radi...  "
            ],
            "text/html": [
              "\n",
              "  <div id=\"df-64cb0fce-2bb2-4cdc-8253-efd01c7fb8c9\" class=\"colab-df-container\">\n",
              "    <div>\n",
              "<style scoped>\n",
              "    .dataframe tbody tr th:only-of-type {\n",
              "        vertical-align: middle;\n",
              "    }\n",
              "\n",
              "    .dataframe tbody tr th {\n",
              "        vertical-align: top;\n",
              "    }\n",
              "\n",
              "    .dataframe thead th {\n",
              "        text-align: right;\n",
              "    }\n",
              "</style>\n",
              "<table border=\"1\" class=\"dataframe\">\n",
              "  <thead>\n",
              "    <tr style=\"text-align: right;\">\n",
              "      <th></th>\n",
              "      <th>id</th>\n",
              "      <th>name</th>\n",
              "      <th>caption</th>\n",
              "      <th>images</th>\n",
              "    </tr>\n",
              "  </thead>\n",
              "  <tbody>\n",
              "    <tr>\n",
              "      <th>0</th>\n",
              "      <td>ROCO_00002</td>\n",
              "      <td>PMC4083729_AMHSR-4-14-g002.jpg</td>\n",
              "      <td>Computed tomography scan in axial view showin...</td>\n",
              "      <td>/kaggle/input/roco-dataset/all_data/train/radi...</td>\n",
              "    </tr>\n",
              "    <tr>\n",
              "      <th>1</th>\n",
              "      <td>ROCO_00003</td>\n",
              "      <td>PMC2837471_IJD2009-150251.001.jpg</td>\n",
              "      <td>Bacterial contamination occurred after comple...</td>\n",
              "      <td>/kaggle/input/roco-dataset/all_data/train/radi...</td>\n",
              "    </tr>\n",
              "    <tr>\n",
              "      <th>2</th>\n",
              "      <td>ROCO_00004</td>\n",
              "      <td>PMC2505281_11999_2007_30_Fig6_HTML.jpg</td>\n",
              "      <td>The patient had residual paralysis of the han...</td>\n",
              "      <td>/kaggle/input/roco-dataset/all_data/train/radi...</td>\n",
              "    </tr>\n",
              "    <tr>\n",
              "      <th>3</th>\n",
              "      <td>ROCO_00005</td>\n",
              "      <td>PMC3745845_IJD2013-683423.005.jpg</td>\n",
              "      <td>Panoramic radiograph after immediate loading.\\n</td>\n",
              "      <td>/kaggle/input/roco-dataset/all_data/train/radi...</td>\n",
              "    </tr>\n",
              "    <tr>\n",
              "      <th>4</th>\n",
              "      <td>ROCO_00007</td>\n",
              "      <td>PMC4917066_amjcaserep-17-301-g001.jpg</td>\n",
              "      <td>Plain abdomen x-ray: Multiple air levels at t...</td>\n",
              "      <td>/kaggle/input/roco-dataset/all_data/train/radi...</td>\n",
              "    </tr>\n",
              "  </tbody>\n",
              "</table>\n",
              "</div>\n",
              "    <div class=\"colab-df-buttons\">\n",
              "\n",
              "  <div class=\"colab-df-container\">\n",
              "    <button class=\"colab-df-convert\" onclick=\"convertToInteractive('df-64cb0fce-2bb2-4cdc-8253-efd01c7fb8c9')\"\n",
              "            title=\"Convert this dataframe to an interactive table.\"\n",
              "            style=\"display:none;\">\n",
              "\n",
              "  <svg xmlns=\"http://www.w3.org/2000/svg\" height=\"24px\" viewBox=\"0 -960 960 960\">\n",
              "    <path d=\"M120-120v-720h720v720H120Zm60-500h600v-160H180v160Zm220 220h160v-160H400v160Zm0 220h160v-160H400v160ZM180-400h160v-160H180v160Zm440 0h160v-160H620v160ZM180-180h160v-160H180v160Zm440 0h160v-160H620v160Z\"/>\n",
              "  </svg>\n",
              "    </button>\n",
              "\n",
              "  <style>\n",
              "    .colab-df-container {\n",
              "      display:flex;\n",
              "      gap: 12px;\n",
              "    }\n",
              "\n",
              "    .colab-df-convert {\n",
              "      background-color: #E8F0FE;\n",
              "      border: none;\n",
              "      border-radius: 50%;\n",
              "      cursor: pointer;\n",
              "      display: none;\n",
              "      fill: #1967D2;\n",
              "      height: 32px;\n",
              "      padding: 0 0 0 0;\n",
              "      width: 32px;\n",
              "    }\n",
              "\n",
              "    .colab-df-convert:hover {\n",
              "      background-color: #E2EBFA;\n",
              "      box-shadow: 0px 1px 2px rgba(60, 64, 67, 0.3), 0px 1px 3px 1px rgba(60, 64, 67, 0.15);\n",
              "      fill: #174EA6;\n",
              "    }\n",
              "\n",
              "    .colab-df-buttons div {\n",
              "      margin-bottom: 4px;\n",
              "    }\n",
              "\n",
              "    [theme=dark] .colab-df-convert {\n",
              "      background-color: #3B4455;\n",
              "      fill: #D2E3FC;\n",
              "    }\n",
              "\n",
              "    [theme=dark] .colab-df-convert:hover {\n",
              "      background-color: #434B5C;\n",
              "      box-shadow: 0px 1px 3px 1px rgba(0, 0, 0, 0.15);\n",
              "      filter: drop-shadow(0px 1px 2px rgba(0, 0, 0, 0.3));\n",
              "      fill: #FFFFFF;\n",
              "    }\n",
              "  </style>\n",
              "\n",
              "    <script>\n",
              "      const buttonEl =\n",
              "        document.querySelector('#df-64cb0fce-2bb2-4cdc-8253-efd01c7fb8c9 button.colab-df-convert');\n",
              "      buttonEl.style.display =\n",
              "        google.colab.kernel.accessAllowed ? 'block' : 'none';\n",
              "\n",
              "      async function convertToInteractive(key) {\n",
              "        const element = document.querySelector('#df-64cb0fce-2bb2-4cdc-8253-efd01c7fb8c9');\n",
              "        const dataTable =\n",
              "          await google.colab.kernel.invokeFunction('convertToInteractive',\n",
              "                                                    [key], {});\n",
              "        if (!dataTable) return;\n",
              "\n",
              "        const docLinkHtml = 'Like what you see? Visit the ' +\n",
              "          '<a target=\"_blank\" href=https://colab.research.google.com/notebooks/data_table.ipynb>data table notebook</a>'\n",
              "          + ' to learn more about interactive tables.';\n",
              "        element.innerHTML = '';\n",
              "        dataTable['output_type'] = 'display_data';\n",
              "        await google.colab.output.renderOutput(dataTable, element);\n",
              "        const docLink = document.createElement('div');\n",
              "        docLink.innerHTML = docLinkHtml;\n",
              "        element.appendChild(docLink);\n",
              "      }\n",
              "    </script>\n",
              "  </div>\n",
              "\n",
              "\n",
              "<div id=\"df-a8808538-a79c-4a1d-85ad-1262f42c5dda\">\n",
              "  <button class=\"colab-df-quickchart\" onclick=\"quickchart('df-a8808538-a79c-4a1d-85ad-1262f42c5dda')\"\n",
              "            title=\"Suggest charts\"\n",
              "            style=\"display:none;\">\n",
              "\n",
              "<svg xmlns=\"http://www.w3.org/2000/svg\" height=\"24px\"viewBox=\"0 0 24 24\"\n",
              "     width=\"24px\">\n",
              "    <g>\n",
              "        <path d=\"M19 3H5c-1.1 0-2 .9-2 2v14c0 1.1.9 2 2 2h14c1.1 0 2-.9 2-2V5c0-1.1-.9-2-2-2zM9 17H7v-7h2v7zm4 0h-2V7h2v10zm4 0h-2v-4h2v4z\"/>\n",
              "    </g>\n",
              "</svg>\n",
              "  </button>\n",
              "\n",
              "<style>\n",
              "  .colab-df-quickchart {\n",
              "      --bg-color: #E8F0FE;\n",
              "      --fill-color: #1967D2;\n",
              "      --hover-bg-color: #E2EBFA;\n",
              "      --hover-fill-color: #174EA6;\n",
              "      --disabled-fill-color: #AAA;\n",
              "      --disabled-bg-color: #DDD;\n",
              "  }\n",
              "\n",
              "  [theme=dark] .colab-df-quickchart {\n",
              "      --bg-color: #3B4455;\n",
              "      --fill-color: #D2E3FC;\n",
              "      --hover-bg-color: #434B5C;\n",
              "      --hover-fill-color: #FFFFFF;\n",
              "      --disabled-bg-color: #3B4455;\n",
              "      --disabled-fill-color: #666;\n",
              "  }\n",
              "\n",
              "  .colab-df-quickchart {\n",
              "    background-color: var(--bg-color);\n",
              "    border: none;\n",
              "    border-radius: 50%;\n",
              "    cursor: pointer;\n",
              "    display: none;\n",
              "    fill: var(--fill-color);\n",
              "    height: 32px;\n",
              "    padding: 0;\n",
              "    width: 32px;\n",
              "  }\n",
              "\n",
              "  .colab-df-quickchart:hover {\n",
              "    background-color: var(--hover-bg-color);\n",
              "    box-shadow: 0 1px 2px rgba(60, 64, 67, 0.3), 0 1px 3px 1px rgba(60, 64, 67, 0.15);\n",
              "    fill: var(--button-hover-fill-color);\n",
              "  }\n",
              "\n",
              "  .colab-df-quickchart-complete:disabled,\n",
              "  .colab-df-quickchart-complete:disabled:hover {\n",
              "    background-color: var(--disabled-bg-color);\n",
              "    fill: var(--disabled-fill-color);\n",
              "    box-shadow: none;\n",
              "  }\n",
              "\n",
              "  .colab-df-spinner {\n",
              "    border: 2px solid var(--fill-color);\n",
              "    border-color: transparent;\n",
              "    border-bottom-color: var(--fill-color);\n",
              "    animation:\n",
              "      spin 1s steps(1) infinite;\n",
              "  }\n",
              "\n",
              "  @keyframes spin {\n",
              "    0% {\n",
              "      border-color: transparent;\n",
              "      border-bottom-color: var(--fill-color);\n",
              "      border-left-color: var(--fill-color);\n",
              "    }\n",
              "    20% {\n",
              "      border-color: transparent;\n",
              "      border-left-color: var(--fill-color);\n",
              "      border-top-color: var(--fill-color);\n",
              "    }\n",
              "    30% {\n",
              "      border-color: transparent;\n",
              "      border-left-color: var(--fill-color);\n",
              "      border-top-color: var(--fill-color);\n",
              "      border-right-color: var(--fill-color);\n",
              "    }\n",
              "    40% {\n",
              "      border-color: transparent;\n",
              "      border-right-color: var(--fill-color);\n",
              "      border-top-color: var(--fill-color);\n",
              "    }\n",
              "    60% {\n",
              "      border-color: transparent;\n",
              "      border-right-color: var(--fill-color);\n",
              "    }\n",
              "    80% {\n",
              "      border-color: transparent;\n",
              "      border-right-color: var(--fill-color);\n",
              "      border-bottom-color: var(--fill-color);\n",
              "    }\n",
              "    90% {\n",
              "      border-color: transparent;\n",
              "      border-bottom-color: var(--fill-color);\n",
              "    }\n",
              "  }\n",
              "</style>\n",
              "\n",
              "  <script>\n",
              "    async function quickchart(key) {\n",
              "      const quickchartButtonEl =\n",
              "        document.querySelector('#' + key + ' button');\n",
              "      quickchartButtonEl.disabled = true;  // To prevent multiple clicks.\n",
              "      quickchartButtonEl.classList.add('colab-df-spinner');\n",
              "      try {\n",
              "        const charts = await google.colab.kernel.invokeFunction(\n",
              "            'suggestCharts', [key], {});\n",
              "      } catch (error) {\n",
              "        console.error('Error during call to suggestCharts:', error);\n",
              "      }\n",
              "      quickchartButtonEl.classList.remove('colab-df-spinner');\n",
              "      quickchartButtonEl.classList.add('colab-df-quickchart-complete');\n",
              "    }\n",
              "    (() => {\n",
              "      let quickchartButtonEl =\n",
              "        document.querySelector('#df-a8808538-a79c-4a1d-85ad-1262f42c5dda button');\n",
              "      quickchartButtonEl.style.display =\n",
              "        google.colab.kernel.accessAllowed ? 'block' : 'none';\n",
              "    })();\n",
              "  </script>\n",
              "</div>\n",
              "\n",
              "    </div>\n",
              "  </div>\n"
            ],
            "application/vnd.google.colaboratory.intrinsic+json": {
              "type": "dataframe",
              "variable_name": "df_train",
              "summary": "{\n  \"name\": \"df_train\",\n  \"rows\": 65450,\n  \"fields\": [\n    {\n      \"column\": \"id\",\n      \"properties\": {\n        \"dtype\": \"string\",\n        \"num_unique_values\": 65450,\n        \"samples\": [\n          \"ROCO_23122\",\n          \"ROCO_46080\",\n          \"ROCO_71189\"\n        ],\n        \"semantic_type\": \"\",\n        \"description\": \"\"\n      }\n    },\n    {\n      \"column\": \"name\",\n      \"properties\": {\n        \"dtype\": \"string\",\n        \"num_unique_values\": 65450,\n        \"samples\": [\n          \"PMC4852590_kjn-10-31-g001.jpg\",\n          \"PMC5155106_CRIS2016-5365647.001.jpg\",\n          \"PMC5587902_fig-2.jpg\"\n        ],\n        \"semantic_type\": \"\",\n        \"description\": \"\"\n      }\n    },\n    {\n      \"column\": \"caption\",\n      \"properties\": {\n        \"dtype\": \"string\",\n        \"num_unique_values\": 64772,\n        \"samples\": [\n          \" CAT scan of the skull and orbit showing non-enhancing, low-density, cystic lesion at the inferomedial margin of the left orbit (red arrow)CAT:\\u00a0computerized axial tomography\\n\",\n          \" Magnetic resonance angiography showing bilateral carotid body tumors at the level of the carotid bifurcation.\\n\",\n          \" Magnetic resonance imaging-scan; a 2 cm \\u00d7 1.7 cm \\u00d7 2.4 cm sharp defined hypointense suspect mass of 7 mm diameter was detected lateral to the right lateral pterygoid muscle and medial to the right temporal muscle\\n\"\n        ],\n        \"semantic_type\": \"\",\n        \"description\": \"\"\n      }\n    },\n    {\n      \"column\": \"images\",\n      \"properties\": {\n        \"dtype\": \"string\",\n        \"num_unique_values\": 65450,\n        \"samples\": [\n          \"/kaggle/input/roco-dataset/all_data/train/radiology/images/PMC4852590_kjn-10-31-g001.jpg\",\n          \"/kaggle/input/roco-dataset/all_data/train/radiology/images/PMC5155106_CRIS2016-5365647.001.jpg\",\n          \"/kaggle/input/roco-dataset/all_data/train/radiology/images/PMC5587902_fig-2.jpg\"\n        ],\n        \"semantic_type\": \"\",\n        \"description\": \"\"\n      }\n    }\n  ]\n}"
            }
          },
          "metadata": {},
          "execution_count": 6
        }
      ]
    },
    {
      "cell_type": "code",
      "source": [
        "# Display basic information about the DataFrame\n",
        "print(df_train.info())"
      ],
      "metadata": {
        "colab": {
          "base_uri": "https://localhost:8080/"
        },
        "id": "8JYAufpRuC-J",
        "outputId": "3de33747-9d47-4379-d13c-ad823ae15b85"
      },
      "execution_count": 7,
      "outputs": [
        {
          "output_type": "stream",
          "name": "stdout",
          "text": [
            "<class 'pandas.core.frame.DataFrame'>\n",
            "RangeIndex: 65450 entries, 0 to 65449\n",
            "Data columns (total 4 columns):\n",
            " #   Column   Non-Null Count  Dtype \n",
            "---  ------   --------------  ----- \n",
            " 0   id       65450 non-null  object\n",
            " 1   name     65450 non-null  object\n",
            " 2   caption  65450 non-null  object\n",
            " 3   images   65450 non-null  object\n",
            "dtypes: object(4)\n",
            "memory usage: 2.0+ MB\n",
            "None\n"
          ]
        }
      ]
    },
    {
      "cell_type": "code",
      "source": [
        "# Display statistical summary of numerical columns\n",
        "print(df_train.describe())"
      ],
      "metadata": {
        "colab": {
          "base_uri": "https://localhost:8080/"
        },
        "id": "QqH2RCaheQsE",
        "outputId": "99dbd0cf-dd5d-4e63-b16a-bf963bb67a0c"
      },
      "execution_count": 9,
      "outputs": [
        {
          "output_type": "stream",
          "name": "stdout",
          "text": [
            "                id                            name  \\\n",
            "count        65450                           65450   \n",
            "unique       65450                           65450   \n",
            "top     ROCO_00002  PMC4083729_AMHSR-4-14-g002.jpg   \n",
            "freq             1                               1   \n",
            "\n",
            "                                 caption  \\\n",
            "count                              65450   \n",
            "unique                             64772   \n",
            "top      Initial panoramic radiograph.\\n   \n",
            "freq                                  19   \n",
            "\n",
            "                                                   images  \n",
            "count                                               65450  \n",
            "unique                                              65450  \n",
            "top     /kaggle/input/roco-dataset/all_data/train/radi...  \n",
            "freq                                                    1  \n"
          ]
        }
      ]
    },
    {
      "cell_type": "code",
      "source": [
        "# Display unique values for categorical columns\n",
        "for column in df_train.select_dtypes(include=['object']).columns:\n",
        "    print(f'Unique values in {column}: {df_train[column].unique()}')"
      ],
      "metadata": {
        "colab": {
          "base_uri": "https://localhost:8080/"
        },
        "id": "GDtJp0R6eWhL",
        "outputId": "d0d1cefe-f7f7-489d-d4fc-586eaada44a8"
      },
      "execution_count": 10,
      "outputs": [
        {
          "output_type": "stream",
          "name": "stdout",
          "text": [
            "Unique values in id: ['ROCO_00002' 'ROCO_00003' 'ROCO_00004' ... 'ROCO_81821' 'ROCO_81822'\n",
            " 'ROCO_81823']\n",
            "Unique values in name: ['PMC4083729_AMHSR-4-14-g002.jpg' 'PMC2837471_IJD2009-150251.001.jpg'\n",
            " 'PMC2505281_11999_2007_30_Fig6_HTML.jpg' ...\n",
            " 'PMC2974222_kjr-11-612-g001.jpg' 'PMC3532764_AJNS-7-151-g002.jpg'\n",
            " 'PMC3509000_pone.0050319.g002.jpg']\n",
            "Unique values in caption: [' Computed tomography scan in axial view showing obliteration of the left maxillary sinus\\n'\n",
            " ' Bacterial contamination occurred after completion of root canal treatment in the tooth, which remained with a temporary filling for 15 month.\\n'\n",
            " ' The patient had residual paralysis of the hand after poliomyelitis. It was necessary to stabilize the thumb with reference to the index finger. This was accomplished by placing a graft from the bone bank between the first and second metacarpals. The roentgenogram shows the complete healing of the graft one year later.\\n'\n",
            " ...\n",
            " ' Primary pulmonary tuberculosis in 18-year-old boy with typical radiographic findings. Chest radiograph shows patchy consolidation, nodules, and cavities (arrows) in bilateral upper lung zones.\\n'\n",
            " ' MRI brain with gadolinium, coronal view, showing welldefined tumor in lateral recess with part of the tumor free in 4th ventricle\\n'\n",
            " ' Contrast-enhanced 3D MRL image of the lower extremities.Coronal 3D MR Lymphography image of the lower extremities obtained from 20 min to 23 min after subcutaneous injection of contrast material into a 74-year-old female who underwent abdominal hysterectomy for the treatment of endometrial carcinoma. Her left extremity became swollen one year following surgery. Several abnormal dilated lymph vessels are clearly delineated in the left calf, which extend to the inner thigh (small arrows). In the contralateral normal extremity, a few lymphatic vessels show a discontinuous outline with relatively low signal intensity (small arrows). The concomitantly enhanced vein shows a linear structure with lower signal intensity (large arrows).\\n']\n",
            "Unique values in images: ['/kaggle/input/roco-dataset/all_data/train/radiology/images/PMC4083729_AMHSR-4-14-g002.jpg'\n",
            " '/kaggle/input/roco-dataset/all_data/train/radiology/images/PMC2837471_IJD2009-150251.001.jpg'\n",
            " '/kaggle/input/roco-dataset/all_data/train/radiology/images/PMC2505281_11999_2007_30_Fig6_HTML.jpg'\n",
            " ...\n",
            " '/kaggle/input/roco-dataset/all_data/train/radiology/images/PMC2974222_kjr-11-612-g001.jpg'\n",
            " '/kaggle/input/roco-dataset/all_data/train/radiology/images/PMC3532764_AJNS-7-151-g002.jpg'\n",
            " '/kaggle/input/roco-dataset/all_data/train/radiology/images/PMC3509000_pone.0050319.g002.jpg']\n"
          ]
        }
      ]
    },
    {
      "cell_type": "code",
      "source": [
        "# Check for missing values\n",
        "print(df_train.isnull().sum())"
      ],
      "metadata": {
        "colab": {
          "base_uri": "https://localhost:8080/"
        },
        "id": "bNv-wsgaebES",
        "outputId": "7e41b1d0-4e0b-4100-8db9-a6697e68e17d"
      },
      "execution_count": 11,
      "outputs": [
        {
          "output_type": "stream",
          "name": "stdout",
          "text": [
            "id         0\n",
            "name       0\n",
            "caption    0\n",
            "images     0\n",
            "dtype: int64\n"
          ]
        }
      ]
    },
    {
      "cell_type": "code",
      "source": [
        "from sklearn.preprocessing import LabelEncoder\n",
        "from sklearn.preprocessing import StandardScaler\n",
        "# Encode categorical columns using LabelEncoder\n",
        "label_encoder = LabelEncoder()\n",
        "\n",
        "for column in df_train.select_dtypes(include=['object']).columns:\n",
        "    df_train[column] = label_encoder.fit_transform(df_train[column])"
      ],
      "metadata": {
        "id": "OfylN5evee94"
      },
      "execution_count": 12,
      "outputs": []
    },
    {
      "cell_type": "code",
      "source": [
        "X = df_train.drop(columns=['caption'])  # replace 'target_column' with the actual target column name\n",
        "y = df_train['id']  # replace 'target_column' with the actual target column name\n"
      ],
      "metadata": {
        "id": "d0UnTjDgfn8_"
      },
      "execution_count": 13,
      "outputs": []
    },
    {
      "cell_type": "code",
      "source": [
        "from sklearn.model_selection import train_test_split\n",
        "\n",
        "X_train, X_test, y_train, y_test = train_test_split(X, y, test_size=0.2, random_state=42)\n",
        "\n",
        "print(f'Shape of X_train: {X_train.shape}')\n",
        "print(f'Shape of X_test: {X_test.shape}')\n",
        "print(f'Shape of y_train: {y_train.shape}')\n",
        "print(f'Shape of y_test: {y_test.shape}')"
      ],
      "metadata": {
        "colab": {
          "base_uri": "https://localhost:8080/"
        },
        "id": "gj_BL4tteiVD",
        "outputId": "09b6e86c-9139-4118-d783-5d375015b40a"
      },
      "execution_count": 14,
      "outputs": [
        {
          "output_type": "stream",
          "name": "stdout",
          "text": [
            "Shape of X_train: (52360, 3)\n",
            "Shape of X_test: (13090, 3)\n",
            "Shape of y_train: (52360,)\n",
            "Shape of y_test: (13090,)\n"
          ]
        }
      ]
    },
    {
      "cell_type": "code",
      "source": [
        "# Load the ROCO dataset\n",
        "train_dir = '/content/roco-dataset/all_data/train/radiologytraindata.csv'\n",
        "test_dir = '/content/roco-dataset/all_data/test/radiologytestdata.csv'\n",
        "train_images = []\n",
        "train_captions = []\n",
        "test_images = []\n",
        "test_captions = []"
      ],
      "metadata": {
        "id": "o4ODwykceo0x"
      },
      "execution_count": 15,
      "outputs": []
    },
    {
      "cell_type": "code",
      "source": [
        "for filename in os.listdir('/content/roco-dataset/all_data/train/radiology'):\n",
        "    if filename.endswith(\".jpg\"):\n",
        "        img = Image.open(os.path.join('/content/roco-dataset/all_data/train/radiology/images', images))\n",
        "        img = img.resize((224, 224))\n",
        "        train_images.append(np.array(img))\n",
        "        with open(os.path.join('/content/roco-dataset/all_data/train/radiology', filename[:-4] + '.txt'), 'r') as f:\n",
        "            caption = f.read()\n",
        "            train_captions.append(caption)\n",
        "\n",
        "for filename in os.listdir('/content/roco-dataset/all_data/test/radiology'):\n",
        "    if filename.endswith(\".jpg\"):\n",
        "        img = Image.open(os.path.join('/content/roco-dataset/all_data/test/radiology/images', images))\n",
        "        img = img.resize((224, 224))\n",
        "        test_images.append(np.array(img))\n",
        "        with open(os.path.join(test_dir, filename[:-4] + '.txt'), 'r') as f:\n",
        "            caption = f.read()\n",
        "            test_captions.append(caption)"
      ],
      "metadata": {
        "id": "BApSxqwFMEjJ"
      },
      "execution_count": 16,
      "outputs": []
    },
    {
      "cell_type": "code",
      "source": [
        "# Preprocess the captions\n",
        "tokenizer = Tokenizer(num_words=5000)\n",
        "tokenizer.fit_on_texts(train_captions)\n",
        "\n",
        "train_sequences = tokenizer.texts_to_sequences(train_captions)\n",
        "test_sequences = tokenizer.texts_to_sequences(test_captions)\n",
        "\n",
        "max_caption_length = 30\n",
        "vocab_size = len(tokenizer.word_index) + 1\n",
        "\n",
        "train_padded = pad_sequences(train_sequences, maxlen=max_caption_length, padding='post')\n",
        "test_padded = pad_sequences(test_sequences, maxlen=max_caption_length, padding='post')"
      ],
      "metadata": {
        "id": "ogumOdqtMIFU"
      },
      "execution_count": 17,
      "outputs": []
    },
    {
      "cell_type": "code",
      "source": [
        "# One-hot encode the captions\n",
        "num_classes = vocab_size\n",
        "train_onehot = np.zeros((len(train_padded), max_caption_length, num_classes))\n",
        "test_onehot = np.zeros((len(test_padded), max_caption_length, num_classes))\n",
        "\n",
        "for i, sequence in enumerate(train_padded):\n",
        "    for j, word in enumerate(sequence):\n",
        "        train_onehot[i, j, word] = 1\n",
        "\n",
        "for i, sequence in enumerate(test_padded):\n",
        "    for j, word in enumerate(sequence):\n",
        "        test_onehot[i, j, word] = 1"
      ],
      "metadata": {
        "id": "g9YTaWJOML39"
      },
      "execution_count": 18,
      "outputs": []
    },
    {
      "cell_type": "code",
      "source": [
        "# Define the encoder (ResNet50)\n",
        "resnet = ResNet50(include_top=False, weights='imagenet', input_shape=(224, 224, 3))\n",
        "for layer in resnet.layers:\n",
        "    layer.trainable = False\n",
        "\n",
        "image_input = Input(shape=(224, 224, 3))\n",
        "encoded_features = resnet(image_input)\n",
        "encoded_features = Flatten()(encoded_features)\n",
        "encoded_features = RepeatVector(max_caption_length)(encoded_features)"
      ],
      "metadata": {
        "colab": {
          "base_uri": "https://localhost:8080/"
        },
        "id": "-WbNdWlpMPBD",
        "outputId": "0e81f5f1-c2a7-4cfe-eaab-71bf483024ec"
      },
      "execution_count": 19,
      "outputs": [
        {
          "output_type": "stream",
          "name": "stdout",
          "text": [
            "Downloading data from https://storage.googleapis.com/tensorflow/keras-applications/resnet/resnet50_weights_tf_dim_ordering_tf_kernels_notop.h5\n",
            "94765736/94765736 [==============================] - 0s 0us/step\n"
          ]
        }
      ]
    },
    {
      "cell_type": "code",
      "source": [
        "# Define the decoder (LSTM)\n",
        "from keras.layers import Input, Embedding, LSTM, Dense, TimeDistributed, Reshape\n",
        "\n",
        "# Define the decoder (LSTM)\n",
        "decoder_inputs = Input(shape=(max_caption_length, 1))\n",
        "decoder_embedding = Embedding(vocab_size, 256)(decoder_inputs)\n",
        "decoder_embedding = Reshape((max_caption_length, 256))(decoder_embedding)\n",
        "decoder_lstm = LSTM(256, return_sequences=True)(decoder_embedding)\n",
        "decoder_dense = TimeDistributed(Dense(vocab_size, activation='softmax'))(decoder_lstm)"
      ],
      "metadata": {
        "id": "v1OWTggMMR9P"
      },
      "execution_count": 20,
      "outputs": []
    },
    {
      "cell_type": "code",
      "source": [
        "# Define the model\n",
        "model = Model(inputs=[image_input, decoder_inputs], outputs=decoder_dense)"
      ],
      "metadata": {
        "id": "4FuIgO_SMXgc"
      },
      "execution_count": 21,
      "outputs": []
    },
    {
      "cell_type": "code",
      "source": [
        "import tensorflow as tf"
      ],
      "metadata": {
        "id": "pSr66miYMag-"
      },
      "execution_count": 22,
      "outputs": []
    },
    {
      "cell_type": "code",
      "source": [
        "# Define maxlen\n",
        "maxlen = 30"
      ],
      "metadata": {
        "id": "RmS29PyqMds-"
      },
      "execution_count": 23,
      "outputs": []
    },
    {
      "cell_type": "code",
      "source": [
        "# Create the model\n",
        "model = tf.keras.models.Sequential([\n",
        "    tf.keras.layers.Embedding(input_dim=100, output_dim=10, input_length=maxlen),\n",
        "    tf.keras.layers.Flatten(),\n",
        "    tf.keras.layers.Dense(64, activation='relu'),\n",
        "    tf.keras.layers.Dense(10, activation='softmax')\n",
        "])"
      ],
      "metadata": {
        "id": "-rbP2nroMgSA"
      },
      "execution_count": 24,
      "outputs": []
    },
    {
      "cell_type": "code",
      "source": [
        "# Compile the model\n",
        "model.compile(loss='categorical_crossentropy', optimizer=optimizers.Adam(), metrics=['accuracy'])\n",
        "plot_model(model, to_file='model_plot.png', show_shapes=True, show_layer_names=True)"
      ],
      "metadata": {
        "colab": {
          "base_uri": "https://localhost:8080/",
          "height": 533
        },
        "id": "XA5K_avkMjHk",
        "outputId": "4722746c-1919-4006-91e4-1cb5d47bc49a"
      },
      "execution_count": 25,
      "outputs": [
        {
          "output_type": "execute_result",
          "data": {
            "image/png": "[encoded data removed]",
            "text/plain": [
              "<IPython.core.display.Image object>"
            ]
          },
          "metadata": {},
          "execution_count": 25
        }
      ]
    },
    {
      "cell_type": "code",
      "source": [
        "# Compile the model\n",
        "model.compile(optimizer='adam', loss='categorical_crossentropy', metrics=['accuracy'])"
      ],
      "metadata": {
        "id": "AIQ27gOHMlwf"
      },
      "execution_count": 26,
      "outputs": []
    },
    {
      "cell_type": "code",
      "source": [
        "print(\"Train padded shape:\", train_padded.shape)\n",
        "print(\"Train onehot shape:\", train_onehot.shape)"
      ],
      "metadata": {
        "colab": {
          "base_uri": "https://localhost:8080/"
        },
        "id": "qCIU_N1RMpx8",
        "outputId": "c6c51c9f-d26c-4ba5-a253-7f304c0d67bc"
      },
      "execution_count": 27,
      "outputs": [
        {
          "output_type": "stream",
          "name": "stdout",
          "text": [
            "Train padded shape: (0, 30)\n",
            "Train onehot shape: (0, 30, 1)\n"
          ]
        }
      ]
    },
    {
      "cell_type": "code",
      "source": [
        "import pandas as pd\n",
        "\n",
        "test_raw = pd.read_csv('/content/roco-dataset/all_data/test/radiologytestdata.csv')\n",
        "train_raw = pd.read_csv('/content/roco-dataset/all_data/train/radiologytraindata.csv')"
      ],
      "metadata": {
        "id": "9zPuOIDWMsdo"
      },
      "execution_count": 28,
      "outputs": []
    },
    {
      "cell_type": "code",
      "source": [
        "# Print the shapes of the data arrays\n",
        "print('train_images shape:', np.array(train_images).shape)\n",
        "print('train_padded shape:', np.array(train_padded).shape)\n",
        "print('train_onehot shape:', np.array(train_onehot).shape)\n",
        "print('test_images shape:', np.array(test_images).shape)\n",
        "print('test_padded shape:', np.array(test_padded).shape)\n",
        "print('test_onehot shape:', np.array(test_onehot).shape)\n",
        "\n",
        "# Check if the arrays are empty\n",
        "print('Is train_images empty?', len(train_images) == 0)\n",
        "print('Is train_padded empty?', len(train_padded) == 0)\n",
        "print('Is train_onehot empty?', len(train_onehot) == 0)\n",
        "print('Is test_images empty?', len(test_images) == 0)\n",
        "print('Is test_padded empty?', len(test_padded) == 0)\n",
        "print('Is test_onehot empty?', len(test_onehot) == 0)\n"
      ],
      "metadata": {
        "colab": {
          "base_uri": "https://localhost:8080/"
        },
        "id": "zXaqiNRnMv7G",
        "outputId": "ceaf78ef-973d-4f04-d8ec-8b38a0ccb3b0"
      },
      "execution_count": 29,
      "outputs": [
        {
          "output_type": "stream",
          "name": "stdout",
          "text": [
            "train_images shape: (0,)\n",
            "train_padded shape: (0, 30)\n",
            "train_onehot shape: (0, 30, 1)\n",
            "test_images shape: (0,)\n",
            "test_padded shape: (0, 30)\n",
            "test_onehot shape: (0, 30, 1)\n",
            "Is train_images empty? True\n",
            "Is train_padded empty? True\n",
            "Is train_onehot empty? True\n",
            "Is test_images empty? True\n",
            "Is test_padded empty? True\n",
            "Is test_onehot empty? True\n"
          ]
        }
      ]
    },
    {
      "cell_type": "code",
      "source": [
        "# Train the model\n",
        "model.fit(\n",
        "    [np.array(train_images), train_padded],\n",
        "    train_onehot,\n",
        "    epochs=10,\n",
        "    validation_data=([np.array(test_images), test_padded], test_onehot),\n",
        "    callbacks=[checkpoint]\n",
        ")"
      ],
      "metadata": {
        "id": "yXEQzG1dMysI"
      },
      "execution_count": null,
      "outputs": []
    },
    {
      "cell_type": "code",
      "source": [
        "# Evaluate the model on the test set\n",
        "scores = model.evaluate([np.array(test_images), test_padded], test_onehot, verbose=1)\n",
        "print('Test Loss:', scores[0])\n",
        "print('Test Accuracy:', scores[1])"
      ],
      "metadata": {
        "id": "z41qMsflNGua"
      },
      "execution_count": null,
      "outputs": []
    },
    {
      "cell_type": "code",
      "source": [
        "# Generate captions\n",
        "def generate_caption('ROCO_00005'):\n",
        "    img = Image.open('ROCO_00005')\n",
        "    img = img.resize((224, 224))\n",
        "    img = np.array(img)\n",
        "    img = img.reshape((1, 224, 224, 3))\n",
        "\n",
        "    start_seq = np.array([[tokenizer.word_index['startseq']]])\n",
        "    generated_caption = ''\n",
        "\n",
        "    for i in range(max_caption_length):\n",
        "        decoder_input = np.zeros((1, max_caption_length, 1))\n",
        "        decoder_input[0, i, 0] = start_seq[0, 0]"
      ],
      "metadata": {
        "id": "3BV0guK-NKf2"
      },
      "execution_count": null,
      "outputs": []
    }
  ]
}