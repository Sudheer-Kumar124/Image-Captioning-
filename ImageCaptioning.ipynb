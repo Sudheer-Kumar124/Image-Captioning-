{
 "cells": [
  {
   "cell_type": "markdown",
   "metadata": {},
   "source": [
    "# Overview\n",
    "\n",
    "This project involves comprehensive data loading, preprocessing, and modeling for image captioning tasks. Initially, the code checks and loads datasets from CSV files for train, validation, and test sets, ensuring all files exist before proceeding. It preprocesses text data by converting captions to lowercase, removing URLs, special characters, and stop words, and applying stemming and lemmatization. Image data integrity is verified by checking for missing images using image names extracted from the training dataset, and cleaned data is saved to a CSV file. Images are preprocessed using TensorFlow, applying resizing, flipping, brightness, contrast adjustments, and normalization in batches. Text data is tokenized and padded using Tokenizer and pad_sequences, preparing it for model training. The model architecture is defined using TensorFlow/Keras, comprising image and text inputs, embedding, LSTM layers, and dense layers, optimized with Adam and evaluated with sparse categorical crossentropy loss. Training occurs over 10 epochs, monitoring training and validation loss and accuracy. The model is evaluated on validation and test datasets, and results are visualized using Matplotlib to assess model performance. Overall, the workflow ensures robust handling of data, effective preprocessing, and rigorous model training and evaluation for image caption generation."
   ]
  },
  {
   "cell_type": "code",
   "execution_count": 79,
   "metadata": {},
   "outputs": [
    {
     "name": "stdout",
     "output_type": "stream",
     "text": [
      "File found: D:/Internship/archive (1)/all_data/train/radiologytraindata_no_id.csv\n",
      "Data from radiologytraindata_no_id loaded successfully!\n",
      "File found: D:/Internship/archive (1)/all_data/validation/radiologyvaldata.csv\n",
      "Data from radiologyvaldata loaded successfully!\n",
      "File found: D:/Internship/archive (1)/all_data/test/radiologytestdata.csv\n",
      "Data from radiologytestdata loaded successfully!\n",
      "\n",
      "radiologytraindata_no_id Data:\n",
      "                                     name  \\\n",
      "0          PMC4083729_AMHSR-4-14-g002.jpg   \n",
      "1       PMC2837471_IJD2009-150251.001.jpg   \n",
      "2  PMC2505281_11999_2007_30_Fig6_HTML.jpg   \n",
      "3       PMC3745845_IJD2013-683423.005.jpg   \n",
      "4   PMC4917066_amjcaserep-17-301-g001.jpg   \n",
      "\n",
      "                                             caption  \n",
      "0   Computed tomography scan in axial view showin...  \n",
      "1   Bacterial contamination occurred after comple...  \n",
      "2   The patient had residual paralysis of the han...  \n",
      "3    Panoramic radiograph after immediate loading.\\n  \n",
      "4   Plain abdomen x-ray: Multiple air levels at t...  \n",
      "Shape of radiologytraindata_no_id: (65450, 2)\n",
      "\n",
      "radiologyvaldata Data:\n",
      "           id                                    name  \\\n",
      "0  ROCO_00020    PMC3970251_CRIONM2014-931546.003.jpg   \n",
      "1  ROCO_00027          PMC2766744_cios-1-176-g005.jpg   \n",
      "2  ROCO_00059  PMC3789931_poljradiol-78-3-35-g001.jpg   \n",
      "3  ROCO_00062               PMC2676075_p147_fig4a.jpg   \n",
      "4  ROCO_00068    PMC5292123_CRIGM2017-1710501.002.jpg   \n",
      "\n",
      "                                             caption  \n",
      "0   Axial computed tomography scan of the pelvis ...  \n",
      "1   Postoperative anteroposterior radiograph of t...  \n",
      "2   Angiography of the internal carotid artery, l...  \n",
      "3   Case 4: (A) pretreatment radiograph; (B) Root...  \n",
      "4   Preintervention MRCP revealing a nine-millime...  \n",
      "Shape of radiologyvaldata: (8180, 3)\n",
      "\n",
      "radiologytestdata Data:\n",
      "           id                                        name  \\\n",
      "0  ROCO_00001            PMC4608653_cro-0008-0385-g01.jpg   \n",
      "1  ROCO_00006            PMC4840839_ol-11-05-3298-g02.jpg   \n",
      "2  ROCO_00016  PMC5665693_cureus-0009-00000001639-i01.jpg   \n",
      "3  ROCO_00025              PMC4813433_EJD-10-188-g001.jpg   \n",
      "4  ROCO_00031           PMC4252315_PWKI-10-23517-g001.jpg   \n",
      "\n",
      "                                             caption  \n",
      "0                        Axial MRI (coronal view).\\n  \n",
      "1   Coronal plain computed tomography image showi...  \n",
      "2   Axial source image from an intracranial magne...  \n",
      "3   The apical height, homogeneity, and the thick...  \n",
      "4          CTO of RCA (closure in the 2nd segment)\\n  \n",
      "Shape of radiologytestdata: (8179, 3)\n"
     ]
    }
   ],
   "source": [
    "import pandas as pd\n",
    "import numpy as np\n",
    "import os\n",
    "import tensorflow as tf\n",
    "from tensorflow.keras.preprocessing.text import Tokenizer\n",
    "from tensorflow.keras.preprocessing.sequence import pad_sequences\n",
    "from sklearn.model_selection import train_test_split\n",
    "\n",
    "# Define paths to CSV files for train, validation, and test sets\n",
    "train_path = 'D:/Internship/archive (1)/all_data/train/radiologytraindata_no_id.csv'\n",
    "val_path = 'D:/Internship/archive (1)/all_data/validation/radiologyvaldata.csv'\n",
    "test_path = 'D:/Internship/archive (1)/all_data/test/radiologytestdata.csv'\n",
    "\n",
    "# Check if all files exist and load them\n",
    "datasets = {}\n",
    "missing_files = []\n",
    "\n",
    "for path in [train_path, val_path, test_path]:\n",
    "    if os.path.exists(path):\n",
    "        print(f\"File found: {path}\")\n",
    "        dataset_name = os.path.basename(path).split('.')[0]\n",
    "        datasets[dataset_name] = pd.read_csv(path)\n",
    "        print(f\"Data from {dataset_name} loaded successfully!\")\n",
    "    else:\n",
    "        print(f\"File not found: {path}\")\n",
    "        missing_files.append(path)\n",
    "\n",
    "# If there are missing files, print them\n",
    "if missing_files:\n",
    "    print(\"Some files are missing. Please verify the following paths:\")\n",
    "    for file_path in missing_files:\n",
    "        print(file_path)\n",
    "\n",
    "# Explore the loaded data\n",
    "for dataset_name, data in datasets.items():\n",
    "    print(f\"\\n{dataset_name} Data:\")\n",
    "    print(data.head())\n",
    "    print(f\"Shape of {dataset_name}: {data.shape}\")\n",
    "\n",
    "# Load the train data\n",
    "train_data = datasets.get('radiologytraindata_no_id')\n"
   ]
  },
  {
   "cell_type": "markdown",
   "metadata": {},
   "source": [
    "# Text Preprocessing"
   ]
  },
  {
   "cell_type": "code",
   "execution_count": 37,
   "metadata": {},
   "outputs": [
    {
     "name": "stderr",
     "output_type": "stream",
     "text": [
      "[nltk_data] Downloading package stopwords to\n",
      "[nltk_data]     C:\\Users\\shrey\\AppData\\Roaming\\nltk_data...\n",
      "[nltk_data]   Package stopwords is already up-to-date!\n",
      "[nltk_data] Downloading package wordnet to\n",
      "[nltk_data]     C:\\Users\\shrey\\AppData\\Roaming\\nltk_data...\n",
      "[nltk_data]   Package wordnet is already up-to-date!\n"
     ]
    },
    {
     "name": "stdout",
     "output_type": "stream",
     "text": [
      "                                             caption  \\\n",
      "0   Computed tomography scan in axial view showin...   \n",
      "1   Bacterial contamination occurred after comple...   \n",
      "2   The patient had residual paralysis of the han...   \n",
      "3    Panoramic radiograph after immediate loading.\\n   \n",
      "4   Plain abdomen x-ray: Multiple air levels at t...   \n",
      "\n",
      "                                     cleaned_caption  \n",
      "0  comput tomographi scan axial view show obliter...  \n",
      "1  bacteri contamin occur complet root canal trea...  \n",
      "2  patient residu paralysi hand poliomyel necessa...  \n",
      "3                     panoram radiograph immedi load  \n",
      "4  plain abdomen xray multipl air level midabdome...  \n",
      "(65450, 3)\n"
     ]
    }
   ],
   "source": [
    "import re\n",
    "import nltk\n",
    "from nltk.corpus import stopwords\n",
    "from nltk.stem import PorterStemmer, WordNetLemmatizer\n",
    "\n",
    "# Download NLTK resources\n",
    "nltk.download('stopwords')\n",
    "nltk.download('wordnet')\n",
    "\n",
    "# Load stopwords\n",
    "stop_words = set(stopwords.words('english'))\n",
    "\n",
    "def preprocess_text(text):\n",
    "    text = text.lower()  # Convert to lower case\n",
    "    text = re.sub(r'http\\S+|www\\S+', '', text)  # Remove links\n",
    "    text = text.replace('\\n', ' ')  # Remove new lines\n",
    "    text = re.sub(r'\\w*\\d\\w*', '', text)  # Remove words containing numbers\n",
    "    text = re.sub(r'\\s+', ' ', text).strip()  # Remove extra spaces\n",
    "    text = re.sub(r'[^\\w\\s]', '', text)  # Remove special characters\n",
    "    text = ' '.join([word for word in text.split() if word not in stop_words])  # Remove stop words\n",
    "    ps = PorterStemmer()\n",
    "    text = ' '.join([ps.stem(word) for word in text.split()])  # Stemming\n",
    "    lemmatizer = WordNetLemmatizer()\n",
    "    text = ' '.join([lemmatizer.lemmatize(word) for word in text.split()])  # Lemmatization\n",
    "    return text\n",
    "\n",
    "# Apply preprocessing to the caption column\n",
    "train_data['cleaned_caption'] = train_data['caption'].apply(preprocess_text)\n",
    "print(train_data[['caption', 'cleaned_caption']].head())\n",
    "print(train_data.shape)\n"
   ]
  },
  {
   "cell_type": "code",
   "execution_count": 38,
   "metadata": {},
   "outputs": [
    {
     "name": "stdout",
     "output_type": "stream",
     "text": [
      "Defaulting to user installation because normal site-packages is not writeableNote: you may need to restart the kernel to use updated packages.\n",
      "\n",
      "Requirement already satisfied: tensorflow in c:\\users\\shrey\\appdata\\roaming\\python\\python38\\site-packages (2.13.0)\n",
      "Requirement already satisfied: tqdm in c:\\users\\shrey\\appdata\\roaming\\python\\python38\\site-packages (4.66.2)\n",
      "Requirement already satisfied: psutil in c:\\users\\shrey\\appdata\\roaming\\python\\python38\\site-packages (5.9.6)\n",
      "Requirement already satisfied: tensorflow-intel==2.13.0 in c:\\users\\shrey\\appdata\\roaming\\python\\python38\\site-packages (from tensorflow) (2.13.0)\n",
      "Requirement already satisfied: absl-py>=1.0.0 in c:\\users\\shrey\\appdata\\roaming\\python\\python38\\site-packages (from tensorflow-intel==2.13.0->tensorflow) (2.0.0)\n",
      "Requirement already satisfied: astunparse>=1.6.0 in c:\\users\\shrey\\appdata\\roaming\\python\\python38\\site-packages (from tensorflow-intel==2.13.0->tensorflow) (1.6.3)\n",
      "Requirement already satisfied: flatbuffers>=23.1.21 in c:\\users\\shrey\\appdata\\roaming\\python\\python38\\site-packages (from tensorflow-intel==2.13.0->tensorflow) (23.5.26)\n",
      "Requirement already satisfied: gast<=0.4.0,>=0.2.1 in c:\\users\\shrey\\appdata\\roaming\\python\\python38\\site-packages (from tensorflow-intel==2.13.0->tensorflow) (0.4.0)\n",
      "Requirement already satisfied: google-pasta>=0.1.1 in c:\\users\\shrey\\appdata\\roaming\\python\\python38\\site-packages (from tensorflow-intel==2.13.0->tensorflow) (0.2.0)\n",
      "Requirement already satisfied: h5py>=2.9.0 in c:\\users\\shrey\\appdata\\roaming\\python\\python38\\site-packages (from tensorflow-intel==2.13.0->tensorflow) (3.10.0)\n",
      "Requirement already satisfied: libclang>=13.0.0 in c:\\users\\shrey\\appdata\\roaming\\python\\python38\\site-packages (from tensorflow-intel==2.13.0->tensorflow) (16.0.6)\n",
      "Requirement already satisfied: numpy<=1.24.3,>=1.22 in c:\\users\\shrey\\appdata\\roaming\\python\\python38\\site-packages (from tensorflow-intel==2.13.0->tensorflow) (1.24.3)\n",
      "Requirement already satisfied: opt-einsum>=2.3.2 in c:\\users\\shrey\\appdata\\roaming\\python\\python38\\site-packages (from tensorflow-intel==2.13.0->tensorflow) (3.3.0)\n",
      "Requirement already satisfied: packaging in c:\\users\\shrey\\appdata\\roaming\\python\\python38\\site-packages (from tensorflow-intel==2.13.0->tensorflow) (23.2)\n",
      "Requirement already satisfied: protobuf!=4.21.0,!=4.21.1,!=4.21.2,!=4.21.3,!=4.21.4,!=4.21.5,<5.0.0dev,>=3.20.3 in c:\\users\\shrey\\appdata\\roaming\\python\\python38\\site-packages (from tensorflow-intel==2.13.0->tensorflow) (4.25.1)\n",
      "Requirement already satisfied: setuptools in c:\\program files\\python38\\lib\\site-packages (from tensorflow-intel==2.13.0->tensorflow) (56.0.0)\n",
      "Requirement already satisfied: six>=1.12.0 in c:\\users\\shrey\\appdata\\roaming\\python\\python38\\site-packages (from tensorflow-intel==2.13.0->tensorflow) (1.16.0)\n",
      "Requirement already satisfied: termcolor>=1.1.0 in c:\\users\\shrey\\appdata\\roaming\\python\\python38\\site-packages (from tensorflow-intel==2.13.0->tensorflow) (2.4.0)\n",
      "Requirement already satisfied: typing-extensions<4.6.0,>=3.6.6 in c:\\users\\shrey\\appdata\\roaming\\python\\python38\\site-packages (from tensorflow-intel==2.13.0->tensorflow) (4.5.0)\n",
      "Requirement already satisfied: wrapt>=1.11.0 in c:\\users\\shrey\\appdata\\roaming\\python\\python38\\site-packages (from tensorflow-intel==2.13.0->tensorflow) (1.16.0)\n",
      "Requirement already satisfied: grpcio<2.0,>=1.24.3 in c:\\users\\shrey\\appdata\\roaming\\python\\python38\\site-packages (from tensorflow-intel==2.13.0->tensorflow) (1.59.3)\n",
      "Requirement already satisfied: tensorboard<2.14,>=2.13 in c:\\users\\shrey\\appdata\\roaming\\python\\python38\\site-packages (from tensorflow-intel==2.13.0->tensorflow) (2.13.0)\n",
      "Requirement already satisfied: tensorflow-estimator<2.14,>=2.13.0 in c:\\users\\shrey\\appdata\\roaming\\python\\python38\\site-packages (from tensorflow-intel==2.13.0->tensorflow) (2.13.0)\n",
      "Requirement already satisfied: keras<2.14,>=2.13.1 in c:\\users\\shrey\\appdata\\roaming\\python\\python38\\site-packages (from tensorflow-intel==2.13.0->tensorflow) (2.13.1)\n",
      "Requirement already satisfied: tensorflow-io-gcs-filesystem>=0.23.1 in c:\\users\\shrey\\appdata\\roaming\\python\\python38\\site-packages (from tensorflow-intel==2.13.0->tensorflow) (0.31.0)\n",
      "Requirement already satisfied: colorama in c:\\users\\shrey\\appdata\\roaming\\python\\python38\\site-packages (from tqdm) (0.4.6)\n",
      "Requirement already satisfied: wheel<1.0,>=0.23.0 in c:\\users\\shrey\\appdata\\roaming\\python\\python38\\site-packages (from astunparse>=1.6.0->tensorflow-intel==2.13.0->tensorflow) (0.42.0)\n",
      "Requirement already satisfied: google-auth<3,>=1.6.3 in c:\\users\\shrey\\appdata\\roaming\\python\\python38\\site-packages (from tensorboard<2.14,>=2.13->tensorflow-intel==2.13.0->tensorflow) (2.24.0)\n",
      "Requirement already satisfied: google-auth-oauthlib<1.1,>=0.5 in c:\\users\\shrey\\appdata\\roaming\\python\\python38\\site-packages (from tensorboard<2.14,>=2.13->tensorflow-intel==2.13.0->tensorflow) (1.0.0)\n",
      "Requirement already satisfied: markdown>=2.6.8 in c:\\users\\shrey\\appdata\\roaming\\python\\python38\\site-packages (from tensorboard<2.14,>=2.13->tensorflow-intel==2.13.0->tensorflow) (3.5.1)\n",
      "Requirement already satisfied: requests<3,>=2.21.0 in c:\\users\\shrey\\appdata\\roaming\\python\\python38\\site-packages (from tensorboard<2.14,>=2.13->tensorflow-intel==2.13.0->tensorflow) (2.31.0)\n",
      "Requirement already satisfied: tensorboard-data-server<0.8.0,>=0.7.0 in c:\\users\\shrey\\appdata\\roaming\\python\\python38\\site-packages (from tensorboard<2.14,>=2.13->tensorflow-intel==2.13.0->tensorflow) (0.7.2)\n",
      "Requirement already satisfied: werkzeug>=1.0.1 in c:\\users\\shrey\\appdata\\roaming\\python\\python38\\site-packages (from tensorboard<2.14,>=2.13->tensorflow-intel==2.13.0->tensorflow) (3.0.1)\n",
      "Requirement already satisfied: cachetools<6.0,>=2.0.0 in c:\\users\\shrey\\appdata\\roaming\\python\\python38\\site-packages (from google-auth<3,>=1.6.3->tensorboard<2.14,>=2.13->tensorflow-intel==2.13.0->tensorflow) (5.3.2)\n",
      "Requirement already satisfied: pyasn1-modules>=0.2.1 in c:\\users\\shrey\\appdata\\roaming\\python\\python38\\site-packages (from google-auth<3,>=1.6.3->tensorboard<2.14,>=2.13->tensorflow-intel==2.13.0->tensorflow) (0.3.0)\n",
      "Requirement already satisfied: rsa<5,>=3.1.4 in c:\\users\\shrey\\appdata\\roaming\\python\\python38\\site-packages (from google-auth<3,>=1.6.3->tensorboard<2.14,>=2.13->tensorflow-intel==2.13.0->tensorflow) (4.9)\n",
      "Requirement already satisfied: requests-oauthlib>=0.7.0 in c:\\users\\shrey\\appdata\\roaming\\python\\python38\\site-packages (from google-auth-oauthlib<1.1,>=0.5->tensorboard<2.14,>=2.13->tensorflow-intel==2.13.0->tensorflow) (1.3.1)\n",
      "Requirement already satisfied: importlib-metadata>=4.4 in c:\\users\\shrey\\appdata\\roaming\\python\\python38\\site-packages (from markdown>=2.6.8->tensorboard<2.14,>=2.13->tensorflow-intel==2.13.0->tensorflow) (6.9.0)\n",
      "Requirement already satisfied: charset-normalizer<4,>=2 in c:\\users\\shrey\\appdata\\roaming\\python\\python38\\site-packages (from requests<3,>=2.21.0->tensorboard<2.14,>=2.13->tensorflow-intel==2.13.0->tensorflow) (3.3.2)\n",
      "Requirement already satisfied: idna<4,>=2.5 in c:\\users\\shrey\\appdata\\roaming\\python\\python38\\site-packages (from requests<3,>=2.21.0->tensorboard<2.14,>=2.13->tensorflow-intel==2.13.0->tensorflow) (3.6)\n",
      "Requirement already satisfied: urllib3<3,>=1.21.1 in c:\\users\\shrey\\appdata\\roaming\\python\\python38\\site-packages (from requests<3,>=2.21.0->tensorboard<2.14,>=2.13->tensorflow-intel==2.13.0->tensorflow) (2.1.0)\n",
      "Requirement already satisfied: certifi>=2017.4.17 in c:\\users\\shrey\\appdata\\roaming\\python\\python38\\site-packages (from requests<3,>=2.21.0->tensorboard<2.14,>=2.13->tensorflow-intel==2.13.0->tensorflow) (2023.11.17)\n",
      "Requirement already satisfied: MarkupSafe>=2.1.1 in c:\\users\\shrey\\appdata\\roaming\\python\\python38\\site-packages (from werkzeug>=1.0.1->tensorboard<2.14,>=2.13->tensorflow-intel==2.13.0->tensorflow) (2.1.3)\n",
      "Requirement already satisfied: zipp>=0.5 in c:\\users\\shrey\\appdata\\roaming\\python\\python38\\site-packages (from importlib-metadata>=4.4->markdown>=2.6.8->tensorboard<2.14,>=2.13->tensorflow-intel==2.13.0->tensorflow) (3.17.0)\n",
      "Requirement already satisfied: pyasn1<0.6.0,>=0.4.6 in c:\\users\\shrey\\appdata\\roaming\\python\\python38\\site-packages (from pyasn1-modules>=0.2.1->google-auth<3,>=1.6.3->tensorboard<2.14,>=2.13->tensorflow-intel==2.13.0->tensorflow) (0.5.1)\n",
      "Requirement already satisfied: oauthlib>=3.0.0 in c:\\users\\shrey\\appdata\\roaming\\python\\python38\\site-packages (from requests-oauthlib>=0.7.0->google-auth-oauthlib<1.1,>=0.5->tensorboard<2.14,>=2.13->tensorflow-intel==2.13.0->tensorflow) (3.2.2)\n"
     ]
    }
   ],
   "source": [
    "pip install tensorflow tqdm psutil\n"
   ]
  },
  {
   "cell_type": "code",
   "execution_count": 39,
   "metadata": {},
   "outputs": [
    {
     "name": "stderr",
     "output_type": "stream",
     "text": [
      "Checking images:   0%|          | 0/65450 [00:00<?, ?it/s]"
     ]
    },
    {
     "name": "stderr",
     "output_type": "stream",
     "text": [
      "Checking images: 100%|██████████| 65450/65450 [00:09<00:00, 7071.92it/s] \n"
     ]
    },
    {
     "name": "stdout",
     "output_type": "stream",
     "text": [
      "Cleaned data saved to D:/Internship/archive (1)/all_data/train/radiologytraindata_cleaned.csv\n"
     ]
    }
   ],
   "source": [
    "from tqdm import tqdm\n",
    "import cv2\n",
    "\n",
    "# Directory containing the images\n",
    "image_dir = 'D:/Internship/archive (1)/all_data/train/radiology/images 66000'\n",
    "\n",
    "# Check for missing images in the dataset\n",
    "missing_images = []\n",
    "\n",
    "for img_name in tqdm(train_data['name'], desc=\"Checking images\"):\n",
    "    img_path = os.path.join(image_dir, img_name)\n",
    "    if not os.path.exists(img_path):\n",
    "        missing_images.append(img_name)\n",
    "\n",
    "# Remove rows with missing images from the DataFrame\n",
    "train_data_cleaned = train_data[~train_data['name'].isin(missing_images)]\n",
    "cleaned_csv_path = 'D:/Internship/archive (1)/all_data/train/radiologytraindata_cleaned.csv'\n",
    "train_data_cleaned.to_csv(cleaned_csv_path, index=False)\n",
    "print(f\"Cleaned data saved to {cleaned_csv_path}\")\n"
   ]
  },
  {
   "cell_type": "markdown",
   "metadata": {},
   "source": [
    "# Image Preprocessing"
   ]
  },
  {
   "cell_type": "code",
   "execution_count": 40,
   "metadata": {},
   "outputs": [
    {
     "name": "stderr",
     "output_type": "stream",
     "text": [
      "Processing batch 1/11: 100%|██████████| 100/100 [00:02<00:00, 39.82it/s]\n",
      "Processing batch 2/11: 100%|██████████| 100/100 [00:02<00:00, 46.25it/s]\n",
      "Processing batch 3/11: 100%|██████████| 100/100 [00:02<00:00, 48.02it/s]\n",
      "Processing batch 4/11: 100%|██████████| 100/100 [00:02<00:00, 48.10it/s]\n",
      "Processing batch 5/11: 100%|██████████| 100/100 [00:02<00:00, 36.81it/s]\n",
      "Processing batch 6/11: 100%|██████████| 100/100 [00:02<00:00, 39.53it/s]\n",
      "Processing batch 7/11: 100%|██████████| 100/100 [00:02<00:00, 48.74it/s]\n",
      "Processing batch 8/11: 100%|██████████| 100/100 [00:02<00:00, 42.30it/s]\n",
      "Processing batch 9/11: 100%|██████████| 100/100 [00:02<00:00, 48.48it/s]\n",
      "Processing batch 10/11: 100%|██████████| 100/100 [00:02<00:00, 46.34it/s]\n",
      "Processing batch 11/11: 100%|██████████| 100/100 [00:02<00:00, 45.29it/s]\n"
     ]
    }
   ],
   "source": [
    "import os\n",
    "import logging\n",
    "import psutil\n",
    "from tqdm import tqdm\n",
    "import tensorflow as tf\n",
    "import numpy as np\n",
    "from tensorflow.keras.preprocessing.text import Tokenizer\n",
    "from tensorflow.keras.preprocessing.sequence import pad_sequences\n",
    "from tensorflow.keras.models import Model\n",
    "from tensorflow.keras.layers import Input, Embedding, LSTM, Dense, Flatten, concatenate\n",
    "\n",
    "# Setup logging\n",
    "logging.basicConfig(filename='image_processing.log', level=logging.INFO)\n",
    "\n",
    "# Define the image loading function\n",
    "def load_image(image_path):\n",
    "    image = tf.io.read_file(image_path)\n",
    "    image = tf.image.decode_jpeg(image, channels=3)\n",
    "    image = tf.image.resize(image, (224, 224))  # Assuming a target size\n",
    "    image = tf.image.random_flip_left_right(image)\n",
    "    image = tf.image.random_brightness(image, max_delta=0.1)\n",
    "    image = tf.image.random_contrast(image, lower=0.9, upper=1.1)\n",
    "    image = image / 255.0  # Normalize to [0, 1]\n",
    "    return image\n",
    "\n",
    "# Initialize lists for image data and missing images\n",
    "image_data = []\n",
    "\n",
    "# Define batch size for processing images in smaller chunks\n",
    "batch_size = 100\n",
    "# Define a limit for the number of images to process (e.g., 1000)\n",
    "limit = 1000\n",
    "num_batches = min(limit, len(train_data_cleaned)) // batch_size + 1\n",
    "\n",
    "# Process images in batches\n",
    "for i in range(num_batches):\n",
    "    start_idx = i * batch_size\n",
    "    end_idx = start_idx + batch_size\n",
    "    batch_data = train_data_cleaned[start_idx:end_idx]\n",
    "    for img_name in tqdm(batch_data['name'], desc=f\"Processing batch {i+1}/{num_batches}\"):\n",
    "        img_path = os.path.join(image_dir, img_name)\n",
    "        try:\n",
    "            img = load_image(img_path)\n",
    "            image_data.append(img.numpy())\n",
    "        except Exception as e:\n",
    "            logging.error(f\"Error loading image {img_name}: {e}\")\n",
    "    \n",
    "    # Log memory usage every batch\n",
    "    logging.info(f\"Processed {len(image_data)} images. Current memory usage: {psutil.virtual_memory().percent}%\")\n",
    "\n",
    "logging.info(f\"Total processed images: {len(image_data)}\")\n",
    "\n"
   ]
  },
  {
   "cell_type": "markdown",
   "metadata": {},
   "source": [
    "# Tokenize and pad text data"
   ]
  },
  {
   "cell_type": "code",
   "execution_count": 41,
   "metadata": {},
   "outputs": [
    {
     "name": "stdout",
     "output_type": "stream",
     "text": [
      "Shape of padded sequences: (65420, 100)\n",
      "Shape of train inputs: (65420, 99)\n",
      "Shape of train targets: (65420, 99)\n",
      "Shape of images array: (1100, 224, 224, 3)\n"
     ]
    }
   ],
   "source": [
    "\n",
    "max_text_length = 100\n",
    "vocab_size = 10000\n",
    "\n",
    "tokenizer = Tokenizer(num_words=vocab_size, oov_token='<OOV>')\n",
    "tokenizer.fit_on_texts(train_data_cleaned['cleaned_caption'])\n",
    "\n",
    "train_sequences = tokenizer.texts_to_sequences(train_data_cleaned['cleaned_caption'])\n",
    "train_sequences = pad_sequences(train_sequences, maxlen=max_text_length, padding='post')\n",
    "\n",
    "# Shift targets by one for prediction\n",
    "train_inputs = train_sequences[:, :-1]\n",
    "train_targets = train_sequences[:, 1:]\n",
    "\n",
    "# Convert image data to numpy arrays\n",
    "train_images = np.array(image_data)\n",
    "image_shape = train_images.shape[1:]  # Get the shape of the images\n",
    "\n",
    "print(f'Shape of padded sequences: {train_sequences.shape}')\n",
    "print(f'Shape of train inputs: {train_inputs.shape}')\n",
    "print(f'Shape of train targets: {train_targets.shape}')\n",
    "print(f'Shape of images array: {train_images.shape}')\n",
    "\n",
    "\n"
   ]
  },
  {
   "cell_type": "markdown",
   "metadata": {},
   "source": [
    "## Model Architecture Overview\n",
    "\n",
    "The provided code implements a custom model for image captioning using TensorFlow/Keras. Here's an overview of the model architecture and its components:\n",
    "\n",
    "1. **Image Model**: Processes input images through convolutional layers, flattening, and dense layers to extract features from images.\n",
    "\n",
    "2. **Text Model**: Handles preprocessed text data using an embedding layer and LSTM (Long Short-Term Memory) layer for sequence modeling and context understanding.\n",
    "\n",
    "3. **Combined Model**: Concatenates the outputs of the Image and Text models, followed by dense layers to predict the next word in the caption sequence.\n",
    "\n",
    "4. **Training Configuration**: The model is compiled with the Adam optimizer and sparse categorical cross-entropy loss function. Training is conducted over 10 epochs using combined image and text inputs.\n",
    "\n",
    "This architecture is tailored for generating descriptive captions for images, leveraging both visual features and textual context to produce meaningful and contextually relevant descriptions.\n"
   ]
  },
  {
   "cell_type": "markdown",
   "metadata": {},
   "source": [
    "# Model Building\n"
   ]
  },
  {
   "cell_type": "code",
   "execution_count": 42,
   "metadata": {},
   "outputs": [
    {
     "name": "stdout",
     "output_type": "stream",
     "text": [
      "Model: \"model_7\"\n",
      "__________________________________________________________________________________________________\n",
      " Layer (type)                Output Shape                 Param #   Connected to                  \n",
      "==================================================================================================\n",
      " input_18 (InputLayer)       [(None, 99)]                 0         []                            \n",
      "                                                                                                  \n",
      " input_17 (InputLayer)       [(None, 224, 224, 3)]        0         []                            \n",
      "                                                                                                  \n",
      " embedding_8 (Embedding)     (None, 99, 128)              1280000   ['input_18[0][0]']            \n",
      "                                                                                                  \n",
      " flatten_12 (Flatten)        (None, 150528)               0         ['input_17[0][0]']            \n",
      "                                                                                                  \n",
      " lstm_8 (LSTM)               (None, 99, 128)              131584    ['embedding_8[0][0]']         \n",
      "                                                                                                  \n",
      " dense_24 (Dense)            (None, 128)                  1926771   ['flatten_12[0][0]']          \n",
      "                                                          2                                       \n",
      "                                                                                                  \n",
      " flatten_13 (Flatten)        (None, 12672)                0         ['lstm_8[0][0]']              \n",
      "                                                                                                  \n",
      " concatenate_8 (Concatenate  (None, 12800)                0         ['dense_24[0][0]',            \n",
      " )                                                                   'flatten_13[0][0]']          \n",
      "                                                                                                  \n",
      " dense_25 (Dense)            (None, 64)                   819264    ['concatenate_8[0][0]']       \n",
      "                                                                                                  \n",
      " dense_26 (Dense)            (None, 990000)               6435000   ['dense_25[0][0]']            \n",
      "                                                          0                                       \n",
      "                                                                                                  \n",
      " tf.reshape_3 (TFOpLambda)   (None, 99, 10000)            0         ['dense_26[0][0]']            \n",
      "                                                                                                  \n",
      "==================================================================================================\n",
      "Total params: 85848560 (327.49 MB)\n",
      "Trainable params: 85848560 (327.49 MB)\n",
      "Non-trainable params: 0 (0.00 Byte)\n",
      "__________________________________________________________________________________________________\n"
     ]
    }
   ],
   "source": [
    "def create_model(vocab_size, max_text_length, image_shape):\n",
    "    # Image model\n",
    "    image_input = Input(shape=image_shape)\n",
    "    image_model = Flatten()(image_input)  # Adjust as needed\n",
    "    image_model = Dense(128, activation='relu')(image_model)  # Example dense layer\n",
    "\n",
    "    # Text model\n",
    "    text_input = Input(shape=(max_text_length - 1,))  # Adjust for shifted targets\n",
    "    text_model = Embedding(input_dim=vocab_size, output_dim=128)(text_input)  # Adjust embedding dimensions\n",
    "    text_model = LSTM(128, return_sequences=True)(text_model)  # Example LSTM layer\n",
    "\n",
    "    # Concatenate image and text models\n",
    "    combined = concatenate([image_model, Flatten()(text_model)])\n",
    "    x = Dense(64, activation='relu')(combined)  # Example dense layer\n",
    "    x = Dense((max_text_length - 1) * vocab_size)(x)\n",
    "    output = tf.reshape(x, (-1, max_text_length - 1, vocab_size))\n",
    "    \n",
    "    # Define the model\n",
    "    model = Model(inputs=[image_input, text_input], outputs=output)\n",
    "    model.compile(optimizer='adam', loss='sparse_categorical_crossentropy', metrics=['accuracy'])\n",
    "    return model\n",
    "\n",
    "# Example model creation\n",
    "model = create_model(vocab_size, max_text_length, image_shape)\n",
    "model.summary()\n",
    "\n",
    "\n"
   ]
  },
  {
   "cell_type": "markdown",
   "metadata": {},
   "source": [
    "# Training the model\n"
   ]
  },
  {
   "cell_type": "code",
   "execution_count": 47,
   "metadata": {},
   "outputs": [
    {
     "name": "stdout",
     "output_type": "stream",
     "text": [
      "Epoch 1/10\n",
      "28/28 [==============================] - 63s 2s/step - loss: 2.4801 - accuracy: 0.8177 - val_loss: 2.4200 - val_accuracy: 0.8152\n",
      "Epoch 2/10\n",
      "28/28 [==============================] - 64s 2s/step - loss: 2.3854 - accuracy: 0.8175 - val_loss: 2.4198 - val_accuracy: 0.8152\n",
      "Epoch 3/10\n",
      "28/28 [==============================] - 71s 3s/step - loss: 2.3715 - accuracy: 0.8174 - val_loss: 2.3647 - val_accuracy: 0.8145\n",
      "Epoch 4/10\n",
      "28/28 [==============================] - 74s 3s/step - loss: 2.3285 - accuracy: 0.8166 - val_loss: 2.3651 - val_accuracy: 0.8146\n",
      "Epoch 5/10\n",
      "28/28 [==============================] - 66s 2s/step - loss: 2.2993 - accuracy: 0.8152 - val_loss: 2.2773 - val_accuracy: 0.8112\n",
      "Epoch 6/10\n",
      "28/28 [==============================] - 62s 2s/step - loss: 2.2516 - accuracy: 0.8127 - val_loss: 2.2761 - val_accuracy: 0.8112\n",
      "Epoch 7/10\n",
      "28/28 [==============================] - 71s 3s/step - loss: 2.2279 - accuracy: 0.8079 - val_loss: 2.2624 - val_accuracy: 0.8034\n",
      "Epoch 8/10\n",
      "28/28 [==============================] - 72s 3s/step - loss: 2.2657 - accuracy: 0.7932 - val_loss: 2.3702 - val_accuracy: 0.7751\n",
      "Epoch 9/10\n",
      "28/28 [==============================] - 74s 3s/step - loss: 2.3754 - accuracy: 0.7713 - val_loss: 2.4326 - val_accuracy: 0.7667\n",
      "Epoch 10/10\n",
      "28/28 [==============================] - 74s 3s/step - loss: 2.3298 - accuracy: 0.7662 - val_loss: 2.4383 - val_accuracy: 0.7535\n"
     ]
    }
   ],
   "source": [
    "history = model.fit(\n",
    "    [train_images, train_inputs],\n",
    "    train_targets,\n",
    "    batch_size=32,\n",
    "    epochs=10,\n",
    "    validation_split=0.2\n",
    ")"
   ]
  },
  {
   "cell_type": "markdown",
   "metadata": {},
   "source": [
    "# Preprocess Validation and Test Data:"
   ]
  },
  {
   "cell_type": "code",
   "execution_count": 50,
   "metadata": {},
   "outputs": [],
   "source": [
    "# Apply preprocessing to the caption column\n",
    "train_data['cleaned_caption'] = train_data['caption'].apply(preprocess_text)\n"
   ]
  },
  {
   "cell_type": "code",
   "execution_count": 51,
   "metadata": {},
   "outputs": [
    {
     "name": "stdout",
     "output_type": "stream",
     "text": [
      "                                             caption  \\\n",
      "0   Axial computed tomography scan of the pelvis ...   \n",
      "1   Postoperative anteroposterior radiograph of t...   \n",
      "2   Angiography of the internal carotid artery, l...   \n",
      "3   Case 4: (A) pretreatment radiograph; (B) Root...   \n",
      "4   Preintervention MRCP revealing a nine-millime...   \n",
      "\n",
      "                                     cleaned_caption  \n",
      "0  axial comput tomographi scan pelvi show diffus...  \n",
      "1            postop anteroposterior radiograph pelvi  \n",
      "2  angiographi intern carotid arteri late arteri ...  \n",
      "3  case pretreat radiograph b rootcan fill show o...  \n",
      "4  preintervent mrcp reveal ninemillimet stone cy...  \n",
      "(8180, 4)\n",
      "                                             caption  \\\n",
      "0                        Axial MRI (coronal view).\\n   \n",
      "1   Coronal plain computed tomography image showi...   \n",
      "2   Axial source image from an intracranial magne...   \n",
      "3   The apical height, homogeneity, and the thick...   \n",
      "4          CTO of RCA (closure in the 2nd segment)\\n   \n",
      "\n",
      "                                     cleaned_caption  \n",
      "0                               axial mri coron view  \n",
      "1  coron plain comput tomographi imag show multip...  \n",
      "2  axial sourc imag intracrani magnet reson angio...  \n",
      "3  apic height homogen thick miner trioxid aggreg...  \n",
      "4                             cto rca closur segment  \n",
      "(8179, 4)\n"
     ]
    }
   ],
   "source": [
    "# Load the validation and test data\n",
    "val_data = datasets.get('radiologyvaldata')\n",
    "test_data = datasets.get('radiologytestdata')\n",
    "\n",
    "# Apply preprocessing to the caption columns of validation and test data\n",
    "val_data['cleaned_caption'] = val_data['caption'].apply(preprocess_text)\n",
    "test_data['cleaned_caption'] = test_data['caption'].apply(preprocess_text)\n",
    "\n",
    "print(val_data[['caption', 'cleaned_caption']].head())\n",
    "print(val_data.shape)\n",
    "print(test_data[['caption', 'cleaned_caption']].head())\n",
    "print(test_data.shape)\n"
   ]
  },
  {
   "cell_type": "code",
   "execution_count": 58,
   "metadata": {},
   "outputs": [
    {
     "name": "stderr",
     "output_type": "stream",
     "text": [
      "Checking validation images:   0%|          | 0/8180 [00:00<?, ?it/s]"
     ]
    },
    {
     "name": "stderr",
     "output_type": "stream",
     "text": [
      "Checking validation images: 100%|██████████| 8180/8180 [00:01<00:00, 6369.35it/s] \n",
      "Checking test images: 100%|██████████| 8179/8179 [00:01<00:00, 6358.21it/s] "
     ]
    },
    {
     "name": "stdout",
     "output_type": "stream",
     "text": [
      "Number of missing validation images: 5\n",
      "Number of missing test images: 3\n"
     ]
    },
    {
     "name": "stderr",
     "output_type": "stream",
     "text": [
      "\n"
     ]
    }
   ],
   "source": [
    "# Define paths to validation and test image directories\n",
    "val_image_dir = 'D:/Internship/archive (1)/all_data/validation/radiology/images'\n",
    "test_image_dir = 'D:/Internship/archive (1)/all_data/test/radiology/images'\n",
    "\n",
    "# Check for missing images in validation and test datasets\n",
    "val_missing_images = []\n",
    "test_missing_images = []\n",
    "\n",
    "for img_name in tqdm(val_data['name'], desc=\"Checking validation images\"):\n",
    "    img_path = os.path.join(val_image_dir, img_name)\n",
    "    if not os.path.exists(img_path):\n",
    "        val_missing_images.append(img_name)\n",
    "\n",
    "for img_name in tqdm(test_data['name'], desc=\"Checking test images\"):\n",
    "    img_path = os.path.join(test_image_dir, img_name)\n",
    "    if not os.path.exists(img_path):\n",
    "        test_missing_images.append(img_name)\n",
    "\n",
    "print(f'Number of missing validation images: {len(val_missing_images)}')\n",
    "print(f'Number of missing test images: {len(test_missing_images)}')"
   ]
  },
  {
   "cell_type": "markdown",
   "metadata": {},
   "source": [
    "# Clean DataFrames\n",
    "Remove rows with missing images from the DataFrames."
   ]
  },
  {
   "cell_type": "code",
   "execution_count": 68,
   "metadata": {},
   "outputs": [
    {
     "name": "stdout",
     "output_type": "stream",
     "text": [
      "Number of cleaned validation samples: 8175\n",
      "Number of cleaned test samples: 8176\n"
     ]
    }
   ],
   "source": [
    "# Remove rows with missing images from the DataFrames\n",
    "val_data_cleaned = val_data[~val_data['name'].isin(val_missing_images)]\n",
    "test_data_cleaned = test_data[~test_data['name'].isin(test_missing_images)]\n",
    "print(f'Number of cleaned validation samples: {len(val_data_cleaned)}')\n",
    "print(f'Number of cleaned test samples: {len(test_data_cleaned)}')"
   ]
  },
  {
   "cell_type": "markdown",
   "metadata": {},
   "source": [
    "Tokenize and Pad Text Data"
   ]
  },
  {
   "cell_type": "code",
   "execution_count": 63,
   "metadata": {},
   "outputs": [
    {
     "name": "stdout",
     "output_type": "stream",
     "text": [
      "Shape of validation sequences: (1000, 100)\n",
      "Shape of validation inputs: (1000, 99)\n",
      "Shape of validation targets: (1000, 99)\n",
      "Shape of validation images array: (1000, 224, 224, 3)\n",
      "Shape of test sequences: (1000, 100)\n",
      "Shape of test inputs: (1000, 99)\n",
      "Shape of test targets: (1000, 99)\n",
      "Shape of test images array: (1000, 224, 224, 3)\n"
     ]
    }
   ],
   "source": [
    "# Slice the DataFrames to include only the first 1000 entries\n",
    "val_data_sampled = val_data_cleaned.iloc[:1000]\n",
    "test_data_sampled = test_data_cleaned.iloc[:1000]\n",
    "\n",
    "# Tokenize and pad validation and test text data\n",
    "val_sequences = tokenizer.texts_to_sequences(val_data_sampled['cleaned_caption'])\n",
    "val_sequences = pad_sequences(val_sequences, maxlen=max_text_length, padding='post')\n",
    "\n",
    "test_sequences = tokenizer.texts_to_sequences(test_data_sampled['cleaned_caption'])\n",
    "test_sequences = pad_sequences(test_sequences, maxlen=max_text_length, padding='post')\n",
    "\n",
    "# Shift targets by one for prediction (validation and test)\n",
    "val_inputs = val_sequences[:, :-1]\n",
    "val_targets = val_sequences[:, 1:]\n",
    "\n",
    "test_inputs = test_sequences[:, :-1]\n",
    "test_targets = test_sequences[:, 1:]\n",
    "\n",
    "\n",
    "\n",
    "print(f'Shape of validation sequences: {val_sequences.shape}')\n",
    "print(f'Shape of validation inputs: {val_inputs.shape}')\n",
    "print(f'Shape of validation targets: {val_targets.shape}')\n",
    "print(f'Shape of validation images array: {val_images.shape}')\n",
    "\n",
    "print(f'Shape of test sequences: {test_sequences.shape}')\n",
    "print(f'Shape of test inputs: {test_inputs.shape}')\n",
    "print(f'Shape of test targets: {test_targets.shape}')\n",
    "print(f'Shape of test images array: {test_images.shape}')\n",
    "\n",
    "\n"
   ]
  },
  {
   "cell_type": "markdown",
   "metadata": {},
   "source": [
    "# Load Images\n",
    "Convert validation and test image data to numpy arrays."
   ]
  },
  {
   "cell_type": "code",
   "execution_count": 64,
   "metadata": {},
   "outputs": [
    {
     "name": "stderr",
     "output_type": "stream",
     "text": [
      "Processing validation images: 100%|██████████| 1000/1000 [00:12<00:00, 78.50it/s]\n",
      "Processing test images: 100%|██████████| 1000/1000 [00:13<00:00, 75.59it/s]\n"
     ]
    },
    {
     "name": "stdout",
     "output_type": "stream",
     "text": [
      "Number of validation images: 1000\n",
      "Number of validation inputs: 1000\n",
      "Number of validation targets: 1000\n",
      "Number of test images: 1000\n",
      "Number of test inputs: 1000\n",
      "Number of test targets: 1000\n"
     ]
    }
   ],
   "source": [
    "# Convert validation and test image data to numpy arrays\n",
    "val_images = []\n",
    "test_images = []\n",
    "\n",
    "for img_name in tqdm(val_data_sampled['name'], desc=\"Processing validation images\"):\n",
    "    img_path = os.path.join(val_image_dir, img_name)\n",
    "    img = load_image(img_path)\n",
    "    val_images.append(img.numpy())\n",
    "\n",
    "for img_name in tqdm(test_data_sampled['name'], desc=\"Processing test images\"):\n",
    "    img_path = os.path.join(test_image_dir, img_name)\n",
    "    img = load_image(img_path)\n",
    "    test_images.append(img.numpy())\n",
    "\n",
    "val_images = np.array(val_images)\n",
    "test_images = np.array(test_images)\n",
    "\n",
    "print(f'Number of validation images: {len(val_images)}')\n",
    "print(f'Number of validation inputs: {len(val_inputs)}')\n",
    "print(f'Number of validation targets: {len(val_targets)}')\n",
    "print(f'Number of test images: {len(test_images)}')\n",
    "print(f'Number of test inputs: {len(test_inputs)}')\n",
    "print(f'Number of test targets: {len(test_targets)}')"
   ]
  },
  {
   "cell_type": "markdown",
   "metadata": {},
   "source": [
    "Verify Dataset Sizes"
   ]
  },
  {
   "cell_type": "code",
   "execution_count": 66,
   "metadata": {},
   "outputs": [],
   "source": [
    "assert len(val_images) > 0, \"No validation images found\"\n",
    "assert len(val_inputs) > 0, \"No validation inputs found\"\n",
    "assert len(val_targets) > 0, \"No validation targets found\"\n",
    "assert len(test_images) > 0, \"No test images found\"\n",
    "assert len(test_inputs) > 0, \"No test inputs found\"\n",
    "assert len(test_targets) > 0, \"No test targets found\"\n",
    "\n",
    "assert len(val_images) == len(val_inputs) == len(val_targets), \"Mismatch in validation dataset sizes\"\n",
    "assert len(test_images) == len(test_inputs) == len(test_targets), \"Mismatch in test dataset sizes\"\n"
   ]
  },
  {
   "cell_type": "markdown",
   "metadata": {},
   "source": [
    "Evaluate the Model"
   ]
  },
  {
   "cell_type": "code",
   "execution_count": 67,
   "metadata": {},
   "outputs": [
    {
     "name": "stdout",
     "output_type": "stream",
     "text": [
      "32/32 [==============================] - 15s 407ms/step - loss: 2.3606 - accuracy: 0.7584\n",
      "Validation Loss: 2.360560655593872\n",
      "Validation Accuracy: 0.7583737373352051\n",
      "32/32 [==============================] - 13s 381ms/step - loss: 2.4405 - accuracy: 0.7534\n",
      "Test Loss: 2.4405012130737305\n",
      "Test Accuracy: 0.7533939480781555\n"
     ]
    }
   ],
   "source": [
    "# Evaluate the model on validation data\n",
    "val_loss, val_accuracy = model.evaluate([val_images, val_inputs], val_targets, verbose=1)\n",
    "print(f'Validation Loss: {val_loss}')\n",
    "print(f'Validation Accuracy: {val_accuracy}')\n",
    "\n",
    "# Evaluate the model on test data\n",
    "test_loss, test_accuracy = model.evaluate([test_images, test_inputs], test_targets, verbose=1)\n",
    "print(f'Test Loss: {test_loss}')\n",
    "print(f'Test Accuracy: {test_accuracy}')\n"
   ]
  },
  {
   "cell_type": "code",
   "execution_count": 71,
   "metadata": {},
   "outputs": [
    {
     "data": {
      "image/png": "[encoded data removed]",
      "text/plain": [
       "<Figure size 640x480 with 1 Axes>"
      ]
     },
     "metadata": {},
     "output_type": "display_data"
    },
    {
     "data": {
      "image/png": "[encoded data removed]",
      "text/plain": [
       "<Figure size 640x480 with 1 Axes>"
      ]
     },
     "metadata": {},
     "output_type": "display_data"
    }
   ],
   "source": [
    "import matplotlib.pyplot as plt\n",
    "\n",
    "# Plotting training and validation loss\n",
    "plt.plot(history.history['loss'], label='Training Loss')\n",
    "plt.plot(history.history['val_loss'], label='Validation Loss')\n",
    "plt.xlabel('Epoch')\n",
    "plt.ylabel('Loss')\n",
    "plt.legend()\n",
    "plt.show()\n",
    "\n",
    "# Plotting training and validation accuracy\n",
    "plt.plot(history.history['accuracy'], label='Training Accuracy')\n",
    "plt.plot(history.history['val_accuracy'], label='Validation Accuracy')\n",
    "plt.xlabel('Epoch')\n",
    "plt.ylabel('Accuracy')\n",
    "plt.legend()\n",
    "plt.show()\n"
   ]
  },
  {
   "cell_type": "markdown",
   "metadata": {},
   "source": [
    "Both graphs suggest that the model is fitting well to the training data and generalizing well to the validation data, as indicated by the close alignment of the training and validation lines."
   ]
  }
 ],
 "metadata": {
  "kernelspec": {
   "display_name": "Python 3",
   "language": "python",
   "name": "python3"
  },
  "language_info": {
   "codemirror_mode": {
    "name": "ipython",
    "version": 3
   },
   "file_extension": ".py",
   "mimetype": "text/x-python",
   "name": "python",
   "nbconvert_exporter": "python",
   "pygments_lexer": "ipython3",
   "version": "3.8.10"
  }
 },
 "nbformat": 4,
 "nbformat_minor": 2
}
