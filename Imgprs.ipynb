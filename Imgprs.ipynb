{
  "nbformat": 4,
  "nbformat_minor": 0,
  "metadata": {
    "colab": {
      "provenance": []
    },
    "kernelspec": {
      "name": "python3",
      "display_name": "Python 3"
    },
    "language_info": {
      "name": "python"
    }
  },
  "cells": [
    {
      "cell_type": "code",
      "source": [
        "from google.colab import drive\n",
        "drive.mount('/content/drive')\n"
      ],
      "metadata": {
        "colab": {
          "base_uri": "https://localhost:8080/"
        },
        "id": "tOqZ4QkWuCTR",
        "outputId": "e95f472f-f882-4547-b9e4-721de1f56780"
      },
      "execution_count": null,
      "outputs": [
        {
          "output_type": "stream",
          "name": "stdout",
          "text": [
            "Mounted at /content/drive\n"
          ]
        }
      ]
    },
    {
      "cell_type": "code",
      "source": [
        "image_folder_path = '/content/drive/MyDrive/Images'\n"
      ],
      "metadata": {
        "id": "YjGky48wuKla"
      },
      "execution_count": null,
      "outputs": []
    },
    {
      "cell_type": "code",
      "source": [
        "!pip install opencv-python-headless scikit-image\n"
      ],
      "metadata": {
        "colab": {
          "base_uri": "https://localhost:8080/"
        },
        "id": "lKq48veEuY_1",
        "outputId": "553f2351-67bf-4c11-d9d3-0cde48df753c"
      },
      "execution_count": null,
      "outputs": [
        {
          "output_type": "stream",
          "name": "stdout",
          "text": [
            "Requirement already satisfied: opencv-python-headless in /usr/local/lib/python3.10/dist-packages (4.10.0.82)\n",
            "Requirement already satisfied: scikit-image in /usr/local/lib/python3.10/dist-packages (0.19.3)\n",
            "Requirement already satisfied: numpy>=1.21.2 in /usr/local/lib/python3.10/dist-packages (from opencv-python-headless) (1.25.2)\n",
            "Requirement already satisfied: scipy>=1.4.1 in /usr/local/lib/python3.10/dist-packages (from scikit-image) (1.11.4)\n",
            "Requirement already satisfied: networkx>=2.2 in /usr/local/lib/python3.10/dist-packages (from scikit-image) (3.3)\n",
            "Requirement already satisfied: pillow!=7.1.0,!=7.1.1,!=8.3.0,>=6.1.0 in /usr/local/lib/python3.10/dist-packages (from scikit-image) (9.4.0)\n",
            "Requirement already satisfied: imageio>=2.4.1 in /usr/local/lib/python3.10/dist-packages (from scikit-image) (2.31.6)\n",
            "Requirement already satisfied: tifffile>=2019.7.26 in /usr/local/lib/python3.10/dist-packages (from scikit-image) (2024.5.22)\n",
            "Requirement already satisfied: PyWavelets>=1.1.1 in /usr/local/lib/python3.10/dist-packages (from scikit-image) (1.6.0)\n",
            "Requirement already satisfied: packaging>=20.0 in /usr/local/lib/python3.10/dist-packages (from scikit-image) (24.1)\n"
          ]
        }
      ]
    },
    {
      "cell_type": "code",
      "source": [
        "import cv2\n",
        "import numpy as np\n",
        "\n",
        "def remove_background(image):\n",
        "    # Convert image to grayscale\n",
        "    gray = cv2.cvtColor(image, cv2.COLOR_BGR2GRAY)\n",
        "\n",
        "    # Apply a binary threshold to get a binary image\n",
        "    _, binary = cv2.threshold(gray, 128, 255, cv2.THRESH_BINARY_INV + cv2.THRESH_OTSU)\n",
        "\n",
        "    # Invert the binary image\n",
        "    binary = cv2.bitwise_not(binary)\n",
        "\n",
        "    # Find contours\n",
        "    contours, _ = cv2.findContours(binary, cv2.RETR_EXTERNAL, cv2.CHAIN_APPROX_SIMPLE)\n",
        "\n",
        "    # Create a mask from the largest contour\n",
        "    mask = np.zeros_like(image)\n",
        "    cv2.drawContours(mask, contours, -1, (255, 255, 255), thickness=cv2.FILLED)\n",
        "\n",
        "    # Remove background\n",
        "    result = cv2.bitwise_and(image, mask)\n",
        "    return result\n"
      ],
      "metadata": {
        "id": "FgY7Mafjv_JC"
      },
      "execution_count": null,
      "outputs": []
    },
    {
      "cell_type": "code",
      "source": [
        "def denoise_image(image):\n",
        "    return cv2.fastNlMeansDenoisingColored(image, None, 10, 10, 7, 21)\n"
      ],
      "metadata": {
        "id": "jkuS1vUPwKtf"
      },
      "execution_count": null,
      "outputs": []
    },
    {
      "cell_type": "code",
      "source": [
        "def resample_image(image, scale_percent):\n",
        "    width = int(image.shape[1] * scale_percent / 100)\n",
        "    height = int(image.shape[0] * scale_percent / 100)\n",
        "    return cv2.resize(image, (width, height), interpolation = cv2.INTER_AREA)\n"
      ],
      "metadata": {
        "id": "s9NFN-LywNOM"
      },
      "execution_count": null,
      "outputs": []
    },
    {
      "cell_type": "code",
      "source": [
        "def register_image(image, reference_image):\n",
        "    # Placeholder: Implement actual registration logic here\n",
        "    return image  # Returning the image as-is for this example\n"
      ],
      "metadata": {
        "id": "PeQ6BVfawT8I"
      },
      "execution_count": null,
      "outputs": []
    },
    {
      "cell_type": "code",
      "source": [
        "def normalize_intensity(image):\n",
        "    img_yuv = cv2.cvtColor(image, cv2.COLOR_BGR2YUV)\n",
        "    img_yuv[:,:,0] = cv2.equalizeHist(img_yuv[:,:,0])\n",
        "    return cv2.cvtColor(img_yuv, cv2.COLOR_YUV2BGR)\n"
      ],
      "metadata": {
        "id": "VKkG-IMpwX-E"
      },
      "execution_count": null,
      "outputs": []
    },
    {
      "cell_type": "code",
      "source": [
        "def resize_image(image, size):\n",
        "    return cv2.resize(image, size, interpolation = cv2.INTER_AREA)\n"
      ],
      "metadata": {
        "id": "ZkwvmeOVwbQB"
      },
      "execution_count": null,
      "outputs": []
    },
    {
      "cell_type": "code",
      "source": [
        "def scale_pixels(image):\n",
        "    return image / 255.0\n"
      ],
      "metadata": {
        "id": "pNoTQ6tsweoT"
      },
      "execution_count": null,
      "outputs": []
    },
    {
      "cell_type": "code",
      "source": [
        "import os\n",
        "from skimage import io\n",
        "\n",
        "# Define the path to your dataset\n",
        "dataset_path = '/content/drive/MyDrive/Images'\n",
        "\n",
        "# Define the output path\n",
        "output_path = '/content/drive/MyDrive/processed_dataset'\n",
        "os.makedirs(output_path, exist_ok=True)\n",
        "\n",
        "# Define the target size for resizing\n",
        "target_size = (256, 256)  # Example size\n",
        "\n",
        "# Process each image in the dataset\n",
        "for filename in os.listdir(dataset_path):\n",
        "    if filename.endswith(\".jpg\") or filename.endswith(\".png\"):  # Add other formats if necessary\n",
        "        img_path = os.path.join(dataset_path, filename)\n",
        "        image = io.imread(img_path)\n",
        "\n",
        "        # Apply the processing steps\n",
        "        image = remove_background(image)\n",
        "        image = denoise_image(image)\n",
        "        image = resample_image(image, scale_percent=50)  # Example: resample to 50% of the original size\n",
        "        image = register_image(image, reference_image=image)  # Using the same image as reference for simplicity\n",
        "        image = normalize_intensity(image)\n",
        "        image = resize_image(image, target_size)\n",
        "        image = scale_pixels(image)\n",
        "\n",
        "        # Save the processed image\n",
        "        output_img_path = os.path.join(output_path, filename)\n",
        "        io.imsave(output_img_path, (image * 255).astype(np.uint8))  # Scaling back to 0-255 and saving\n"
      ],
      "metadata": {
        "colab": {
          "base_uri": "https://localhost:8080/"
        },
        "id": "9hz9qxqgwhmt",
        "outputId": "6d351ee1-430e-4af7-851e-bd72d5165924"
      },
      "execution_count": null,
      "outputs": [
        {
          "metadata": {
            "tags": null
          },
          "name": "stderr",
          "output_type": "stream",
          "text": [
            "<ipython-input-11-20b01df69078>:31: UserWarning: /content/drive/MyDrive/processed_dataset/2273028514_d7b584f73d.jpg is a low contrast image\n",
            "  io.imsave(output_img_path, (image * 255).astype(np.uint8))  # Scaling back to 0-255 and saving\n"
          ]
        }
      ]
    }
  ]
}