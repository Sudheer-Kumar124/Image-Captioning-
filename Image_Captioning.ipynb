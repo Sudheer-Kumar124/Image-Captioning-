{
  "nbformat": 4,
  "nbformat_minor": 0,
  "metadata": {
    "colab": {
      "provenance": []
    },
    "kernelspec": {
      "name": "python3",
      "display_name": "Python 3"
    },
    "language_info": {
      "name": "python"
    }
  },
  "cells": [
    {
      "cell_type": "code",
      "execution_count": 5,
      "metadata": {
        "colab": {
          "base_uri": "https://localhost:8080/"
        },
        "id": "7M2QcK9sr8G2",
        "outputId": "f69991ca-80b9-431c-d6b3-3c1a0723e7d9"
      },
      "outputs": [
        {
          "output_type": "stream",
          "name": "stdout",
          "text": [
            "Collecting opendatasets\n",
            "  Downloading opendatasets-0.1.22-py3-none-any.whl (15 kB)\n",
            "Requirement already satisfied: tqdm in /usr/local/lib/python3.10/dist-packages (from opendatasets) (4.66.4)\n",
            "Requirement already satisfied: kaggle in /usr/local/lib/python3.10/dist-packages (from opendatasets) (1.6.14)\n",
            "Requirement already satisfied: click in /usr/local/lib/python3.10/dist-packages (from opendatasets) (8.1.7)\n",
            "Requirement already satisfied: six>=1.10 in /usr/local/lib/python3.10/dist-packages (from kaggle->opendatasets) (1.16.0)\n",
            "Requirement already satisfied: certifi>=2023.7.22 in /usr/local/lib/python3.10/dist-packages (from kaggle->opendatasets) (2024.6.2)\n",
            "Requirement already satisfied: python-dateutil in /usr/local/lib/python3.10/dist-packages (from kaggle->opendatasets) (2.8.2)\n",
            "Requirement already satisfied: requests in /usr/local/lib/python3.10/dist-packages (from kaggle->opendatasets) (2.31.0)\n",
            "Requirement already satisfied: python-slugify in /usr/local/lib/python3.10/dist-packages (from kaggle->opendatasets) (8.0.4)\n",
            "Requirement already satisfied: urllib3 in /usr/local/lib/python3.10/dist-packages (from kaggle->opendatasets) (2.0.7)\n",
            "Requirement already satisfied: bleach in /usr/local/lib/python3.10/dist-packages (from kaggle->opendatasets) (6.1.0)\n",
            "Requirement already satisfied: webencodings in /usr/local/lib/python3.10/dist-packages (from bleach->kaggle->opendatasets) (0.5.1)\n",
            "Requirement already satisfied: text-unidecode>=1.3 in /usr/local/lib/python3.10/dist-packages (from python-slugify->kaggle->opendatasets) (1.3)\n",
            "Requirement already satisfied: charset-normalizer<4,>=2 in /usr/local/lib/python3.10/dist-packages (from requests->kaggle->opendatasets) (3.3.2)\n",
            "Requirement already satisfied: idna<4,>=2.5 in /usr/local/lib/python3.10/dist-packages (from requests->kaggle->opendatasets) (3.7)\n",
            "Installing collected packages: opendatasets\n",
            "Successfully installed opendatasets-0.1.22\n"
          ]
        }
      ],
      "source": [
        "pip install opendatasets"
      ]
    },
    {
      "cell_type": "code",
      "source": [
        "import opendatasets as od\n",
        "od.download(\"https://www.kaggle.com/datasets/virajbagal/roco-dataset?select=all_data\")"
      ],
      "metadata": {
        "colab": {
          "base_uri": "https://localhost:8080/"
        },
        "id": "HrcQ1Pp2sA_t",
        "outputId": "783fc04c-c39b-4cdc-9979-61fcdaf3c717"
      },
      "execution_count": 6,
      "outputs": [
        {
          "output_type": "stream",
          "name": "stdout",
          "text": [
            "Please provide your Kaggle credentials to download this dataset. Learn more: http://bit.ly/kaggle-creds\n",
            "Your Kaggle username: siddheshatkar\n",
            "Your Kaggle Key: ··········\n",
            "Dataset URL: https://www.kaggle.com/datasets/virajbagal/roco-dataset\n",
            "Downloading roco-dataset.zip to ./roco-dataset\n"
          ]
        },
        {
          "output_type": "stream",
          "name": "stderr",
          "text": [
            "100%|██████████| 6.19G/6.19G [01:20<00:00, 83.0MB/s]\n"
          ]
        },
        {
          "output_type": "stream",
          "name": "stdout",
          "text": [
            "\n"
          ]
        }
      ]
    },
    {
      "cell_type": "code",
      "source": [
        "import os\n",
        "import numpy as np\n",
        "import pandas as pd\n",
        "import tensorflow as tf\n",
        "from sklearn.model_selection import train_test_split\n",
        "from tensorflow.keras.preprocessing.image import ImageDataGenerator\n",
        "from tensorflow.keras.preprocessing.text import Tokenizer\n",
        "from tensorflow.keras.preprocessing.sequence import pad_sequences"
      ],
      "metadata": {
        "id": "qdL_T1njc2pO"
      },
      "execution_count": 3,
      "outputs": []
    },
    {
      "cell_type": "code",
      "source": [
        "# Read CSV dataset from Pandas\n",
        "df_train = pd.read_csv('/content/roco-dataset/all_data/train/radiologytraindata.csv', delimiter=',') #, nrows = nRowsRead\n",
        "df_train.dataframeName = '/content/roco-dataset/all_data/test/radiologytestdata.csv'\n",
        "nRow, nCol = df_train.shape\n",
        "print(f'There are {nRow} rows and {nCol} columns')"
      ],
      "metadata": {
        "colab": {
          "base_uri": "https://localhost:8080/"
        },
        "id": "WVD47Tg2su8c",
        "outputId": "a85c50a8-9f21-4fde-f3d8-0e89567db698"
      },
      "execution_count": 7,
      "outputs": [
        {
          "output_type": "stream",
          "name": "stdout",
          "text": [
            "There are 65450 rows and 3 columns\n"
          ]
        }
      ]
    },
    {
      "cell_type": "code",
      "source": [
        "print(df_train.head())"
      ],
      "metadata": {
        "colab": {
          "base_uri": "https://localhost:8080/"
        },
        "id": "W8to-9FYtNaA",
        "outputId": "d26ebdd9-6e3c-4be4-c40c-a2552eb5c758"
      },
      "execution_count": 8,
      "outputs": [
        {
          "output_type": "stream",
          "name": "stdout",
          "text": [
            "           id                                    name  \\\n",
            "0  ROCO_00002          PMC4083729_AMHSR-4-14-g002.jpg   \n",
            "1  ROCO_00003       PMC2837471_IJD2009-150251.001.jpg   \n",
            "2  ROCO_00004  PMC2505281_11999_2007_30_Fig6_HTML.jpg   \n",
            "3  ROCO_00005       PMC3745845_IJD2013-683423.005.jpg   \n",
            "4  ROCO_00007   PMC4917066_amjcaserep-17-301-g001.jpg   \n",
            "\n",
            "                                             caption  \n",
            "0   Computed tomography scan in axial view showin...  \n",
            "1   Bacterial contamination occurred after comple...  \n",
            "2   The patient had residual paralysis of the han...  \n",
            "3    Panoramic radiograph after immediate loading.\\n  \n",
            "4   Plain abdomen x-ray: Multiple air levels at t...  \n"
          ]
        }
      ]
    },
    {
      "cell_type": "code",
      "source": [
        "df_train['images'] = \"/kaggle/input/roco-dataset/all_data/train/radiology/images/\" + df_train['name']\n",
        "df_train.head()"
      ],
      "metadata": {
        "colab": {
          "base_uri": "https://localhost:8080/",
          "height": 521
        },
        "id": "FACCRAG1tSBL",
        "outputId": "de7a18cc-6d39-4e7a-88a1-bcf05ffae58c"
      },
      "execution_count": 9,
      "outputs": [
        {
          "output_type": "execute_result",
          "data": {
            "text/plain": [
              "           id                                    name  \\\n",
              "0  ROCO_00002          PMC4083729_AMHSR-4-14-g002.jpg   \n",
              "1  ROCO_00003       PMC2837471_IJD2009-150251.001.jpg   \n",
              "2  ROCO_00004  PMC2505281_11999_2007_30_Fig6_HTML.jpg   \n",
              "3  ROCO_00005       PMC3745845_IJD2013-683423.005.jpg   \n",
              "4  ROCO_00007   PMC4917066_amjcaserep-17-301-g001.jpg   \n",
              "\n",
              "                                             caption  \\\n",
              "0   Computed tomography scan in axial view showin...   \n",
              "1   Bacterial contamination occurred after comple...   \n",
              "2   The patient had residual paralysis of the han...   \n",
              "3    Panoramic radiograph after immediate loading.\\n   \n",
              "4   Plain abdomen x-ray: Multiple air levels at t...   \n",
              "\n",
              "                                              images  \n",
              "0  /kaggle/input/roco-dataset/all_data/train/radi...  \n",
              "1  /kaggle/input/roco-dataset/all_data/train/radi...  \n",
              "2  /kaggle/input/roco-dataset/all_data/train/radi...  \n",
              "3  /kaggle/input/roco-dataset/all_data/train/radi...  \n",
              "4  /kaggle/input/roco-dataset/all_data/train/radi...  "
            ],
            "text/html": [
              "\n",
              "  <div id=\"df-b31f8733-6ce8-44bb-8e10-d2e91a54ceb0\" class=\"colab-df-container\">\n",
              "    <div>\n",
              "<style scoped>\n",
              "    .dataframe tbody tr th:only-of-type {\n",
              "        vertical-align: middle;\n",
              "    }\n",
              "\n",
              "    .dataframe tbody tr th {\n",
              "        vertical-align: top;\n",
              "    }\n",
              "\n",
              "    .dataframe thead th {\n",
              "        text-align: right;\n",
              "    }\n",
              "</style>\n",
              "<table border=\"1\" class=\"dataframe\">\n",
              "  <thead>\n",
              "    <tr style=\"text-align: right;\">\n",
              "      <th></th>\n",
              "      <th>id</th>\n",
              "      <th>name</th>\n",
              "      <th>caption</th>\n",
              "      <th>images</th>\n",
              "    </tr>\n",
              "  </thead>\n",
              "  <tbody>\n",
              "    <tr>\n",
              "      <th>0</th>\n",
              "      <td>ROCO_00002</td>\n",
              "      <td>PMC4083729_AMHSR-4-14-g002.jpg</td>\n",
              "      <td>Computed tomography scan in axial view showin...</td>\n",
              "      <td>/kaggle/input/roco-dataset/all_data/train/radi...</td>\n",
              "    </tr>\n",
              "    <tr>\n",
              "      <th>1</th>\n",
              "      <td>ROCO_00003</td>\n",
              "      <td>PMC2837471_IJD2009-150251.001.jpg</td>\n",
              "      <td>Bacterial contamination occurred after comple...</td>\n",
              "      <td>/kaggle/input/roco-dataset/all_data/train/radi...</td>\n",
              "    </tr>\n",
              "    <tr>\n",
              "      <th>2</th>\n",
              "      <td>ROCO_00004</td>\n",
              "      <td>PMC2505281_11999_2007_30_Fig6_HTML.jpg</td>\n",
              "      <td>The patient had residual paralysis of the han...</td>\n",
              "      <td>/kaggle/input/roco-dataset/all_data/train/radi...</td>\n",
              "    </tr>\n",
              "    <tr>\n",
              "      <th>3</th>\n",
              "      <td>ROCO_00005</td>\n",
              "      <td>PMC3745845_IJD2013-683423.005.jpg</td>\n",
              "      <td>Panoramic radiograph after immediate loading.\\n</td>\n",
              "      <td>/kaggle/input/roco-dataset/all_data/train/radi...</td>\n",
              "    </tr>\n",
              "    <tr>\n",
              "      <th>4</th>\n",
              "      <td>ROCO_00007</td>\n",
              "      <td>PMC4917066_amjcaserep-17-301-g001.jpg</td>\n",
              "      <td>Plain abdomen x-ray: Multiple air levels at t...</td>\n",
              "      <td>/kaggle/input/roco-dataset/all_data/train/radi...</td>\n",
              "    </tr>\n",
              "  </tbody>\n",
              "</table>\n",
              "</div>\n",
              "    <div class=\"colab-df-buttons\">\n",
              "\n",
              "  <div class=\"colab-df-container\">\n",
              "    <button class=\"colab-df-convert\" onclick=\"convertToInteractive('df-b31f8733-6ce8-44bb-8e10-d2e91a54ceb0')\"\n",
              "            title=\"Convert this dataframe to an interactive table.\"\n",
              "            style=\"display:none;\">\n",
              "\n",
              "  <svg xmlns=\"http://www.w3.org/2000/svg\" height=\"24px\" viewBox=\"0 -960 960 960\">\n",
              "    <path d=\"M120-120v-720h720v720H120Zm60-500h600v-160H180v160Zm220 220h160v-160H400v160Zm0 220h160v-160H400v160ZM180-400h160v-160H180v160Zm440 0h160v-160H620v160ZM180-180h160v-160H180v160Zm440 0h160v-160H620v160Z\"/>\n",
              "  </svg>\n",
              "    </button>\n",
              "\n",
              "  <style>\n",
              "    .colab-df-container {\n",
              "      display:flex;\n",
              "      gap: 12px;\n",
              "    }\n",
              "\n",
              "    .colab-df-convert {\n",
              "      background-color: #E8F0FE;\n",
              "      border: none;\n",
              "      border-radius: 50%;\n",
              "      cursor: pointer;\n",
              "      display: none;\n",
              "      fill: #1967D2;\n",
              "      height: 32px;\n",
              "      padding: 0 0 0 0;\n",
              "      width: 32px;\n",
              "    }\n",
              "\n",
              "    .colab-df-convert:hover {\n",
              "      background-color: #E2EBFA;\n",
              "      box-shadow: 0px 1px 2px rgba(60, 64, 67, 0.3), 0px 1px 3px 1px rgba(60, 64, 67, 0.15);\n",
              "      fill: #174EA6;\n",
              "    }\n",
              "\n",
              "    .colab-df-buttons div {\n",
              "      margin-bottom: 4px;\n",
              "    }\n",
              "\n",
              "    [theme=dark] .colab-df-convert {\n",
              "      background-color: #3B4455;\n",
              "      fill: #D2E3FC;\n",
              "    }\n",
              "\n",
              "    [theme=dark] .colab-df-convert:hover {\n",
              "      background-color: #434B5C;\n",
              "      box-shadow: 0px 1px 3px 1px rgba(0, 0, 0, 0.15);\n",
              "      filter: drop-shadow(0px 1px 2px rgba(0, 0, 0, 0.3));\n",
              "      fill: #FFFFFF;\n",
              "    }\n",
              "  </style>\n",
              "\n",
              "    <script>\n",
              "      const buttonEl =\n",
              "        document.querySelector('#df-b31f8733-6ce8-44bb-8e10-d2e91a54ceb0 button.colab-df-convert');\n",
              "      buttonEl.style.display =\n",
              "        google.colab.kernel.accessAllowed ? 'block' : 'none';\n",
              "\n",
              "      async function convertToInteractive(key) {\n",
              "        const element = document.querySelector('#df-b31f8733-6ce8-44bb-8e10-d2e91a54ceb0');\n",
              "        const dataTable =\n",
              "          await google.colab.kernel.invokeFunction('convertToInteractive',\n",
              "                                                    [key], {});\n",
              "        if (!dataTable) return;\n",
              "\n",
              "        const docLinkHtml = 'Like what you see? Visit the ' +\n",
              "          '<a target=\"_blank\" href=https://colab.research.google.com/notebooks/data_table.ipynb>data table notebook</a>'\n",
              "          + ' to learn more about interactive tables.';\n",
              "        element.innerHTML = '';\n",
              "        dataTable['output_type'] = 'display_data';\n",
              "        await google.colab.output.renderOutput(dataTable, element);\n",
              "        const docLink = document.createElement('div');\n",
              "        docLink.innerHTML = docLinkHtml;\n",
              "        element.appendChild(docLink);\n",
              "      }\n",
              "    </script>\n",
              "  </div>\n",
              "\n",
              "\n",
              "<div id=\"df-0a4fc2bd-cfd0-46ee-bdd7-86a2e953da90\">\n",
              "  <button class=\"colab-df-quickchart\" onclick=\"quickchart('df-0a4fc2bd-cfd0-46ee-bdd7-86a2e953da90')\"\n",
              "            title=\"Suggest charts\"\n",
              "            style=\"display:none;\">\n",
              "\n",
              "<svg xmlns=\"http://www.w3.org/2000/svg\" height=\"24px\"viewBox=\"0 0 24 24\"\n",
              "     width=\"24px\">\n",
              "    <g>\n",
              "        <path d=\"M19 3H5c-1.1 0-2 .9-2 2v14c0 1.1.9 2 2 2h14c1.1 0 2-.9 2-2V5c0-1.1-.9-2-2-2zM9 17H7v-7h2v7zm4 0h-2V7h2v10zm4 0h-2v-4h2v4z\"/>\n",
              "    </g>\n",
              "</svg>\n",
              "  </button>\n",
              "\n",
              "<style>\n",
              "  .colab-df-quickchart {\n",
              "      --bg-color: #E8F0FE;\n",
              "      --fill-color: #1967D2;\n",
              "      --hover-bg-color: #E2EBFA;\n",
              "      --hover-fill-color: #174EA6;\n",
              "      --disabled-fill-color: #AAA;\n",
              "      --disabled-bg-color: #DDD;\n",
              "  }\n",
              "\n",
              "  [theme=dark] .colab-df-quickchart {\n",
              "      --bg-color: #3B4455;\n",
              "      --fill-color: #D2E3FC;\n",
              "      --hover-bg-color: #434B5C;\n",
              "      --hover-fill-color: #FFFFFF;\n",
              "      --disabled-bg-color: #3B4455;\n",
              "      --disabled-fill-color: #666;\n",
              "  }\n",
              "\n",
              "  .colab-df-quickchart {\n",
              "    background-color: var(--bg-color);\n",
              "    border: none;\n",
              "    border-radius: 50%;\n",
              "    cursor: pointer;\n",
              "    display: none;\n",
              "    fill: var(--fill-color);\n",
              "    height: 32px;\n",
              "    padding: 0;\n",
              "    width: 32px;\n",
              "  }\n",
              "\n",
              "  .colab-df-quickchart:hover {\n",
              "    background-color: var(--hover-bg-color);\n",
              "    box-shadow: 0 1px 2px rgba(60, 64, 67, 0.3), 0 1px 3px 1px rgba(60, 64, 67, 0.15);\n",
              "    fill: var(--button-hover-fill-color);\n",
              "  }\n",
              "\n",
              "  .colab-df-quickchart-complete:disabled,\n",
              "  .colab-df-quickchart-complete:disabled:hover {\n",
              "    background-color: var(--disabled-bg-color);\n",
              "    fill: var(--disabled-fill-color);\n",
              "    box-shadow: none;\n",
              "  }\n",
              "\n",
              "  .colab-df-spinner {\n",
              "    border: 2px solid var(--fill-color);\n",
              "    border-color: transparent;\n",
              "    border-bottom-color: var(--fill-color);\n",
              "    animation:\n",
              "      spin 1s steps(1) infinite;\n",
              "  }\n",
              "\n",
              "  @keyframes spin {\n",
              "    0% {\n",
              "      border-color: transparent;\n",
              "      border-bottom-color: var(--fill-color);\n",
              "      border-left-color: var(--fill-color);\n",
              "    }\n",
              "    20% {\n",
              "      border-color: transparent;\n",
              "      border-left-color: var(--fill-color);\n",
              "      border-top-color: var(--fill-color);\n",
              "    }\n",
              "    30% {\n",
              "      border-color: transparent;\n",
              "      border-left-color: var(--fill-color);\n",
              "      border-top-color: var(--fill-color);\n",
              "      border-right-color: var(--fill-color);\n",
              "    }\n",
              "    40% {\n",
              "      border-color: transparent;\n",
              "      border-right-color: var(--fill-color);\n",
              "      border-top-color: var(--fill-color);\n",
              "    }\n",
              "    60% {\n",
              "      border-color: transparent;\n",
              "      border-right-color: var(--fill-color);\n",
              "    }\n",
              "    80% {\n",
              "      border-color: transparent;\n",
              "      border-right-color: var(--fill-color);\n",
              "      border-bottom-color: var(--fill-color);\n",
              "    }\n",
              "    90% {\n",
              "      border-color: transparent;\n",
              "      border-bottom-color: var(--fill-color);\n",
              "    }\n",
              "  }\n",
              "</style>\n",
              "\n",
              "  <script>\n",
              "    async function quickchart(key) {\n",
              "      const quickchartButtonEl =\n",
              "        document.querySelector('#' + key + ' button');\n",
              "      quickchartButtonEl.disabled = true;  // To prevent multiple clicks.\n",
              "      quickchartButtonEl.classList.add('colab-df-spinner');\n",
              "      try {\n",
              "        const charts = await google.colab.kernel.invokeFunction(\n",
              "            'suggestCharts', [key], {});\n",
              "      } catch (error) {\n",
              "        console.error('Error during call to suggestCharts:', error);\n",
              "      }\n",
              "      quickchartButtonEl.classList.remove('colab-df-spinner');\n",
              "      quickchartButtonEl.classList.add('colab-df-quickchart-complete');\n",
              "    }\n",
              "    (() => {\n",
              "      let quickchartButtonEl =\n",
              "        document.querySelector('#df-0a4fc2bd-cfd0-46ee-bdd7-86a2e953da90 button');\n",
              "      quickchartButtonEl.style.display =\n",
              "        google.colab.kernel.accessAllowed ? 'block' : 'none';\n",
              "    })();\n",
              "  </script>\n",
              "</div>\n",
              "\n",
              "    </div>\n",
              "  </div>\n"
            ],
            "application/vnd.google.colaboratory.intrinsic+json": {
              "type": "dataframe",
              "variable_name": "df_train",
              "summary": "{\n  \"name\": \"df_train\",\n  \"rows\": 65450,\n  \"fields\": [\n    {\n      \"column\": \"id\",\n      \"properties\": {\n        \"dtype\": \"string\",\n        \"num_unique_values\": 65450,\n        \"samples\": [\n          \"ROCO_23122\",\n          \"ROCO_46080\",\n          \"ROCO_71189\"\n        ],\n        \"semantic_type\": \"\",\n        \"description\": \"\"\n      }\n    },\n    {\n      \"column\": \"name\",\n      \"properties\": {\n        \"dtype\": \"string\",\n        \"num_unique_values\": 65450,\n        \"samples\": [\n          \"PMC4852590_kjn-10-31-g001.jpg\",\n          \"PMC5155106_CRIS2016-5365647.001.jpg\",\n          \"PMC5587902_fig-2.jpg\"\n        ],\n        \"semantic_type\": \"\",\n        \"description\": \"\"\n      }\n    },\n    {\n      \"column\": \"caption\",\n      \"properties\": {\n        \"dtype\": \"string\",\n        \"num_unique_values\": 64772,\n        \"samples\": [\n          \" CAT scan of the skull and orbit showing non-enhancing, low-density, cystic lesion at the inferomedial margin of the left orbit (red arrow)CAT:\\u00a0computerized axial tomography\\n\",\n          \" Magnetic resonance angiography showing bilateral carotid body tumors at the level of the carotid bifurcation.\\n\",\n          \" Magnetic resonance imaging-scan; a 2 cm \\u00d7 1.7 cm \\u00d7 2.4 cm sharp defined hypointense suspect mass of 7 mm diameter was detected lateral to the right lateral pterygoid muscle and medial to the right temporal muscle\\n\"\n        ],\n        \"semantic_type\": \"\",\n        \"description\": \"\"\n      }\n    },\n    {\n      \"column\": \"images\",\n      \"properties\": {\n        \"dtype\": \"string\",\n        \"num_unique_values\": 65450,\n        \"samples\": [\n          \"/kaggle/input/roco-dataset/all_data/train/radiology/images/PMC4852590_kjn-10-31-g001.jpg\",\n          \"/kaggle/input/roco-dataset/all_data/train/radiology/images/PMC5155106_CRIS2016-5365647.001.jpg\",\n          \"/kaggle/input/roco-dataset/all_data/train/radiology/images/PMC5587902_fig-2.jpg\"\n        ],\n        \"semantic_type\": \"\",\n        \"description\": \"\"\n      }\n    }\n  ]\n}"
            }
          },
          "metadata": {},
          "execution_count": 9
        }
      ]
    },
    {
      "cell_type": "code",
      "source": [
        "# Display basic information about the DataFrame\n",
        "print(df_train.info())"
      ],
      "metadata": {
        "colab": {
          "base_uri": "https://localhost:8080/"
        },
        "id": "8JYAufpRuC-J",
        "outputId": "e8aeb267-6a7e-4452-efc8-8760c2f434c6"
      },
      "execution_count": 10,
      "outputs": [
        {
          "output_type": "stream",
          "name": "stdout",
          "text": [
            "<class 'pandas.core.frame.DataFrame'>\n",
            "RangeIndex: 65450 entries, 0 to 65449\n",
            "Data columns (total 4 columns):\n",
            " #   Column   Non-Null Count  Dtype \n",
            "---  ------   --------------  ----- \n",
            " 0   id       65450 non-null  object\n",
            " 1   name     65450 non-null  object\n",
            " 2   caption  65450 non-null  object\n",
            " 3   images   65450 non-null  object\n",
            "dtypes: object(4)\n",
            "memory usage: 2.0+ MB\n",
            "None\n"
          ]
        }
      ]
    },
    {
      "cell_type": "code",
      "source": [
        "from matplotlib import pyplot as plt\n",
        "import seaborn as sns\n",
        "import pandas as pd\n",
        "plt.subplots(figsize=(8, 8))\n",
        "df_2dhist = pd.DataFrame({\n",
        "    x_label: grp['name'].value_counts()\n",
        "    for x_label, grp in _df_4.groupby('id')\n",
        "})\n",
        "sns.heatmap(df_2dhist, cmap='viridis')\n",
        "plt.xlabel('id')\n",
        "_ = plt.ylabel('name')"
      ],
      "metadata": {
        "colab": {
          "base_uri": "https://localhost:8080/",
          "height": 876
        },
        "id": "u0o8PoWavgux",
        "outputId": "5bc23927-4448-45bf-9d25-03a1e52b80b9"
      },
      "execution_count": 21,
      "outputs": [
        {
          "output_type": "error",
          "ename": "NameError",
          "evalue": "name '_df_4' is not defined",
          "traceback": [
            "\u001b[0;31m---------------------------------------------------------------------------\u001b[0m",
            "\u001b[0;31mNameError\u001b[0m                                 Traceback (most recent call last)",
            "\u001b[0;32m<ipython-input-21-f45f835749ea>\u001b[0m in \u001b[0;36m<cell line: 5>\u001b[0;34m()\u001b[0m\n\u001b[1;32m      5\u001b[0m df_2dhist = pd.DataFrame({\n\u001b[1;32m      6\u001b[0m     \u001b[0mx_label\u001b[0m\u001b[0;34m:\u001b[0m \u001b[0mgrp\u001b[0m\u001b[0;34m[\u001b[0m\u001b[0;34m'name'\u001b[0m\u001b[0;34m]\u001b[0m\u001b[0;34m.\u001b[0m\u001b[0mvalue_counts\u001b[0m\u001b[0;34m(\u001b[0m\u001b[0;34m)\u001b[0m\u001b[0;34m\u001b[0m\u001b[0;34m\u001b[0m\u001b[0m\n\u001b[0;32m----> 7\u001b[0;31m     \u001b[0;32mfor\u001b[0m \u001b[0mx_label\u001b[0m\u001b[0;34m,\u001b[0m \u001b[0mgrp\u001b[0m \u001b[0;32min\u001b[0m \u001b[0m_df_4\u001b[0m\u001b[0;34m.\u001b[0m\u001b[0mgroupby\u001b[0m\u001b[0;34m(\u001b[0m\u001b[0;34m'id'\u001b[0m\u001b[0;34m)\u001b[0m\u001b[0;34m\u001b[0m\u001b[0;34m\u001b[0m\u001b[0m\n\u001b[0m\u001b[1;32m      8\u001b[0m })\n\u001b[1;32m      9\u001b[0m \u001b[0msns\u001b[0m\u001b[0;34m.\u001b[0m\u001b[0mheatmap\u001b[0m\u001b[0;34m(\u001b[0m\u001b[0mdf_2dhist\u001b[0m\u001b[0;34m,\u001b[0m \u001b[0mcmap\u001b[0m\u001b[0;34m=\u001b[0m\u001b[0;34m'viridis'\u001b[0m\u001b[0;34m)\u001b[0m\u001b[0;34m\u001b[0m\u001b[0;34m\u001b[0m\u001b[0m\n",
            "\u001b[0;31mNameError\u001b[0m: name '_df_4' is not defined"
          ]
        },
        {
          "output_type": "display_data",
          "data": {
            "text/plain": [
              "<Figure size 800x800 with 1 Axes>"
            ],
            "image/png": "[encoded data removed]"
          },
          "metadata": {}
        }
      ]
    },
    {
      "cell_type": "code",
      "source": [
        "# Display statistical summary of numerical columns\n",
        "print(df_train.describe())"
      ],
      "metadata": {
        "colab": {
          "base_uri": "https://localhost:8080/"
        },
        "id": "QqH2RCaheQsE",
        "outputId": "6ab8a59a-504d-49f3-a067-db820a1124b4"
      },
      "execution_count": 12,
      "outputs": [
        {
          "output_type": "stream",
          "name": "stdout",
          "text": [
            "                id                            name  \\\n",
            "count        65450                           65450   \n",
            "unique       65450                           65450   \n",
            "top     ROCO_00002  PMC4083729_AMHSR-4-14-g002.jpg   \n",
            "freq             1                               1   \n",
            "\n",
            "                                 caption  \\\n",
            "count                              65450   \n",
            "unique                             64772   \n",
            "top      Initial panoramic radiograph.\\n   \n",
            "freq                                  19   \n",
            "\n",
            "                                                   images  \n",
            "count                                               65450  \n",
            "unique                                              65450  \n",
            "top     /kaggle/input/roco-dataset/all_data/train/radi...  \n",
            "freq                                                    1  \n"
          ]
        }
      ]
    },
    {
      "cell_type": "code",
      "source": [
        "# Display unique values for categorical columns\n",
        "for column in df_train.select_dtypes(include=['object']).columns:\n",
        "    print(f'Unique values in {column}: {df_train[column].unique()}')"
      ],
      "metadata": {
        "colab": {
          "base_uri": "https://localhost:8080/"
        },
        "id": "GDtJp0R6eWhL",
        "outputId": "5052f7cd-3045-415a-a9b0-8f033409740e"
      },
      "execution_count": 13,
      "outputs": [
        {
          "output_type": "stream",
          "name": "stdout",
          "text": [
            "Unique values in id: ['ROCO_00002' 'ROCO_00003' 'ROCO_00004' ... 'ROCO_81821' 'ROCO_81822'\n",
            " 'ROCO_81823']\n",
            "Unique values in name: ['PMC4083729_AMHSR-4-14-g002.jpg' 'PMC2837471_IJD2009-150251.001.jpg'\n",
            " 'PMC2505281_11999_2007_30_Fig6_HTML.jpg' ...\n",
            " 'PMC2974222_kjr-11-612-g001.jpg' 'PMC3532764_AJNS-7-151-g002.jpg'\n",
            " 'PMC3509000_pone.0050319.g002.jpg']\n",
            "Unique values in caption: [' Computed tomography scan in axial view showing obliteration of the left maxillary sinus\\n'\n",
            " ' Bacterial contamination occurred after completion of root canal treatment in the tooth, which remained with a temporary filling for 15 month.\\n'\n",
            " ' The patient had residual paralysis of the hand after poliomyelitis. It was necessary to stabilize the thumb with reference to the index finger. This was accomplished by placing a graft from the bone bank between the first and second metacarpals. The roentgenogram shows the complete healing of the graft one year later.\\n'\n",
            " ...\n",
            " ' Primary pulmonary tuberculosis in 18-year-old boy with typical radiographic findings. Chest radiograph shows patchy consolidation, nodules, and cavities (arrows) in bilateral upper lung zones.\\n'\n",
            " ' MRI brain with gadolinium, coronal view, showing welldefined tumor in lateral recess with part of the tumor free in 4th ventricle\\n'\n",
            " ' Contrast-enhanced 3D MRL image of the lower extremities.Coronal 3D MR Lymphography image of the lower extremities obtained from 20 min to 23 min after subcutaneous injection of contrast material into a 74-year-old female who underwent abdominal hysterectomy for the treatment of endometrial carcinoma. Her left extremity became swollen one year following surgery. Several abnormal dilated lymph vessels are clearly delineated in the left calf, which extend to the inner thigh (small arrows). In the contralateral normal extremity, a few lymphatic vessels show a discontinuous outline with relatively low signal intensity (small arrows). The concomitantly enhanced vein shows a linear structure with lower signal intensity (large arrows).\\n']\n",
            "Unique values in images: ['/kaggle/input/roco-dataset/all_data/train/radiology/images/PMC4083729_AMHSR-4-14-g002.jpg'\n",
            " '/kaggle/input/roco-dataset/all_data/train/radiology/images/PMC2837471_IJD2009-150251.001.jpg'\n",
            " '/kaggle/input/roco-dataset/all_data/train/radiology/images/PMC2505281_11999_2007_30_Fig6_HTML.jpg'\n",
            " ...\n",
            " '/kaggle/input/roco-dataset/all_data/train/radiology/images/PMC2974222_kjr-11-612-g001.jpg'\n",
            " '/kaggle/input/roco-dataset/all_data/train/radiology/images/PMC3532764_AJNS-7-151-g002.jpg'\n",
            " '/kaggle/input/roco-dataset/all_data/train/radiology/images/PMC3509000_pone.0050319.g002.jpg']\n"
          ]
        }
      ]
    },
    {
      "cell_type": "code",
      "source": [
        "# Check for missing values\n",
        "print(df_train.isnull().sum())"
      ],
      "metadata": {
        "colab": {
          "base_uri": "https://localhost:8080/"
        },
        "id": "bNv-wsgaebES",
        "outputId": "ce105aee-fdc9-4f4f-e194-918364f62822"
      },
      "execution_count": 14,
      "outputs": [
        {
          "output_type": "stream",
          "name": "stdout",
          "text": [
            "id         0\n",
            "name       0\n",
            "caption    0\n",
            "images     0\n",
            "dtype: int64\n"
          ]
        }
      ]
    },
    {
      "cell_type": "code",
      "source": [
        "from sklearn.preprocessing import LabelEncoder\n",
        "from sklearn.preprocessing import StandardScaler\n",
        "# Encode categorical columns using LabelEncoder\n",
        "label_encoder = LabelEncoder()\n",
        "\n",
        "for column in df_train.select_dtypes(include=['object']).columns:\n",
        "    df_train[column] = label_encoder.fit_transform(df_train[column])"
      ],
      "metadata": {
        "id": "OfylN5evee94"
      },
      "execution_count": 15,
      "outputs": []
    },
    {
      "cell_type": "code",
      "source": [
        "X = df_train.drop(columns=['caption'])  # replace 'target_column' with the actual target column name\n",
        "y = df_train['id']  # replace 'target_column' with the actual target column name\n"
      ],
      "metadata": {
        "id": "d0UnTjDgfn8_"
      },
      "execution_count": 18,
      "outputs": []
    },
    {
      "cell_type": "code",
      "source": [
        "from sklearn.model_selection import train_test_split\n",
        "\n",
        "X_train, X_test, y_train, y_test = train_test_split(X, y, test_size=0.2, random_state=42)\n",
        "\n",
        "print(f'Shape of X_train: {X_train.shape}')\n",
        "print(f'Shape of X_test: {X_test.shape}')\n",
        "print(f'Shape of y_train: {y_train.shape}')\n",
        "print(f'Shape of y_test: {y_test.shape}')"
      ],
      "metadata": {
        "colab": {
          "base_uri": "https://localhost:8080/"
        },
        "id": "gj_BL4tteiVD",
        "outputId": "2271b564-aa02-4b8a-ff92-9171bdacabf0"
      },
      "execution_count": 19,
      "outputs": [
        {
          "output_type": "stream",
          "name": "stdout",
          "text": [
            "Shape of X_train: (52360, 3)\n",
            "Shape of X_test: (13090, 3)\n",
            "Shape of y_train: (52360,)\n",
            "Shape of y_test: (13090,)\n"
          ]
        }
      ]
    },
    {
      "cell_type": "code",
      "source": [],
      "metadata": {
        "id": "o4ODwykceo0x"
      },
      "execution_count": null,
      "outputs": []
    }
  ]
}